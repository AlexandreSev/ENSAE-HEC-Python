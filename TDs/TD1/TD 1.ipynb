{
 "cells": [
  {
   "cell_type": "markdown",
   "metadata": {},
   "source": [
    "# TD 1\n",
    "\n",
    "## Exercise 1\n",
    "\n",
    "Écrivez un programme qui échange la valeur de deux variables entières var1 et var2."
   ]
  },
  {
   "cell_type": "code",
   "execution_count": null,
   "metadata": {},
   "outputs": [],
   "source": [
    "var1 = 7\n",
    "var2 = 13\n",
    "print(f'var1 vaut {var1}, var2 vaut {var2}')"
   ]
  },
  {
   "cell_type": "code",
   "execution_count": null,
   "metadata": {},
   "outputs": [],
   "source": [
    "# Votre progamme ici\n"
   ]
  },
  {
   "cell_type": "code",
   "execution_count": null,
   "metadata": {},
   "outputs": [],
   "source": [
    "print(f'var1 vaut {var1}, var2 vaut {var2}')\n",
    "# Doit afficher l'inverse du premier print, à savoir 'var1 vaut 13 et var2 vaut 7'"
   ]
  },
  {
   "cell_type": "code",
   "execution_count": null,
   "metadata": {},
   "outputs": [],
   "source": [
    "# %load solutions/swap_variables.py"
   ]
  },
  {
   "cell_type": "markdown",
   "metadata": {},
   "source": [
    "## Exercise 2\n",
    "\n",
    "1) On souhaite écrire un algorithme pour :\n",
    "- demander à l'utilisateur de saisir un nombre entre 0 (inclus) et 8 (exclu) - stocker cette saisie dans une variable nommée var\n",
    "- afficher \"gagné\" si le nombre appartient à l'intervalle [0;8[\n",
    "- afficher \"perdu\" si le nombre n'appartient pas à cet intervalle.\n",
    "\n",
    "Pour demander à l'utilisateur de saisir un nombre, il faut utiliser la commande input. Par exemple, l'instruction input('Description') va faire apparaitre la description et un champs pour rentrer une valeur, et renvoyer cette valeur. Attention, celle-ci sera typée str.\n",
    "\n",
    "Dans un premier temps, demander une valeur à l'utilisateur et stocker là dans la variable **user_number**.\n",
    "\n",
    "Dans un second temps, créer une expression booléenne **in_interval** qui vaudra True si le nombre appartient à l'intervalle [0;8[ (8 exclu) et False sinon.\n",
    "\n",
    "Enfin, tester si **in_interval** est vraie ou fausse."
   ]
  },
  {
   "cell_type": "code",
   "execution_count": null,
   "metadata": {},
   "outputs": [],
   "source": [
    "# Votre programme ici\n"
   ]
  },
  {
   "cell_type": "code",
   "execution_count": null,
   "metadata": {},
   "outputs": [],
   "source": [
    "# %load -r 1:7 solutions/interval.py\n",
    "user_number = int(input('Please, enter a number: '))\n",
    "in_interval = user_number >= 0 and user_number < 8\n",
    "if in_interval:\n",
    "    print('Gagné !')\n",
    "else:\n",
    "    print('Perdu !')"
   ]
  },
  {
   "cell_type": "markdown",
   "metadata": {},
   "source": [
    "2) En reprenant les étapes précédentes, faites de même pour l'intervalle **[0; 8[ U ]10; 13.5]**."
   ]
  },
  {
   "cell_type": "code",
   "execution_count": null,
   "metadata": {},
   "outputs": [],
   "source": [
    "# Votre programme ici\n"
   ]
  },
  {
   "cell_type": "code",
   "execution_count": null,
   "metadata": {},
   "outputs": [],
   "source": [
    "# %load -r 8:14 solutions/interval.py"
   ]
  },
  {
   "cell_type": "markdown",
   "metadata": {},
   "source": [
    "3) Refaite le petit 2 sans créer la variable **in_interval**"
   ]
  },
  {
   "cell_type": "code",
   "execution_count": null,
   "metadata": {},
   "outputs": [],
   "source": [
    "# Votre programme ici\n"
   ]
  },
  {
   "cell_type": "code",
   "execution_count": null,
   "metadata": {},
   "outputs": [],
   "source": [
    "# %load -r 15:20 solutions/interval.py"
   ]
  },
  {
   "cell_type": "markdown",
   "metadata": {},
   "source": [
    "## Exercise 3\n",
    "\n",
    "Écriver un programme qui demande à l'utilisateur de rentrer trois nombres et qui affiche le plus grand d'entre eux."
   ]
  },
  {
   "cell_type": "code",
   "execution_count": null,
   "metadata": {},
   "outputs": [],
   "source": [
    "# Votre programme ici\n"
   ]
  },
  {
   "cell_type": "code",
   "execution_count": null,
   "metadata": {},
   "outputs": [],
   "source": [
    "# %load solutions/max_of_3.py"
   ]
  },
  {
   "cell_type": "markdown",
   "metadata": {},
   "source": [
    "## Exercise 4\n",
    "\n",
    "Écriver un programme qui teste si un nombre est pair, impair, multiple de 4 et non multiple de 4."
   ]
  },
  {
   "cell_type": "code",
   "execution_count": null,
   "metadata": {},
   "outputs": [],
   "source": [
    "# Votre programme ici\n"
   ]
  },
  {
   "cell_type": "code",
   "execution_count": null,
   "metadata": {},
   "outputs": [],
   "source": [
    "# %load solutions/divisibility.py"
   ]
  },
  {
   "cell_type": "markdown",
   "metadata": {},
   "source": [
    "## Exercise 5\n",
    "\n",
    "Écrire un algorithme qui lit deux valeurs réelles a et b puis qui affiche la ou les éventuelle(s) solution(s) de l'équation ax+b=0. Attention aux cas particuliers."
   ]
  },
  {
   "cell_type": "code",
   "execution_count": null,
   "metadata": {},
   "outputs": [],
   "source": [
    "# Votre programme ici\n"
   ]
  },
  {
   "cell_type": "code",
   "execution_count": null,
   "metadata": {},
   "outputs": [],
   "source": [
    "# %load solutions/solver.py"
   ]
  },
  {
   "cell_type": "markdown",
   "metadata": {},
   "source": [
    "## Exercise 6\n",
    "1) Écrire un programme qui demande l’heure (saisir l’heure, les minutes et les secondes), et qui affiche l’heure qu’il sera une seconde plus tard. Par exemple, si l'utilisateur saisit 21, puis 32, puis 8, l'algorithme doit répondre : \"Dans une seconde, il sera 21 heure(s), 32 minute(s) et 9 seconde(s)\".\n",
    "\n",
    "On suppose que l'utilisateur entre une heure valide. Pas besoin donc de la vérifier.\n",
    "\n",
    "Pensez à bien séparer votre algorithme en 3 parties distinctes : la saisie des données, puis le traitement, et enfin l’affichage des résultats."
   ]
  },
  {
   "cell_type": "code",
   "execution_count": null,
   "metadata": {},
   "outputs": [],
   "source": [
    "# Votre programme ici\n"
   ]
  },
  {
   "cell_type": "code",
   "execution_count": null,
   "metadata": {},
   "outputs": [],
   "source": [
    "# %load -r :20 solutions/just_one_second.py"
   ]
  },
  {
   "cell_type": "markdown",
   "metadata": {},
   "source": [
    "2) Faites de même pour un nombre de secondes supplémentaires saisit par l'utilisateur."
   ]
  },
  {
   "cell_type": "code",
   "execution_count": null,
   "metadata": {},
   "outputs": [],
   "source": [
    "# Votre programme ici\n"
   ]
  },
  {
   "cell_type": "code",
   "execution_count": null,
   "metadata": {},
   "outputs": [],
   "source": [
    "# %load -r 21: solutions/just_one_second.py"
   ]
  },
  {
   "cell_type": "markdown",
   "metadata": {},
   "source": [
    "## Exercise 7\n",
    "\n",
    "Écrire un progamme qui demande un nombre et affiche l'ordinal anglais correspondant. Par exemple, si il lit 1, il devra afficher 1st, si il lit 15, il devra afficher 15th.\n",
    "\n",
    "Rappel: pour déterminer le suffixe, on regarde le dernier chiffre du nombre : si c’est 1, on ajoute le suffixe -st ; si c’est 2, le suffixe est -nd ; si c’est 3, le suffixe est -rd ; sinon le suffixe est -th.\n",
    "\n",
    "Il y a une exception : si l’avant-dernier chiffre du nombre est 1, le suffixe est toujours -th.\n",
    "\n",
    "Aide: le dernier chiffre d'un nombre val vaut exactement val%10"
   ]
  },
  {
   "cell_type": "code",
   "execution_count": null,
   "metadata": {},
   "outputs": [],
   "source": [
    "# Votre programme ici"
   ]
  },
  {
   "cell_type": "code",
   "execution_count": null,
   "metadata": {},
   "outputs": [],
   "source": [
    "# %load solutions/ordinal.py\n"
   ]
  },
  {
   "cell_type": "code",
   "execution_count": null,
   "metadata": {},
   "outputs": [],
   "source": []
  }
 ],
 "metadata": {
  "kernelspec": {
   "display_name": "Python 3",
   "language": "python",
   "name": "python3"
  },
  "language_info": {
   "codemirror_mode": {
    "name": "ipython",
    "version": 3
   },
   "file_extension": ".py",
   "mimetype": "text/x-python",
   "name": "python",
   "nbconvert_exporter": "python",
   "pygments_lexer": "ipython3",
   "version": "3.7.1"
  }
 },
 "nbformat": 4,
 "nbformat_minor": 2
}
