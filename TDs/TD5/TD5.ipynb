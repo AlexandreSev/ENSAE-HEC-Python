{
 "cells": [
  {
   "cell_type": "markdown",
   "metadata": {},
   "source": [
    "# TD5: les classes\n",
    "\n",
    "Dans ce TD, nous allons implémenter et jouer avec la structure d'arbre."
   ]
  },
  {
   "cell_type": "markdown",
   "metadata": {},
   "source": [
    "## 1. Définition d'un noeud\n",
    "\n",
    "Un arbre est composé de noeuds. Chaque noeud contient une ou plusieurs informations, et est lié à zéro, un ou plusieurs autres noeuds, que l'on apelle fils. Dans notre cas, un noeud contiendra une valeur, et sera lié à au plus 2 autres noeuds.\n",
    "\n",
    "Tout d'abord, écrivez la classe représentant un noeud. Celle-ci s'appelle `Node`. Pour construire un node, il y aura un argument obligatoire, `value` et deux arguments optionnels, `left` et `right`, qui auront pour valeur par défaut `None`.\n",
    "\n",
    "Lorsque l'on construit un node, chaque argument sera stocké dans un attribut du même nom."
   ]
  },
  {
   "cell_type": "code",
   "execution_count": null,
   "metadata": {},
   "outputs": [],
   "source": [
    "# Votre Code"
   ]
  },
  {
   "cell_type": "code",
   "execution_count": null,
   "metadata": {},
   "outputs": [],
   "source": [
    "# Test\n",
    "n = Node(value=5, left=None, right=Node(7, None, None))\n",
    "if n.value != 5:\n",
    "    print('Erreur')\n",
    "if n.right.value != 7:\n",
    "    print('Erreur!')"
   ]
  },
  {
   "cell_type": "code",
   "execution_count": null,
   "metadata": {},
   "outputs": [],
   "source": [
    "# %load solutions/node.py"
   ]
  },
  {
   "cell_type": "markdown",
   "metadata": {},
   "source": [
    "## 2. Définition d'un arbre\n",
    "\n",
    "Un arbre (`Tree`) est une classe simple, qui stocke un noeud dans son attribut `root` lors de sa construction."
   ]
  },
  {
   "cell_type": "code",
   "execution_count": null,
   "metadata": {},
   "outputs": [],
   "source": [
    "# Votre Code"
   ]
  },
  {
   "cell_type": "code",
   "execution_count": null,
   "metadata": {},
   "outputs": [],
   "source": [
    "# Test\n",
    "t = Tree(None)\n",
    "if t.root is not None:\n",
    "    print('Erreur')\n",
    "t = Tree(n)\n",
    "if t.root.value != 5:\n",
    "    print('Erreur')"
   ]
  },
  {
   "cell_type": "code",
   "execution_count": null,
   "metadata": {},
   "outputs": [],
   "source": [
    "# %load solutions/tree.py"
   ]
  },
  {
   "cell_type": "markdown",
   "metadata": {},
   "source": [
    "## 3. Extrême gauche\n",
    "\n",
    "Écrivez une fonction itérative, nommée `extreme_left`, qui prend en argument un arbre, et qui renvoit la valeur du dernier noeud rencontré en suivant les fils gauches (`left`). Si la racine de l'arbre est nulle, elle renvoit `None`."
   ]
  },
  {
   "cell_type": "code",
   "execution_count": null,
   "metadata": {},
   "outputs": [],
   "source": [
    "# Votre code"
   ]
  },
  {
   "cell_type": "code",
   "execution_count": null,
   "metadata": {},
   "outputs": [],
   "source": [
    "simple_tree = Tree(Node(1, Node(2, Node(4), Node(5, Node(7), Node(8))), Node(3, None, Node(6, Node(9)))))\n",
    "if extreme_left(simple_tree) != 4:\n",
    "    print('Erreur!')\n",
    "empty_tree = Tree(None)\n",
    "if extreme_left(empty_tree) is not None:\n",
    "    print('Erreur!')\n"
   ]
  },
  {
   "cell_type": "code",
   "execution_count": null,
   "metadata": {},
   "outputs": [],
   "source": [
    "# %load solutions/extreme_left.py"
   ]
  },
  {
   "cell_type": "markdown",
   "metadata": {},
   "source": [
    "## 4. Extrême droite\n",
    "\n",
    "Écrivez une fonction récursive, nommée `extreme_right`, qui prend en argument un arbre, et qui renvoit la valeur du dernier noeud rencontré en suivant les fils droits (`right`). Si la racine est nulle, elle renvoit `None`."
   ]
  },
  {
   "cell_type": "code",
   "execution_count": null,
   "metadata": {},
   "outputs": [],
   "source": [
    "# Votre Code"
   ]
  },
  {
   "cell_type": "code",
   "execution_count": null,
   "metadata": {},
   "outputs": [],
   "source": [
    "if extreme_right(simple_tree) != 6:\n",
    "    print('Erreur!')\n",
    "if extreme_right(empty_tree) is not None:\n",
    "    print('Erreur!')"
   ]
  },
  {
   "cell_type": "code",
   "execution_count": null,
   "metadata": {},
   "outputs": [],
   "source": [
    "# %load solutions/extreme_right.py"
   ]
  },
  {
   "cell_type": "markdown",
   "metadata": {},
   "source": [
    "## 5. Parcours In Order\n",
    "\n",
    "Il existe plusieurs façons de parcourir un arbre. La première est le parcours in order.\n",
    "\n",
    "Le but est d'afficher toutes les valeurs présentes dans l'arbre. Dans un parcours in order, on commence par l'enfant gauche, on affiche sa propre valeur, puis on affiche l'enfant droit. Attention, par \"afficher l'enfant\", on entend faire un parcours in order du sous arbre ayant pour racine cet enfant.\n",
    "\n",
    "Réécrivez la classe `Tree` en incluant une méthode `in_order` qui effectue un parcours in-order et affiche le résultat. Attention au typage `Node`/`Tree` !"
   ]
  },
  {
   "cell_type": "code",
   "execution_count": null,
   "metadata": {},
   "outputs": [],
   "source": [
    "# Votre code"
   ]
  },
  {
   "cell_type": "code",
   "execution_count": null,
   "metadata": {},
   "outputs": [],
   "source": [
    "simple_tree = Tree(Node(1, Node(2, Node(4), Node(5, Node(7), Node(8))), Node(3, None, Node(6, Node(9)))))\n",
    "simple_tree.in_order()\n",
    "# Doit afficher 4 2 7 5 8 1 3 9 6"
   ]
  },
  {
   "cell_type": "code",
   "execution_count": null,
   "metadata": {},
   "outputs": [],
   "source": [
    "# %load solutions/in_order.py"
   ]
  },
  {
   "cell_type": "markdown",
   "metadata": {},
   "source": [
    "## 6. Parcours Pre / Post order\n",
    "\n",
    "Deux autres façons de parcourir un arbre sont les parcours pre order et les parcours post order. Dans le premier cas, on affiche d'abord la valeur de son noeud, puis l'enfant gauche, puis l'enfant droit. Dans le second, on commence par l'enfant gauche, puis l'enfant droit et enfin sa propre valeur. Coder ces deux parcours sous forme de fonction."
   ]
  },
  {
   "cell_type": "code",
   "execution_count": null,
   "metadata": {},
   "outputs": [],
   "source": [
    "# Votre code"
   ]
  },
  {
   "cell_type": "code",
   "execution_count": null,
   "metadata": {},
   "outputs": [],
   "source": [
    "# Test\n",
    "pre_order(simple_tree)\n",
    "# Doit afficher 1 2 3 4 5 6 7 8 9\n",
    "post_order(simple_tree)\n",
    "# Doit afficher 4 7 8 5 2 9 6 3 1"
   ]
  },
  {
   "cell_type": "code",
   "execution_count": null,
   "metadata": {},
   "outputs": [],
   "source": [
    "# %load solutions/pre_post_order.py"
   ]
  },
  {
   "cell_type": "markdown",
   "metadata": {},
   "source": [
    "## 7. Arbre entier\n",
    "\n",
    "Un arbre est entier si tous ses noeuds ont soit 0, soit 2 enfants.\n",
    "\n",
    "Ecrivez un programme qui teste si un arbre est entier. Ce programme prend un arbre en entrée, et devra renvoyer vrai ou faux. Il ne devra rien afficher."
   ]
  },
  {
   "cell_type": "code",
   "execution_count": null,
   "metadata": {},
   "outputs": [],
   "source": [
    "# Arbres\n",
    "root_tree = Tree(Node('root'))\n",
    "full_tree = Tree(Node('A', Node('B'), Node('C', Node('F'), Node('G'))))\n",
    "perfect_tree = Tree(Node('A', Node('B', Node('D'), Node('E')), Node('C', Node('F'), Node('G'))))"
   ]
  },
  {
   "cell_type": "code",
   "execution_count": null,
   "metadata": {},
   "outputs": [],
   "source": [
    "# Votre code"
   ]
  },
  {
   "cell_type": "code",
   "execution_count": null,
   "metadata": {},
   "outputs": [],
   "source": [
    "print(is_full(root_tree))\n",
    "# Doit afficher True\n",
    "print(is_full(simple_tree))\n",
    "# Doit afficher False\n",
    "print(is_full(full_tree))\n",
    "# Doit afficher True\n",
    "print(is_full(perfect_tree))\n",
    "# Doit afficher True"
   ]
  },
  {
   "cell_type": "code",
   "execution_count": null,
   "metadata": {},
   "outputs": [],
   "source": [
    "# %load solutions/full_tree.py"
   ]
  },
  {
   "cell_type": "markdown",
   "metadata": {},
   "source": [
    "## 8. Arbre parfait\n",
    "\n",
    "Un arbre est parfait si il est entier et que toutes les feuilles de l'arbre, i.e. les noeuds qui n'ont pas d'enfant, sont à la même distance de la racine.\n",
    "\n",
    "Ecrivez un programme pour tester si un arbre est parfait. Il prendra en entrée un arbre et renverra vrai ou faux. Il ne devra rien afficher."
   ]
  },
  {
   "cell_type": "code",
   "execution_count": null,
   "metadata": {},
   "outputs": [],
   "source": [
    "# Votre code"
   ]
  },
  {
   "cell_type": "code",
   "execution_count": null,
   "metadata": {},
   "outputs": [],
   "source": [
    "print(is_perfect(root_tree))\n",
    "# Doit afficher True\n",
    "print(is_perfect(simple_tree))\n",
    "# Doit afficher False\n",
    "print(is_perfect(full_tree))\n",
    "# Doit afficher False\n",
    "print(is_perfect(perfect_tree))\n",
    "# Doit afficher True"
   ]
  },
  {
   "cell_type": "code",
   "execution_count": null,
   "metadata": {},
   "outputs": [],
   "source": [
    "# %load solutions/perfect_tree.py"
   ]
  },
  {
   "cell_type": "markdown",
   "metadata": {},
   "source": [
    "## 9. Arbre binaire de recherche\n",
    "\n",
    "Un arbre est un arbre binaire de recherche si ces valeurs sont entières, et pour tout noeud n, la valeur maximale de n.left est inférieur ou égale à n.value, qui est strictement inférieur au minimum de n.right.\n",
    "\n",
    "Ecrivez un programme pour tester si un arbre est un arbre binaire de recherche. Celui ci prendra un arbre en entré, et retournera vrai ou faux.\n",
    "\n",
    "Pour aider, on peut supposer que les valeurs des arbres sont comprises entre 0 et 100."
   ]
  },
  {
   "cell_type": "code",
   "execution_count": null,
   "metadata": {},
   "outputs": [],
   "source": [
    "binary_search_tree = Tree(Node(30, Node(25, Node(10, Node(5), Node(15)), Node(30)), Node(50, Node(40, Node(35), Node(45)))))\n",
    "not_binary_search_tree_1 = Tree(Node(30, Node(15, Node(10, Node(5), Node(5)), Node(30)), Node(50, Node(40, Node(35), Node(45)))))\n",
    "not_binary_search_tree_2 = Tree(Node(30, Node(25, Node(10, Node(5), Node(15)), Node(31)), Node(50, Node(40, Node(35), Node(45)))))"
   ]
  },
  {
   "cell_type": "code",
   "execution_count": null,
   "metadata": {},
   "outputs": [],
   "source": [
    "# Votre code"
   ]
  },
  {
   "cell_type": "code",
   "execution_count": null,
   "metadata": {},
   "outputs": [],
   "source": [
    "print(is_search_tree(binary_search_tree)) # True\n",
    "print(is_search_tree(not_binary_search_tree_1)) # False\n",
    "print(is_search_tree(not_binary_search_tree_2)) # False"
   ]
  },
  {
   "cell_type": "code",
   "execution_count": null,
   "metadata": {},
   "outputs": [],
   "source": [
    "# %load solutions/search_tree.py"
   ]
  },
  {
   "cell_type": "code",
   "execution_count": null,
   "metadata": {},
   "outputs": [],
   "source": []
  }
 ],
 "metadata": {
  "kernelspec": {
   "display_name": "Python 3",
   "language": "python",
   "name": "python3"
  },
  "language_info": {
   "codemirror_mode": {
    "name": "ipython",
    "version": 3
   },
   "file_extension": ".py",
   "mimetype": "text/x-python",
   "name": "python",
   "nbconvert_exporter": "python",
   "pygments_lexer": "ipython3",
   "version": "3.7.1"
  }
 },
 "nbformat": 4,
 "nbformat_minor": 2
}
