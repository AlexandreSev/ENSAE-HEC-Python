{
 "cells": [
  {
   "cell_type": "markdown",
   "metadata": {},
   "source": [
    "# TD4"
   ]
  },
  {
   "cell_type": "markdown",
   "metadata": {},
   "source": [
    "## 1. Exercice 1\n",
    "Dans cette exercise, vous n'avez pas le droit d'utiliser +, -, * ou /, ni de boucle for. Vous pouvez uniquement utilisé les fonctions plus_one et minus_one définies si dessous.\n",
    "\n",
    "1. Ecrivez de facon itérative puis récursive la fonction add. Pour la version itérative, afficher à l'écran chaque appel à celle-ci, avec les arguments. On suppose que l'on travail avec des entiers positifs."
   ]
  },
  {
   "cell_type": "code",
   "execution_count": null,
   "metadata": {},
   "outputs": [],
   "source": [
    "def plus_one(a):\n",
    "    return a + 1\n",
    "\n",
    "def minus_one(a):\n",
    "    return a - 1"
   ]
  },
  {
   "cell_type": "code",
   "execution_count": null,
   "metadata": {},
   "outputs": [],
   "source": [
    "def add_itératif(a, b):\n",
    "    '''Retourne la somme de a et b. On considère a et b positifs.'''\n",
    "    # Votre code\n",
    "    pass\n",
    "    \n",
    "def add_recursif(a, b):\n",
    "    '''Retourne la somme de a et b.'''\n",
    "    # Votre code\n",
    "    pass"
   ]
  },
  {
   "cell_type": "code",
   "execution_count": null,
   "metadata": {},
   "outputs": [],
   "source": [
    "# %load solutions/add_functions.py"
   ]
  },
  {
   "cell_type": "code",
   "execution_count": null,
   "metadata": {},
   "outputs": [],
   "source": [
    "print(add_iteratif(5, 10))\n",
    "print(add_recursif(5, 10))"
   ]
  },
  {
   "cell_type": "markdown",
   "metadata": {},
   "source": [
    "2. En utilisant add_itératif, créez mul_itératif, qui multiplie deux nombres. Même chose pour mul_récursif."
   ]
  },
  {
   "cell_type": "code",
   "execution_count": null,
   "metadata": {},
   "outputs": [],
   "source": [
    "def mul_iteratif(a, b):\n",
    "    '''Retourne la multiplication de a par b'''\n",
    "    # Votre code\n",
    "    pass\n",
    "\n",
    "def mul_recursif(a, b):\n",
    "    '''Retourne la multiplication de a par b'''\n",
    "    # Votre code\n",
    "    pass"
   ]
  },
  {
   "cell_type": "code",
   "execution_count": null,
   "metadata": {},
   "outputs": [],
   "source": [
    "# %load solutions/mul_functions.py"
   ]
  },
  {
   "cell_type": "code",
   "execution_count": null,
   "metadata": {},
   "outputs": [],
   "source": [
    "print(mul_iteratif(5, 10))\n",
    "print(mul_recursif(5, 10))"
   ]
  },
  {
   "cell_type": "markdown",
   "metadata": {},
   "source": [
    "## 2. Exercice 2\n",
    "\n",
    "Ecrire une version itérative et une version récursive d'un programme qui :\n",
    "- Génère des nombres entiers aléatoires compris entre 0 et 100 (inclus),\n",
    "- Affiche parmi ces nombres ceux qui sont multiples de 5 ou de 6,\n",
    "- S’arrête quand 10 nombres aléatoires multiples de 5 ou de 6 sont affichés.\n",
    "\n",
    "Vous aurez besoin de la fonction randint du package random. randint(a, b) renvoit un nombre aléatoire plus grand ou égal à a, mais strictement inférieur à b.\n",
    "\n",
    "Attention: vous pouvez avoir besoin de modifier les arguments de la fonction pour la version récursive."
   ]
  },
  {
   "cell_type": "code",
   "execution_count": null,
   "metadata": {},
   "outputs": [],
   "source": [
    "from random import randint\n",
    "\n",
    "def random_multiple_iter():\n",
    "    pass\n",
    "\n",
    "def random_multiple_rec():\n",
    "    pass"
   ]
  },
  {
   "cell_type": "code",
   "execution_count": null,
   "metadata": {},
   "outputs": [],
   "source": [
    "# %load solutions/exercice2.py"
   ]
  },
  {
   "cell_type": "code",
   "execution_count": null,
   "metadata": {},
   "outputs": [],
   "source": [
    "print('Iterative')\n",
    "random_multiple_iter()\n",
    "print('Recursive')\n",
    "random_multiple_rec()"
   ]
  },
  {
   "cell_type": "markdown",
   "metadata": {},
   "source": [
    "## 3. Recherche dichotomique "
   ]
  },
  {
   "cell_type": "markdown",
   "metadata": {},
   "source": [
    "On vous donne une liste d'entiers triée. Recherchez de manière optimale si un entier est dans cette liste ou non. Faites une version itérative et une version récursive.\n",
    "\n",
    "Indice: in n'est pas optimal dans ce cas. En effet, on peut ne pas tester tous les éléments de la liste, en commencant par le milieu par exemple !"
   ]
  },
  {
   "cell_type": "code",
   "execution_count": null,
   "metadata": {},
   "outputs": [],
   "source": [
    "def dichotomie_iter(l, n):\n",
    "    pass\n",
    "\n",
    "def dichotomie_rec(l, n):\n",
    "    pass"
   ]
  },
  {
   "cell_type": "code",
   "execution_count": null,
   "metadata": {},
   "outputs": [],
   "source": [
    "# %load solutions/dichotomie.py"
   ]
  },
  {
   "cell_type": "code",
   "execution_count": null,
   "metadata": {},
   "outputs": [],
   "source": [
    "from time import time\n",
    "l = list(range(10000000))\n",
    "x = 8756700\n",
    "\n",
    "t0 = time()\n",
    "x in l\n",
    "print(f'in exécuté en {time() - t0} secondes')\n",
    "\n",
    "t0 = time()\n",
    "dichotomie_iter(l, x)\n",
    "print(f'dichotomie_iter exécuté en {time() - t0} secondes')\n",
    "\n",
    "t0 = time()\n",
    "dichotomie_rec(l, x)\n",
    "print(f'dichomie_rec exécuté en {time() - t0} secondes')"
   ]
  },
  {
   "cell_type": "markdown",
   "metadata": {},
   "source": [
    "## 4. Algorithme glouton\n",
    "\n",
    "Étant donné une liste d'entier, sommez les... Cependant, il y a une complication. L'opération + a maintenant un coup. Quand vous ajoutez a et b, vous devez payer le cout a+b.\n",
    "\n",
    "Par exemple, si vous avez la liste [1, 2, 3], vous pouvez la sommez de différente facon:\n",
    "\n",
    "Approche 1  \n",
    "1 + 2 = 3 (cout = 3)  \n",
    "3 + 3 = 6 (cout = 6)  \n",
    "Cout total = 9\n",
    "\n",
    "Approche 2  \n",
    "1 + 3 = 4 (cout = 4)  \n",
    "4 + 2 = 6 (cout = 6)  \n",
    "Cout total = 10\n",
    "\n",
    "Approche 3  \n",
    "2 + 3 = 5 (cout = 5)  \n",
    "5 + 1 = 6 (cout = 6)  \n",
    "Cout total = 11\n",
    "\n",
    "Trouvez le cout le plus faible requis pour sommer une liste d'entier."
   ]
  },
  {
   "cell_type": "code",
   "execution_count": null,
   "metadata": {},
   "outputs": [],
   "source": [
    "def lowest_cost(l):\n",
    "    pass"
   ]
  },
  {
   "cell_type": "code",
   "execution_count": null,
   "metadata": {},
   "outputs": [],
   "source": [
    "# %load solutions/glouton.py"
   ]
  },
  {
   "cell_type": "code",
   "execution_count": null,
   "metadata": {},
   "outputs": [],
   "source": [
    "lowest_cost([1, 2, 3])"
   ]
  },
  {
   "cell_type": "markdown",
   "metadata": {},
   "source": [
    "## 5. Tour d'Hanoi\n",
    "\n",
    "c.f. https://fr.wikipedia.org/wiki/Tours_de_Hano%C3%AF\n",
    "\n",
    "Les tours d'Hanoi sont un jeu composé d'une pyramide de disques et de 3 piques. Au départ, la pyramide est sur le pique de gauche. Le but est de la déplacé sur le pique de droite. Pour cela, il y a deux règles:\n",
    "- on déplace les disques un par un\n",
    "- un disque ne peut être placé sur un disque plus petit que lui\n",
    "\n",
    "Résolvez ce jeu.\n",
    "\n",
    "Vous pouvez charger un indice grâce aux cellules ci dessous."
   ]
  },
  {
   "cell_type": "code",
   "execution_count": null,
   "metadata": {},
   "outputs": [],
   "source": [
    "# Indice 1\n",
    "# %load -r :4 solutions/hanoi_indices.py"
   ]
  },
  {
   "cell_type": "code",
   "execution_count": null,
   "metadata": {},
   "outputs": [],
   "source": [
    "# Indice 2\n",
    "# %load -r 5:10 solutions/hanoi_indices.py"
   ]
  },
  {
   "cell_type": "code",
   "execution_count": null,
   "metadata": {},
   "outputs": [],
   "source": [
    "# Indice 3\n",
    "# %load -r 11:15 solutions/hanoi_indices.py"
   ]
  },
  {
   "cell_type": "code",
   "execution_count": null,
   "metadata": {},
   "outputs": [],
   "source": [
    "# Indice 4\n",
    "# %load -r 16: solutions/hanoi_indices.py"
   ]
  },
  {
   "cell_type": "code",
   "execution_count": null,
   "metadata": {},
   "outputs": [],
   "source": [
    "# Votre code"
   ]
  },
  {
   "cell_type": "code",
   "execution_count": null,
   "metadata": {},
   "outputs": [],
   "source": [
    "# %load solutions/hanoi.py"
   ]
  },
  {
   "cell_type": "markdown",
   "metadata": {},
   "source": [
    "## 6. Fibonnaci\n",
    "\n",
    "1. Calculez le n-ieme terme de la suite de Fibonnaci de manière récursive. Rappel, la suite de Fibonnaci commence avec 0, 1 puis on calcule un autre nombre en sommant les deux derniers."
   ]
  },
  {
   "cell_type": "code",
   "execution_count": null,
   "metadata": {},
   "outputs": [],
   "source": [
    "def fibonnaci(n):\n",
    "    pass"
   ]
  },
  {
   "cell_type": "code",
   "execution_count": null,
   "metadata": {},
   "outputs": [],
   "source": [
    "# %load -r :7 solutions/fibonnaci.py"
   ]
  },
  {
   "cell_type": "code",
   "execution_count": null,
   "metadata": {},
   "outputs": [],
   "source": [
    "fibonnaci(5)"
   ]
  },
  {
   "cell_type": "markdown",
   "metadata": {},
   "source": [
    "2. Si vous affichez chaque appel de cette fonction, vous verrez que c'est hautement inefficace. Changez cela en gardant les résulats déjà calculé en mémoire."
   ]
  },
  {
   "cell_type": "code",
   "execution_count": null,
   "metadata": {},
   "outputs": [],
   "source": [
    "def fibonnaci_opti(n):\n",
    "    pass"
   ]
  },
  {
   "cell_type": "code",
   "execution_count": null,
   "metadata": {},
   "outputs": [],
   "source": [
    "# %load -r 9: solutions/fibonnaci.py"
   ]
  },
  {
   "cell_type": "code",
   "execution_count": null,
   "metadata": {},
   "outputs": [],
   "source": [
    "fibonnaci_opti(15)"
   ]
  },
  {
   "cell_type": "code",
   "execution_count": null,
   "metadata": {},
   "outputs": [],
   "source": [
    "t0 = time()\n",
    "fibonnaci(35)\n",
    "t1 = time()\n",
    "fibonnaci_opti(35)\n",
    "t2 = time()\n",
    "print(f'La première version a pris {t1 - t0} secondes, la seconde {t2 - t1}.')"
   ]
  },
  {
   "cell_type": "markdown",
   "metadata": {},
   "source": [
    "## 7. Factoriel\n",
    "\n",
    "Même exercice que le 6, mais avec les factoriels. factoriel(n) signifie `n * (n-1) * (n-2) * ... * 1`"
   ]
  },
  {
   "cell_type": "code",
   "execution_count": null,
   "metadata": {},
   "outputs": [],
   "source": [
    "def factoriel(n):\n",
    "    pass\n",
    "\n",
    "def factoriel_opti(n):\n",
    "    pass"
   ]
  },
  {
   "cell_type": "code",
   "execution_count": null,
   "metadata": {},
   "outputs": [],
   "source": [
    "# %load solutions/factoriel.py"
   ]
  },
  {
   "cell_type": "code",
   "execution_count": null,
   "metadata": {},
   "outputs": [],
   "source": [
    "t0 = time()\n",
    "factoriel(35)\n",
    "t1 = time()\n",
    "factoriel_opti(35)\n",
    "t2 = time()\n",
    "print(f'La première version a pris {t1 - t0} secondes, la seconde {t2 - t1}.')"
   ]
  },
  {
   "cell_type": "markdown",
   "metadata": {},
   "source": [
    "## 8. Sudoku\n",
    "\n",
    "Imaginer un moyen récursif de résoudre un sudoku, et coder le."
   ]
  },
  {
   "cell_type": "code",
   "execution_count": null,
   "metadata": {},
   "outputs": [],
   "source": [
    "# Votre code"
   ]
  },
  {
   "cell_type": "code",
   "execution_count": null,
   "metadata": {},
   "outputs": [],
   "source": [
    "# %load solutions/sudoku.py"
   ]
  },
  {
   "cell_type": "code",
   "execution_count": null,
   "metadata": {},
   "outputs": [],
   "source": []
  }
 ],
 "metadata": {
  "kernelspec": {
   "display_name": "Python 3",
   "language": "python",
   "name": "python3"
  },
  "language_info": {
   "codemirror_mode": {
    "name": "ipython",
    "version": 3
   },
   "file_extension": ".py",
   "mimetype": "text/x-python",
   "name": "python",
   "nbconvert_exporter": "python",
   "pygments_lexer": "ipython3",
   "version": "3.6.8"
  }
 },
 "nbformat": 4,
 "nbformat_minor": 2
}
