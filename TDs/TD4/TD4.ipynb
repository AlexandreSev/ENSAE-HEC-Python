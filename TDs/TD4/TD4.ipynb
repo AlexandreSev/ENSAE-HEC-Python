{
 "cells": [
  {
   "cell_type": "markdown",
   "metadata": {},
   "source": [
    "# TD4: récursion avec des arbres"
   ]
  },
  {
   "cell_type": "markdown",
   "metadata": {},
   "source": [
    "Tout d'abord, voici la classe modélisant un arbre à utiliser tout le long du TP. On donne aussi quelques exemples d'arbres à utiliser pour tester les exercices."
   ]
  },
  {
   "cell_type": "code",
   "execution_count": null,
   "metadata": {},
   "outputs": [],
   "source": [
    "class Node:\n",
    "    \n",
    "    def __init__(self, value, left=None, right=None):\n",
    "        self.value = value\n",
    "        self.right = right\n",
    "        self.left = left\n",
    "        \n",
    "root_tree = Node('root')\n",
    "simple_tree = Node(1, Node(2, Node(4), Node(5, Node(7), Node(8))), Node(3, None, Node(6, Node(9))))\n",
    "full_tree = Node('A', Node('B'), Node('C', Node('F'), Node('G')))\n",
    "perfect_tree = Node('A', Node('B', Node('D'), Node('E')), Node('C', Node('F'), Node('G')))"
   ]
  },
  {
   "cell_type": "markdown",
   "metadata": {},
   "source": [
    "## Exercice 1: Parcours In order\n",
    "\n",
    "Il existe plusieurs façons de parcourir un arbre. La première est le parcours in order.\n",
    "\n",
    "Le but est d'afficher toutes les valeurs présentes dans l'arbre. Dans un parcours in order, on commence par l'enfant gauche, on affiche sa propre valeure, puis on affiche l'enfant droit. Attention, lorsque je dit afficher l'enfant, cela signifie que l'on fait un parcours in order du sous arbre ayant pour racine cet enfant.\n",
    "\n",
    "Ecrivez un programme qui fait un parcours in order d'un arbre. Cette fonction prend en entrée un arbre et ne renvoit rien. Il doit juste afficher les valeurs dans le bon ordre."
   ]
  },
  {
   "cell_type": "code",
   "execution_count": null,
   "metadata": {},
   "outputs": [],
   "source": [
    "def in_order(node):\n",
    "    pass"
   ]
  },
  {
   "cell_type": "code",
   "execution_count": null,
   "metadata": {},
   "outputs": [],
   "source": [
    "in_order(root_tree)\n",
    "print()\n",
    "# Doit afficher root\n",
    "in_order(simple_tree)\n",
    "print()\n",
    "# Doit afficher 4 2 7 5 8 1 3 9 6\n",
    "in_order(full_tree)\n",
    "print()\n",
    "# Doit afficher B A F C G\n",
    "in_order(perfect_tree)\n",
    "print()\n",
    "# Doit afficher D B E A F C G "
   ]
  },
  {
   "cell_type": "markdown",
   "metadata": {},
   "source": [
    "## Exercice 2: Pre et post order\n",
    "\n",
    "Deux autres façons de parcourir un arbre sont les parcours pre order et les parcours post order. Dans le premier cas, on affiche d'abord la valeur de son noeud, puis de l'enfant gauche, puis de l'enfant droit. Dans le second, on commence par l'enfant gauche, puis par l'enfant droit et enfin sa propre valeur. Coder ces deux parcours."
   ]
  },
  {
   "cell_type": "code",
   "execution_count": null,
   "metadata": {},
   "outputs": [],
   "source": [
    "def pre_order(node):\n",
    "    pass"
   ]
  },
  {
   "cell_type": "code",
   "execution_count": null,
   "metadata": {},
   "outputs": [],
   "source": [
    "pre_order(root_tree)\n",
    "print()\n",
    "# Doit afficher root\n",
    "pre_order(simple_tree)\n",
    "print()\n",
    "# Doit afficher 1 2 4 5 7 8 3 6 9 \n",
    "pre_order(full_tree)\n",
    "print()\n",
    "# Doit afficher A B C F G\n",
    "pre_order(perfect_tree)\n",
    "print()\n",
    "# Doit afficher A B D E C F G "
   ]
  },
  {
   "cell_type": "code",
   "execution_count": null,
   "metadata": {},
   "outputs": [],
   "source": [
    "def post_order(node):\n",
    "    pass"
   ]
  },
  {
   "cell_type": "code",
   "execution_count": null,
   "metadata": {},
   "outputs": [],
   "source": [
    "post_order(root_tree)\n",
    "print()\n",
    "# Doit afficher root\n",
    "post_order(simple_tree)\n",
    "print()\n",
    "# Doit afficher 4 7 8 5 2 9 6 3 1 \n",
    "post_order(full_tree)\n",
    "print()\n",
    "# Doit afficher B F G C A\n",
    "post_order(perfect_tree)\n",
    "print()\n",
    "# Doit afficher D E B F G C A"
   ]
  },
  {
   "cell_type": "markdown",
   "metadata": {},
   "source": [
    "## Exercice 3: arbre entier\n",
    "\n",
    "Un arbre est entier si tous ses noeuds ont soit 0, soit 2 enfants.\n",
    "\n",
    "Ecrivez un programme qui teste si un arbre est entier. Ce programme prend un arbre en entrée, et devra renvoyer vrai ou faux. Il ne devra rien afficher."
   ]
  },
  {
   "cell_type": "code",
   "execution_count": null,
   "metadata": {},
   "outputs": [],
   "source": [
    "def is_full(node):\n",
    "    pass"
   ]
  },
  {
   "cell_type": "code",
   "execution_count": null,
   "metadata": {},
   "outputs": [],
   "source": [
    "print(is_full(root_tree))\n",
    "# Doit afficher True\n",
    "print(is_full(simple_tree))\n",
    "# Doit afficher False\n",
    "print(is_full(full_tree))\n",
    "# Doit afficher True\n",
    "print(is_full(perfect_tree))\n",
    "# Doit afficher True"
   ]
  },
  {
   "cell_type": "markdown",
   "metadata": {},
   "source": [
    "## Exercice 4: arbre parfait\n",
    "\n",
    "Un arbre est parfait si il est entier et que toutes les feuilles de l'arbre, i.e. les noeuds qui n'ont pas d'enfant, sont à la même distance de la racine.\n",
    "\n",
    "Ecrivez un programme pour tester si un arbre est parfait. Il prendra en entrée un arbre et renverra vrai ou faux. Il ne devra rien afficher."
   ]
  },
  {
   "cell_type": "code",
   "execution_count": null,
   "metadata": {},
   "outputs": [],
   "source": [
    "def is_perfect(node):\n",
    "    pass"
   ]
  },
  {
   "cell_type": "code",
   "execution_count": null,
   "metadata": {},
   "outputs": [],
   "source": [
    "print(is_perfect(root_tree))\n",
    "# Doit afficher True\n",
    "print(is_perfect(simple_tree))\n",
    "# Doit afficher False\n",
    "print(is_perfect(full_tree))\n",
    "# Doit afficher False\n",
    "print(is_perfect(perfect_tree))\n",
    "# Doit afficher True"
   ]
  },
  {
   "cell_type": "markdown",
   "metadata": {},
   "source": [
    "## Exercice 5: arbre binaire de recherche\n",
    "\n",
    "Un arbre est un arbre binaire de recherche si ces valeurs sont entières, et pour tout noeud n, la valeur maximale de n.left est inférieur ou égale à n.value, qui est strictement inférieur au minimum de n.right.\n",
    "\n",
    "Ecrivez un programme pour tester si un arbre est un arbre binaire de recherche. Celui ci prendra un arbre en entré, et retournera vrai ou faux.\n",
    "\n",
    "Pour aider, on peut supposer que les valeurs des arbres sont comprises entre 0 et 100."
   ]
  },
  {
   "cell_type": "code",
   "execution_count": null,
   "metadata": {},
   "outputs": [],
   "source": [
    "binary_search_tree = Node(30, Node(25, Node(10, Node(5), Node(15)), Node(30)), Node(50, Node(40, Node(35), Node(45))))\n",
    "not_binary_search_tree_1 = Node(30, Node(15, Node(10, Node(5), Node(5)), Node(30)), Node(50, Node(40, Node(35), Node(45))))\n",
    "not_binary_search_tree_2 = Node(30, Node(25, Node(10, Node(5), Node(15)), Node(31)), Node(50, Node(40, Node(35), Node(45))))\n"
   ]
  },
  {
   "cell_type": "code",
   "execution_count": null,
   "metadata": {},
   "outputs": [],
   "source": [
    "def is_search_tree(n):\n",
    "    pass"
   ]
  },
  {
   "cell_type": "code",
   "execution_count": null,
   "metadata": {},
   "outputs": [],
   "source": [
    "print(is_search_tree(binary_search_tree)) # True\n",
    "print(is_search_tree(not_binary_search_tree_1)) # False\n",
    "print(is_search_tree(not_binary_search_tree_2)) # False"
   ]
  },
  {
   "cell_type": "markdown",
   "metadata": {},
   "source": [
    "## Exercice 6: Parcours en largeur\n",
    "\n",
    "Les trois parcours vu précédemment sont des parcours en profondeur, i.e. que l'on cherche à aller le plus bas possible avant de parcourir d'autres branches.\n",
    "\n",
    "Ici, on va voir un parcours en largeur. C'est à dire que l'on va parcourir l'arbre niveau par niveau. Si on reprend l'arbre du schéma du cours, on visite d'abord la racine (1) puis le noeud 2, puis le noeud 3, et ansi de suite jusqu'à 9.\n",
    "\n",
    "Implémentez un parcours en largeur. Vous aurez probablement besoin d'une file, queue en anglais. Une file est une structure de données pour stocker des objets. Le premier objet à être insérer dans la file est le premier à ressortir.\n",
    "\n",
    "Pour ajouter un élément dans une file, il faut utiliser la méthode `put`. Pour récupérer un élément, il faut utiliser `get`. Enfin, pour savoir si la file est vide, il faut utiliser `empty`."
   ]
  },
  {
   "cell_type": "code",
   "execution_count": null,
   "metadata": {},
   "outputs": [],
   "source": [
    "from queue import Queue\n",
    "q = Queue()\n",
    "for i in range(10):\n",
    "    q.put(i)\n",
    "while not q.empty():\n",
    "    print(q.get())"
   ]
  },
  {
   "cell_type": "code",
   "execution_count": null,
   "metadata": {},
   "outputs": [],
   "source": [
    "def width_firts_search(node):\n",
    "    pass"
   ]
  },
  {
   "cell_type": "code",
   "execution_count": null,
   "metadata": {},
   "outputs": [],
   "source": [
    "width_firts_search(root_tree)\n",
    "print()\n",
    "# affiche root\n",
    "width_firts_search(simple_tree)\n",
    "print()\n",
    "# affiche 1 2 3 4 5 6 7 8 9 \n",
    "width_firts_search(full_tree)\n",
    "print()\n",
    "# affiche A B C F G\n",
    "width_firts_search(perfect_tree)\n",
    "print()\n",
    "# affiche A B C D E F G"
   ]
  },
  {
   "cell_type": "code",
   "execution_count": null,
   "metadata": {},
   "outputs": [],
   "source": []
  }
 ],
 "metadata": {
  "kernelspec": {
   "display_name": "Python 3",
   "language": "python",
   "name": "python3"
  },
  "language_info": {
   "codemirror_mode": {
    "name": "ipython",
    "version": 3
   },
   "file_extension": ".py",
   "mimetype": "text/x-python",
   "name": "python",
   "nbconvert_exporter": "python",
   "pygments_lexer": "ipython3",
   "version": "3.7.2"
  }
 },
 "nbformat": 4,
 "nbformat_minor": 2
}
