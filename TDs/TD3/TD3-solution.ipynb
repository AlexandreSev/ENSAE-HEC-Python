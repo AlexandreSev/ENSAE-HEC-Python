{
 "cells": [
  {
   "cell_type": "markdown",
   "metadata": {},
   "source": [
    "# TD3 - Solution"
   ]
  },
  {
   "cell_type": "markdown",
   "metadata": {},
   "source": [
    "## Exercice 1\n",
    "\n",
    "Dans cette exercise, vous n'avez pas le droit d'utiliser `+`, `-`, `*` ou `/`, ni de boucle `for`. Vous pouvez uniquement utilisé les fonctions `plus_one` et `minus_one` définies si dessous.\n",
    "\n",
    "1. Ecrivez de facon itérative puis récursive la fonction `add`. Pour la version itérative, afficher à l'écran chaque appel à celle-ci, avec les arguments. On suppose que l'on travail avec des entiers strictement positifs."
   ]
  },
  {
   "cell_type": "code",
   "execution_count": 1,
   "metadata": {},
   "outputs": [],
   "source": [
    "def plus_one(a):\n",
    "    return a + 1\n",
    "\n",
    "def minus_one(a):\n",
    "    return a - 1"
   ]
  },
  {
   "cell_type": "code",
   "execution_count": 2,
   "metadata": {},
   "outputs": [],
   "source": [
    "def add_iteratif(a, b):\n",
    "    '''Retourne la somme de a et b.'''\n",
    "    if b < a:\n",
    "        return add_iteratif(b, a)\n",
    "    while a != 0:\n",
    "        b = plus_one(b)\n",
    "        a = minus_one(a)\n",
    "    return b\n",
    "    \n",
    "def add_recursif(a, b):\n",
    "    print(f'Add called with a={a} and b={b}')\n",
    "    if b < a:\n",
    "        return add_recursif(b, a)\n",
    "    '''Retourne la somme de a et b.'''\n",
    "    if a == 0:\n",
    "        return b\n",
    "    return add_recursif(minus_one(a), plus_one(b))"
   ]
  },
  {
   "cell_type": "code",
   "execution_count": 3,
   "metadata": {},
   "outputs": [
    {
     "name": "stdout",
     "output_type": "stream",
     "text": [
      "20\n",
      "Add called with a=15 and b=5\n",
      "Add called with a=5 and b=15\n",
      "Add called with a=4 and b=16\n",
      "Add called with a=3 and b=17\n",
      "Add called with a=2 and b=18\n",
      "Add called with a=1 and b=19\n",
      "Add called with a=0 and b=20\n"
     ]
    },
    {
     "data": {
      "text/plain": [
       "20"
      ]
     },
     "execution_count": 3,
     "metadata": {},
     "output_type": "execute_result"
    }
   ],
   "source": [
    "print(add_iteratif(15, 5))\n",
    "add_recursif(15, 5)"
   ]
  },
  {
   "cell_type": "markdown",
   "metadata": {},
   "source": [
    "2. En utilisant `add_itératif`, créez `mul_itératif`, qui multiplie deux nombres."
   ]
  },
  {
   "cell_type": "code",
   "execution_count": 4,
   "metadata": {},
   "outputs": [],
   "source": [
    "def mul_iteratif(a, b):\n",
    "    '''Retourne a * b'''\n",
    "    if b < a:\n",
    "        return mul_iteratif(b, a)\n",
    "    z = b\n",
    "    while a != 1:\n",
    "        b = add_iteratif(z, b)\n",
    "        a = minus_one(a)\n",
    "    return b"
   ]
  },
  {
   "cell_type": "code",
   "execution_count": 5,
   "metadata": {},
   "outputs": [
    {
     "data": {
      "text/plain": [
       "153"
      ]
     },
     "execution_count": 5,
     "metadata": {},
     "output_type": "execute_result"
    }
   ],
   "source": [
    "mul_iteratif(51, 3)"
   ]
  },
  {
   "cell_type": "markdown",
   "metadata": {},
   "source": [
    "3. En utilisant `add_récursif`, créez `mul_récursif`. Là encore, affichez tous les appels à cette fonction, avec les arguments."
   ]
  },
  {
   "cell_type": "code",
   "execution_count": 6,
   "metadata": {},
   "outputs": [],
   "source": [
    "def mul_recursif(a, b):\n",
    "    '''Retourne a*b'''\n",
    "    return mul_rec_aux(min(a, b), max(a, b), max(a, b))\n",
    "    \n",
    "def mul_rec_aux(a, b, res):\n",
    "    print(f'Mul récursif called with a={a} and b={b}')\n",
    "    if a == 1:\n",
    "        return res\n",
    "    else:\n",
    "        return mul_rec_aux(minus_one(a), b, add_recursif(res, b))"
   ]
  },
  {
   "cell_type": "code",
   "execution_count": 7,
   "metadata": {},
   "outputs": [
    {
     "name": "stdout",
     "output_type": "stream",
     "text": [
      "Mul récursif called with a=5 and b=10\n",
      "Add called with a=10 and b=10\n",
      "Add called with a=9 and b=11\n",
      "Add called with a=8 and b=12\n",
      "Add called with a=7 and b=13\n",
      "Add called with a=6 and b=14\n",
      "Add called with a=5 and b=15\n",
      "Add called with a=4 and b=16\n",
      "Add called with a=3 and b=17\n",
      "Add called with a=2 and b=18\n",
      "Add called with a=1 and b=19\n",
      "Add called with a=0 and b=20\n",
      "Mul récursif called with a=4 and b=10\n",
      "Add called with a=20 and b=10\n",
      "Add called with a=10 and b=20\n",
      "Add called with a=9 and b=21\n",
      "Add called with a=8 and b=22\n",
      "Add called with a=7 and b=23\n",
      "Add called with a=6 and b=24\n",
      "Add called with a=5 and b=25\n",
      "Add called with a=4 and b=26\n",
      "Add called with a=3 and b=27\n",
      "Add called with a=2 and b=28\n",
      "Add called with a=1 and b=29\n",
      "Add called with a=0 and b=30\n",
      "Mul récursif called with a=3 and b=10\n",
      "Add called with a=30 and b=10\n",
      "Add called with a=10 and b=30\n",
      "Add called with a=9 and b=31\n",
      "Add called with a=8 and b=32\n",
      "Add called with a=7 and b=33\n",
      "Add called with a=6 and b=34\n",
      "Add called with a=5 and b=35\n",
      "Add called with a=4 and b=36\n",
      "Add called with a=3 and b=37\n",
      "Add called with a=2 and b=38\n",
      "Add called with a=1 and b=39\n",
      "Add called with a=0 and b=40\n",
      "Mul récursif called with a=2 and b=10\n",
      "Add called with a=40 and b=10\n",
      "Add called with a=10 and b=40\n",
      "Add called with a=9 and b=41\n",
      "Add called with a=8 and b=42\n",
      "Add called with a=7 and b=43\n",
      "Add called with a=6 and b=44\n",
      "Add called with a=5 and b=45\n",
      "Add called with a=4 and b=46\n",
      "Add called with a=3 and b=47\n",
      "Add called with a=2 and b=48\n",
      "Add called with a=1 and b=49\n",
      "Add called with a=0 and b=50\n",
      "Mul récursif called with a=1 and b=10\n"
     ]
    },
    {
     "data": {
      "text/plain": [
       "50"
      ]
     },
     "execution_count": 7,
     "metadata": {},
     "output_type": "execute_result"
    }
   ],
   "source": [
    "mul_recursif(10, 5)"
   ]
  },
  {
   "cell_type": "markdown",
   "metadata": {},
   "source": [
    "## Exercice 2\n",
    "\n",
    "Ecrire une version itérative et une version récursive d'un programme qui :\n",
    "* Génère des nombres entiers aléatoires compris entre 0 et 100 (inclus),\n",
    "* Affiche parmi ces nombres ceux qui sont multiples de 5 ou de 6,\n",
    "* S’arrête quand 10 nombres aléatoires multiples de 5 ou de 6 sont affichés.\n",
    "\n",
    "Vous aurez besoin de la fonction `randint` du package random. `randint(a, b)` renvoit un nombre aléatoire plus grand ou égal à `a`, mais strictement inférieur à `b`."
   ]
  },
  {
   "cell_type": "code",
   "execution_count": 8,
   "metadata": {},
   "outputs": [],
   "source": [
    "from random import randint\n",
    "\n",
    "def random_multiple_iter():\n",
    "    nb_print = 0\n",
    "    while nb_print < 10:\n",
    "        x = randint(0, 101)\n",
    "        if x%5 == 0 or x%6 == 0:\n",
    "            nb_print += 1\n",
    "            print(x)\n",
    "            \n",
    "\n",
    "def random_multiple_rec():\n",
    "    random_aux(0)\n",
    "    \n",
    "def random_aux(n):\n",
    "    if n==10:\n",
    "        return\n",
    "    x = 3\n",
    "    while x%5 and x%6:\n",
    "        x = randint(0, 101)\n",
    "    print(x)\n",
    "    random_aux(n+1)"
   ]
  },
  {
   "cell_type": "code",
   "execution_count": 9,
   "metadata": {},
   "outputs": [
    {
     "name": "stdout",
     "output_type": "stream",
     "text": [
      "72\n",
      "50\n",
      "48\n",
      "24\n",
      "55\n",
      "60\n",
      "48\n",
      "70\n",
      "42\n",
      "25\n"
     ]
    }
   ],
   "source": [
    "random_multiple_iter()"
   ]
  },
  {
   "cell_type": "code",
   "execution_count": 10,
   "metadata": {},
   "outputs": [
    {
     "name": "stdout",
     "output_type": "stream",
     "text": [
      "18\n",
      "50\n",
      "80\n",
      "6\n",
      "5\n",
      "25\n",
      "24\n",
      "25\n",
      "80\n",
      "15\n"
     ]
    }
   ],
   "source": [
    "random_multiple_rec()"
   ]
  },
  {
   "cell_type": "markdown",
   "metadata": {},
   "source": [
    "## Exercice 3: recherche dichotomique\n",
    "\n",
    "On vous donne une liste d'entiers triée. Recherchez de manière optimale si un entier est dans cette liste ou non. Faites une version itérative et une version récursive.\n",
    "\n",
    "Indice: `in` n'est pas optimal dans ce cas. En effet, on peut ne pas tester tous les éléments de la liste, en commencant par le milieu par exemple !"
   ]
  },
  {
   "cell_type": "code",
   "execution_count": 8,
   "metadata": {},
   "outputs": [],
   "source": [
    "def dichotomie_iter(l, n):\n",
    "    start = 0\n",
    "    end = len(l) - 1\n",
    "    while start <= end:\n",
    "        mid = (end + start) // 2\n",
    "        if l[mid] == n:\n",
    "            return True\n",
    "        elif l[mid] > n:\n",
    "            end = mid - 1\n",
    "        else:\n",
    "            start = mid + 1\n",
    "    return False\n",
    "\n",
    "def dichotomie_rec(l, n):\n",
    "    if l == []:\n",
    "        return False\n",
    "    mid = len(l) // 2\n",
    "    if l[mid] == n:\n",
    "        return True\n",
    "    elif l[mid] > n:\n",
    "        return dichotomie_rec(l[:mid], n)\n",
    "    else:\n",
    "        return dichotomie_rec(l[mid + 1:], n)\n",
    "    return False\n",
    "\n",
    "# Version un peu mieux car elle évite de copier la liste plusieurs fois\n",
    "def dichotomie_rec_v2(l, n):\n",
    "    return dichotomie_rec_v2_aux(l, n, 0, len(l) - 1)\n",
    "\n",
    "def dichotomie_rec_v2_aux(l, n, start, end):\n",
    "    if start > end:\n",
    "        return False\n",
    "    \n",
    "    mid = (end + start) // 2\n",
    "    if l[mid] == n:\n",
    "        return True\n",
    "    elif l[mid] > n:\n",
    "        return dichotomie_rec_v2_aux(l, n, start, mid - 1)\n",
    "    else:\n",
    "        return dichotomie_rec_v2_aux(l, n, mid + 1, end)"
   ]
  },
  {
   "cell_type": "code",
   "execution_count": 9,
   "metadata": {},
   "outputs": [
    {
     "name": "stdout",
     "output_type": "stream",
     "text": [
      "True\n",
      "False\n",
      "True\n",
      "False\n",
      "True\n",
      "False\n"
     ]
    }
   ],
   "source": [
    "l = [i for i in range(20)]\n",
    "print(dichotomie_iter(l, 2))\n",
    "print(dichotomie_iter(l, 42))\n",
    "\n",
    "print(dichotomie_rec(l, 2))\n",
    "print(dichotomie_rec(l, 42))\n",
    "\n",
    "print(dichotomie_rec_v2(l, 2))\n",
    "print(dichotomie_rec_v2(l, 42))"
   ]
  },
  {
   "cell_type": "markdown",
   "metadata": {},
   "source": [
    "## Exercice 4: divide and conquer\n",
    "\n",
    "Nous allons apprendre deux tris de liste plus efficace, qui se reposent sur le principe de diviser pour conquérir.\n",
    "\n",
    "1. Écrivez un algorithme qui:\n",
    "    - à une liste vide, renvoie une liste vide\n",
    "    - à une liste non vide, prend le premier élément de cette liste, sépare le reste de la liste en les éléments plus petits que cette valeur et ceux plus grands, trie ces deux sous listes, et rassemble les résultats.\n"
   ]
  },
  {
   "cell_type": "code",
   "execution_count": 10,
   "metadata": {},
   "outputs": [],
   "source": [
    "def quicksort(l):\n",
    "    if len(l) < 2:\n",
    "        return l\n",
    "    smaller, bigger = [], []\n",
    "    pivot = l[0]\n",
    "    for elem in l[1:]:\n",
    "        if elem < pivot:\n",
    "            smaller.append(elem)\n",
    "        else:\n",
    "            bigger.append(elem)\n",
    "    return quicksort(smaller) + [pivot] + quicksort(bigger)"
   ]
  },
  {
   "cell_type": "code",
   "execution_count": 11,
   "metadata": {},
   "outputs": [
    {
     "name": "stdout",
     "output_type": "stream",
     "text": [
      "[29, 64, 77, 3, 71, 25, 91, 83, 89, 69, 53, 28, 57, 75, 35, 0, 97, 20, 89, 54]\n",
      "[0, 3, 20, 25, 28, 29, 35, 53, 54, 57, 64, 69, 71, 75, 77, 83, 89, 89, 91, 97]\n"
     ]
    }
   ],
   "source": [
    "import random\n",
    "\n",
    "l = [random.randint(0, 100) for _ in range(20)]\n",
    "print(l)\n",
    "print(quicksort(l))"
   ]
  },
  {
   "cell_type": "markdown",
   "metadata": {},
   "source": [
    "2. Dans un second temps, écrivez un algorithme qui sépare la liste en deux, trie les deux sous listes, et rassemble les résultats. Attention, le merge est moins évident qu'avant!"
   ]
  },
  {
   "cell_type": "code",
   "execution_count": 14,
   "metadata": {},
   "outputs": [],
   "source": [
    "def merge(l1, l2):\n",
    "    result = []\n",
    "    i1, i2 = 0, 0\n",
    "    while i1 < len(l1) and i2 < len(l2):\n",
    "        if l1[i1] < l2[i2]:\n",
    "            result.append(l1[i1])\n",
    "            i1 += 1\n",
    "        else:\n",
    "            result.append(l2[i2])\n",
    "            i2 += 1\n",
    "    result += l1[i1:] + l2[i2:]\n",
    "    return result\n",
    "\n",
    "# Ou alors\n",
    "def merge_v2(l1, l2):\n",
    "    if l1 == []:\n",
    "        return l2\n",
    "    if l2 == []:\n",
    "        return l1\n",
    "    if l1[0] < l2[0]:\n",
    "        return l1[0] + merge(l1[1:], l2)\n",
    "    else:\n",
    "        return l2[0] + merge(l1, l2[1:])\n",
    "    \n",
    "def merge_sort(l):\n",
    "    if len(l) < 2:\n",
    "        return l\n",
    "    mid = len(l) // 2\n",
    "    return merge(merge_sort(l[:mid]), merge_sort(l[mid:]))"
   ]
  },
  {
   "cell_type": "code",
   "execution_count": 15,
   "metadata": {},
   "outputs": [
    {
     "name": "stdout",
     "output_type": "stream",
     "text": [
      "[10, 70, 37, 80, 79, 46, 73, 24, 90, 8, 5, 84, 29, 98, 37, 10, 29, 12, 48, 35]\n",
      "[5, 8, 10, 10, 12, 24, 29, 29, 35, 37, 37, 46, 48, 70, 73, 79, 80, 84, 90, 98]\n"
     ]
    }
   ],
   "source": [
    "import random\n",
    "\n",
    "l = [random.randint(0, 100) for _ in range(20)]\n",
    "print(l)\n",
    "print(merge_sort(l))"
   ]
  },
  {
   "cell_type": "markdown",
   "metadata": {},
   "source": [
    "## Exercice 5: algorithme glouton\n",
    "\n",
    "Étant donné une liste d'entier, sommez les... Cependant, il y a une complication. L'opération `+` a maintenant un coup. Quand vous ajoutez a et b, vous devez payer le cout a+b.\n",
    "\n",
    "Par exemple, si vous avez la liste `[1, 2, 3]`, vous pouvez la sommez de différente facon:\n",
    "\n",
    "Approche 1  \n",
    "1 + 2 = 3 (cout = 3)  \n",
    "3 + 3 = 6 (cout = 6)  \n",
    "Cout total = 9\n",
    "\n",
    "Approche 2  \n",
    "1 + 3 = 4 (cout = 4)  \n",
    "4 + 2 = 6 (cout = 6)  \n",
    "Cout total = 10\n",
    "\n",
    "Approche 3  \n",
    "2 + 3 = 5 (cout = 5)  \n",
    "5 + 1 = 6 (cout = 6)  \n",
    "Cout total = 11\n",
    "\n",
    "Trouvez le cout le plus faible."
   ]
  },
  {
   "cell_type": "code",
   "execution_count": 11,
   "metadata": {},
   "outputs": [],
   "source": [
    "def lowest_cost(l):\n",
    "    if len(l) == 2:\n",
    "        return sum(l)\n",
    "    if len(l) <= 1:\n",
    "        return 0\n",
    "    for i in range(len(l)):\n",
    "        for j in range(i + 1, len(l)):\n",
    "            current_cost = l[i] + l[j] + lowest_cost([l[i] + l[j]] + l[:i] + l[i+1:j] + l[j+1:])\n",
    "            if i == 0 and j == 1:\n",
    "                min_cost = current_cost\n",
    "            else:\n",
    "                min_cost = min(min_cost, current_cost)\n",
    "    return min_cost\n",
    "            "
   ]
  },
  {
   "cell_type": "code",
   "execution_count": 12,
   "metadata": {},
   "outputs": [
    {
     "data": {
      "text/plain": [
       "19"
      ]
     },
     "execution_count": 12,
     "metadata": {},
     "output_type": "execute_result"
    }
   ],
   "source": [
    "lowest_cost([1, 2, 3, 4])"
   ]
  },
  {
   "cell_type": "markdown",
   "metadata": {},
   "source": [
    "Remarque en terme de complexité: Il est possible de faire bien mieux en remarquant qu'il faut sommer les nombres du plus petits au plus grands."
   ]
  },
  {
   "cell_type": "markdown",
   "metadata": {},
   "source": [
    "## Exercice 6: Rappel - cryptographie\n",
    "\n",
    "### Code de César\n",
    "\n",
    "Le code de César est l'un des chiffrements les plus simples qui existe. Il consiste à décaler toutes les lettres d'une chaine de caractères d'un certain nombre de lettres. Par exemple, `abc` avec un décalage de 3 donne `def`.\n",
    "\n",
    "Écrivez une fonction qui code un message selon un chiffrage de César, dont le décalage sera un argument de cette fonction, et une fonction qui décode un message.\n",
    "\n",
    "Les fonction `ord` et `chr` pourront vous aider. On suppose que le message est en minuscule, et qu'il n'y a pas de caractères spéciaux, type accent."
   ]
  },
  {
   "cell_type": "code",
   "execution_count": 13,
   "metadata": {},
   "outputs": [
    {
     "name": "stdout",
     "output_type": "stream",
     "text": [
      "97 122 a z\n"
     ]
    }
   ],
   "source": [
    "print(ord('a'), ord('z'), chr(97), chr(122))"
   ]
  },
  {
   "cell_type": "code",
   "execution_count": 14,
   "metadata": {},
   "outputs": [],
   "source": [
    "def decal(letter, dec):\n",
    "    res = ord(letter) + dec\n",
    "    if res > 122:\n",
    "        res -= 26\n",
    "    if res < 97:\n",
    "        res += 26\n",
    "    return chr(res)\n",
    "\n",
    "def cryptage_cesar(message, dec):\n",
    "    return ''.join([decal(letter, dec) for letter in message])\n",
    "\n",
    "def decrpytage_cesar(message, dec):\n",
    "    return ''.join([decal(letter, -dec) for letter in message])"
   ]
  },
  {
   "cell_type": "code",
   "execution_count": 15,
   "metadata": {},
   "outputs": [
    {
     "name": "stdout",
     "output_type": "stream",
     "text": [
      "toxocesczkcexmyno\n",
      "True\n"
     ]
    }
   ],
   "source": [
    "message = 'jenesuispasuncode'\n",
    "code = cryptage_cesar(message, 10)\n",
    "print(code)\n",
    "print(message == decrpytage_cesar(code, 10))"
   ]
  },
  {
   "cell_type": "markdown",
   "metadata": {},
   "source": [
    "### Code de Vigenère\n",
    "\n",
    "Le code de Vigenère est un peu plus compliqué. Il ne prend pas en entré un décalage, mais une clef. Cette clef est une chaine de caractère qui définit des décalages en fonction des caractères la composant.\n",
    "\n",
    "Par exemple, si la clef est 'abc', la premiere lettre du message est décalé de 1, la deuxieme de 2, la troisieme de 3 et on recommence: la quatrieme de 1, la cinquieme de 2, ...\n",
    "\n",
    "Écrivez la fonction `cryptage_vigenere`."
   ]
  },
  {
   "cell_type": "code",
   "execution_count": 16,
   "metadata": {},
   "outputs": [],
   "source": [
    "def cryptage_vigenere(message, clef):\n",
    "    return ''.join([decal(letter, ord(clef[i % len(clef)]) - 97) for i, letter in enumerate(message)])"
   ]
  },
  {
   "cell_type": "code",
   "execution_count": 17,
   "metadata": {},
   "outputs": [
    {
     "name": "stdout",
     "output_type": "stream",
     "text": [
      "lprjufmxrlwzpnsig\n"
     ]
    }
   ],
   "source": [
    "message = 'jenesuispasuncode'\n",
    "code = cryptage_vigenere(message, 'clef')\n",
    "print(code)"
   ]
  },
  {
   "cell_type": "markdown",
   "metadata": {},
   "source": [
    "## Exercice 7: Dictionnaire\n",
    "\n",
    "On donne une liste de noms."
   ]
  },
  {
   "cell_type": "code",
   "execution_count": 18,
   "metadata": {},
   "outputs": [],
   "source": [
    "names = ['eddard', 'catelyn', 'robb', 'sansa', 'arya', 'brandon',\n",
    "        'rickon', 'theon', 'rorbert', 'cersei', 'tywin', 'jaime',\n",
    "        'tyrion', 'shae', 'bronn', 'lancel', 'joffrey', 'sandor',\n",
    "        'varys', 'renly', 'a' ]"
   ]
  },
  {
   "cell_type": "markdown",
   "metadata": {},
   "source": [
    "Dans un premier temps, écrivez une fonction prenant en entré une lettre et une position, et qui renvoit tous les noms qui ont la bonne lettre à la bonne position.\n",
    "\n",
    "Exemple:  \n",
    "`letter_position(y, 1)` renvoit `['tywiv', 'tyrion']`"
   ]
  },
  {
   "cell_type": "code",
   "execution_count": 19,
   "metadata": {},
   "outputs": [],
   "source": [
    "def letter_position(names, letter, pos):\n",
    "    res = []\n",
    "    for name in names:\n",
    "        if len(name) > pos and name[pos] == letter:\n",
    "            res.append(name)\n",
    "    return res"
   ]
  },
  {
   "cell_type": "code",
   "execution_count": 20,
   "metadata": {},
   "outputs": [
    {
     "data": {
      "text/plain": [
       "['tywin', 'tyrion']"
      ]
     },
     "execution_count": 20,
     "metadata": {},
     "output_type": "execute_result"
    }
   ],
   "source": [
    "letter_position(names, 'y', 1)"
   ]
  },
  {
   "cell_type": "markdown",
   "metadata": {},
   "source": [
    "Cette fonction parcourt la liste chaque fois qu'elle est appelé. On voudrait construire un dictionnaire tel qu'un appel à cette fonction ne coute qu'une opération élémentaire.\n",
    "\n",
    "Construisez un dictionnaire tel que la fonction suivante fonctionnne:"
   ]
  },
  {
   "cell_type": "code",
   "execution_count": 21,
   "metadata": {},
   "outputs": [],
   "source": [
    "def letter_position(dic, letter, position):\n",
    "    return dic.get((position, letter), [])"
   ]
  },
  {
   "cell_type": "code",
   "execution_count": 22,
   "metadata": {},
   "outputs": [],
   "source": [
    "dic_letter_pos = {}\n",
    "for name in names:\n",
    "    for key in enumerate(name):\n",
    "        dic_letter_pos[key] = dic_letter_pos.get(key, []) + [name]"
   ]
  },
  {
   "cell_type": "code",
   "execution_count": 23,
   "metadata": {},
   "outputs": [
    {
     "data": {
      "text/plain": [
       "['tywin', 'tyrion']"
      ]
     },
     "execution_count": 23,
     "metadata": {},
     "output_type": "execute_result"
    }
   ],
   "source": [
    "letter_position(dic_letter_pos, 'y', 1)"
   ]
  },
  {
   "cell_type": "code",
   "execution_count": null,
   "metadata": {},
   "outputs": [],
   "source": []
  }
 ],
 "metadata": {
  "kernelspec": {
   "display_name": "Python 3",
   "language": "python",
   "name": "python3"
  },
  "language_info": {
   "codemirror_mode": {
    "name": "ipython",
    "version": 3
   },
   "file_extension": ".py",
   "mimetype": "text/x-python",
   "name": "python",
   "nbconvert_exporter": "python",
   "pygments_lexer": "ipython3",
   "version": "3.7.1"
  }
 },
 "nbformat": 4,
 "nbformat_minor": 2
}
