{
 "cells": [
  {
   "cell_type": "markdown",
   "metadata": {},
   "source": [
    "# TD3"
   ]
  },
  {
   "cell_type": "markdown",
   "metadata": {},
   "source": [
    "## Exercice 1: Counter\n",
    "\n",
    "Étant donné une liste de lettres, créez un dictionnaire dont les clefs sont les lettres présentes dans cette liste et les valeurs le nombre d'occurences des lettres associées."
   ]
  },
  {
   "cell_type": "code",
   "execution_count": null,
   "metadata": {},
   "outputs": [],
   "source": [
    "list_letters = ['a', 'b', 'c', 'd', 'a', 'b', 'c', 'a', 'b', 'a', 'z']\n",
    "counter = {}\n",
    "\n",
    "# Your code\n",
    "\n",
    "print(counter)"
   ]
  },
  {
   "cell_type": "code",
   "execution_count": null,
   "metadata": {},
   "outputs": [],
   "source": [
    "# %load solutions/exercice1.py"
   ]
  },
  {
   "cell_type": "markdown",
   "metadata": {},
   "source": [
    "## Exercice 2: Dictionnaire\n",
    "\n",
    "On donne une liste de noms."
   ]
  },
  {
   "cell_type": "code",
   "execution_count": null,
   "metadata": {},
   "outputs": [],
   "source": [
    "names = ['eddard', 'catelyn', 'robb', 'sansa', 'arya', 'brandon',\n",
    "        'rickon', 'theon', 'rorbert', 'cersei', 'tywin', 'jaime',\n",
    "        'tyrion', 'shae', 'bronn', 'lancel', 'joffrey', 'sandor',\n",
    "        'varys', 'renly', 'a' ]"
   ]
  },
  {
   "cell_type": "markdown",
   "metadata": {},
   "source": [
    "Dans un premier temps, écrivez une fonction prenant en entré une lettre et une position, et qui renvoit tous les noms qui ont la bonne lettre à la bonne position.\n",
    "\n",
    "Exemple:  \n",
    "`mots_letter_position(y, 2)` renvoit `['tywiv', 'tyrion']`"
   ]
  },
  {
   "cell_type": "code",
   "execution_count": null,
   "metadata": {},
   "outputs": [],
   "source": [
    "def letter_position(names, letter, pos):\n",
    "    pass"
   ]
  },
  {
   "cell_type": "code",
   "execution_count": null,
   "metadata": {},
   "outputs": [],
   "source": [
    "# %load -r :7 solutions/exercice2.py"
   ]
  },
  {
   "cell_type": "markdown",
   "metadata": {},
   "source": [
    "Cette fonction parcourt la liste chaque fois qu'elle est appelé. On voudrait construire un dictionnaire tel qu'un appel à cette fonction ne coute qu'une opération élémentaire.\n",
    "\n",
    "Construisez un dictionnaire tel que la fonction suivante fonctionnne:"
   ]
  },
  {
   "cell_type": "code",
   "execution_count": null,
   "metadata": {},
   "outputs": [],
   "source": [
    "def letter_position(dic, letter, position):\n",
    "    return dic.get((letter, position), [])"
   ]
  },
  {
   "cell_type": "code",
   "execution_count": null,
   "metadata": {},
   "outputs": [],
   "source": [
    "# Votre code"
   ]
  },
  {
   "cell_type": "code",
   "execution_count": null,
   "metadata": {},
   "outputs": [],
   "source": [
    "# %load -r 9: solutions/exercice2.py"
   ]
  },
  {
   "cell_type": "markdown",
   "metadata": {},
   "source": [
    "## Exercice 3: Cryptographie\n",
    "\n",
    "### Code de César\n",
    "\n",
    "Le code de César est l'un des chiffrements les plus simples qui existe. Il consiste à décaler toutes les lettres d'une chaine de caractères d'un certain nombre de lettres. Par exemple, `abc` avec un décalage de 3 donne `def`.\n",
    "\n",
    "Écrivez une fonction qui code un message selon un chiffrage de César, dont le décalage sera un argument de cette fonction, et une fonction qui décode un message.\n",
    "\n",
    "Les fonction `ord` et `chr` pourront vous aider. On suppose que le message est en minuscule, et qu'il n'y a pas de caractère spécial comme des accents."
   ]
  },
  {
   "cell_type": "code",
   "execution_count": null,
   "metadata": {},
   "outputs": [],
   "source": [
    "print(ord('a'), ord('z'), chr(97), chr(122))"
   ]
  },
  {
   "cell_type": "code",
   "execution_count": null,
   "metadata": {},
   "outputs": [],
   "source": [
    "def cryptage_cesar(message, dec):\n",
    "    pass\n",
    "\n",
    "def decrpytage_cesar(message, dec):\n",
    "    pass"
   ]
  },
  {
   "cell_type": "code",
   "execution_count": null,
   "metadata": {},
   "outputs": [],
   "source": [
    "# %load -r :14 solutions/exercice3.py"
   ]
  },
  {
   "cell_type": "code",
   "execution_count": null,
   "metadata": {},
   "outputs": [],
   "source": [
    "message = 'jenesuispasuncode'\n",
    "code = cryptage_cesar(message, 10)\n",
    "print(code)\n",
    "print(message == decrpytage_cesar(code, 10))"
   ]
  },
  {
   "cell_type": "markdown",
   "metadata": {},
   "source": [
    "### Code de Vigenère\n",
    "\n",
    "Le code de Vigenère est un peu plus compliqué. Il ne prend pas en entré un décalage, mais une clef. Cette clef est une chaine de caractère qui définit des décalages en fonction des caractères la composant.\n",
    "\n",
    "Par exemple, si la clef est 'abc', la premiere lettre du message est décalé de 1, la deuxieme de 2, la troisieme de 3 et on recommence: la quatrieme de 1, la cinquieme de 2, ...\n",
    "\n",
    "Écrivez la fonction `cryptage_vigenere`."
   ]
  },
  {
   "cell_type": "code",
   "execution_count": null,
   "metadata": {},
   "outputs": [],
   "source": [
    "def cryptage_vigenere(message, clef):\n",
    "    pass"
   ]
  },
  {
   "cell_type": "code",
   "execution_count": null,
   "metadata": {},
   "outputs": [],
   "source": [
    "# %load -r 16: solutions/exercice3.py"
   ]
  },
  {
   "cell_type": "code",
   "execution_count": null,
   "metadata": {},
   "outputs": [],
   "source": [
    "message = 'jenesuispasuncode'\n",
    "code = cryptage_vigenere(message, 'clef')\n",
    "print(code)"
   ]
  },
  {
   "cell_type": "markdown",
   "metadata": {},
   "source": [
    "## Exercice 4: recherche dichotomique\n",
    "\n",
    "On vous donne une liste d'entiers triée. Recherchez de manière optimale si un entier est dans cette liste ou non.\n",
    "\n",
    "Indice: `in` n'est pas optimal dans ce cas. En effet, on peut ne pas tester tous les éléments de la liste, en commencant par le milieu par exemple !"
   ]
  },
  {
   "cell_type": "code",
   "execution_count": null,
   "metadata": {},
   "outputs": [],
   "source": [
    "def dichotomie(l, n):\n",
    "    pass"
   ]
  },
  {
   "cell_type": "code",
   "execution_count": null,
   "metadata": {},
   "outputs": [],
   "source": [
    "# %load solutions/exercice4.py"
   ]
  },
  {
   "cell_type": "code",
   "execution_count": null,
   "metadata": {},
   "outputs": [],
   "source": [
    "l = list(range(15))\n",
    "print(dichotomie(l, 5))\n",
    "print(dichotomie(l, 15))\n",
    "print(dichotomie(l, 0))\n",
    "print(dichotomie(l, 14))\n",
    "print(dichotomie(l, -5))"
   ]
  },
  {
   "cell_type": "markdown",
   "metadata": {},
   "source": [
    "## Exercice 5: divide and conquer\n",
    "\n",
    "Certaines fonctions peuvent s'appeler elles-même. Ce sont des fonctions récursives. Nous allons voir deux exemples de fonctions récursives pour trier une liste.\n",
    "\n",
    "1. Écrivez une fonction qui:\n",
    "    - à une liste vide, renvoie une liste vide\n",
    "    - à une liste de longueur 1, renvoie cette liste\n",
    "    - à une liste non vide, prend le premier élément de cette liste, sépare le reste de la liste en les éléments plus petits que cette valeur et ceux plus grands, trie ces deux sous listes par un appel récursif, et rassemble les résultats.\n"
   ]
  },
  {
   "cell_type": "code",
   "execution_count": null,
   "metadata": {},
   "outputs": [],
   "source": [
    "def quick_sort(l):\n",
    "    pass"
   ]
  },
  {
   "cell_type": "code",
   "execution_count": null,
   "metadata": {},
   "outputs": [],
   "source": [
    "# %load -r :12 solutions/exercice5.py"
   ]
  },
  {
   "cell_type": "code",
   "execution_count": null,
   "metadata": {},
   "outputs": [],
   "source": [
    "import random\n",
    "\n",
    "l = [random.randint(0, 100) for _ in range(20)]\n",
    "print(l)\n",
    "print(quicksort(l))"
   ]
  },
  {
   "cell_type": "markdown",
   "metadata": {},
   "source": [
    "2. Dans un second temps, écrivez une fonction qui:\n",
    "    - à une liste vide revoie une liste vide\n",
    "    - à une liste de longueur 1, renvoie cette liste\n",
    "    - à une liste non vide sépare, la liste en deux au milieu, trie les deux sous listes par un appel récursif, et rassemble les résultats.\n",
    "\n",
    "Attention, le rassemblement n'est pas trivial !"
   ]
  },
  {
   "cell_type": "code",
   "execution_count": null,
   "metadata": {},
   "outputs": [],
   "source": [
    "def merge_sort(l):\n",
    "    pass"
   ]
  },
  {
   "cell_type": "code",
   "execution_count": null,
   "metadata": {},
   "outputs": [],
   "source": [
    "# %load -r 14: solutions/exercice5.py"
   ]
  },
  {
   "cell_type": "code",
   "execution_count": null,
   "metadata": {},
   "outputs": [],
   "source": [
    "import random\n",
    "\n",
    "l = [random.randint(0, 100) for _ in range(20)]\n",
    "print(l)\n",
    "print(merge_sort(l))"
   ]
  },
  {
   "cell_type": "markdown",
   "metadata": {},
   "source": [
    "## Exercice 6: Read the Doc\n",
    "\n",
    "Le but de cette exercice est de vous familiariser avec la documentation des packages.\n",
    "\n",
    "Nous voulons écrire trois fonctions. La première aura comme argument une liste de 2-uples, et devra afficher les points sur un graphique. Vous allez avoir besoin du package matplotlib, et plus précisément pyplot de matplotlib."
   ]
  },
  {
   "cell_type": "code",
   "execution_count": null,
   "metadata": {},
   "outputs": [],
   "source": [
    "def plot_points(points):\n",
    "    pass"
   ]
  },
  {
   "cell_type": "code",
   "execution_count": null,
   "metadata": {},
   "outputs": [],
   "source": [
    "# %load -r :8 solutions/exercice6.py"
   ]
  },
  {
   "cell_type": "code",
   "execution_count": null,
   "metadata": {},
   "outputs": [],
   "source": [
    "points = [(-1, -1), (-1, 1), (1, -1), (1, 1)]\n",
    "plot_points(points)"
   ]
  },
  {
   "cell_type": "markdown",
   "metadata": {},
   "source": [
    "Ensuite, nous voulons une fonction qui prend en argument `n`, qui crée une liste de `n` points tirés aléatoirement selon une loi uniforme dans le carré unitaire et qui l'affiche. Vous allez avoir besoin du package random."
   ]
  },
  {
   "cell_type": "code",
   "execution_count": null,
   "metadata": {},
   "outputs": [],
   "source": [
    "def get_n_points_in_square(n):\n",
    "    pass"
   ]
  },
  {
   "cell_type": "code",
   "execution_count": null,
   "metadata": {},
   "outputs": [],
   "source": [
    "# %load -r 10:19 solutions/exercice6.py"
   ]
  },
  {
   "cell_type": "code",
   "execution_count": null,
   "metadata": {},
   "outputs": [],
   "source": [
    "get_n_points_in_square(100)"
   ]
  },
  {
   "cell_type": "markdown",
   "metadata": {},
   "source": [
    "Enfin, même chose qu'avant mais dans le cercle unitaire."
   ]
  },
  {
   "cell_type": "code",
   "execution_count": null,
   "metadata": {},
   "outputs": [],
   "source": [
    "def get_n_points_in_circle(n):\n",
    "    pass"
   ]
  },
  {
   "cell_type": "code",
   "execution_count": null,
   "metadata": {},
   "outputs": [],
   "source": [
    "# %load -r 20: solutions/exercice6.py"
   ]
  },
  {
   "cell_type": "code",
   "execution_count": null,
   "metadata": {},
   "outputs": [],
   "source": [
    "get_n_points_in_circle(2000)"
   ]
  },
  {
   "cell_type": "markdown",
   "metadata": {},
   "source": [
    "## Exercice 7: Mastermind\n",
    "\n",
    "Suite des exercices 8 et 9 du TD2.\n",
    "\n",
    "Faites une fonction qui va évaluer l'intelligence artificielle que vous avez créé. Pour cela:\n",
    "\n",
    "1. Modifier votre fonction pour qu'elle n'ai plus besoin d'input de l'utilisateur. Pour cela, mettez la réponse en argument, et checker automatiquement la réponse.\n",
    "\n",
    "2. Faites jouer votre IA sur 100 nombres aléatoires, et calculer le nombre de coups moyens pour trouver la solution.\n",
    "\n",
    "Attention, à la fin de cette exercice, vous devez pouvoir évaluer n'importe quelle IA en changeant simplement la fonction associée, sans toucher au code d'évaluation."
   ]
  },
  {
   "cell_type": "code",
   "execution_count": null,
   "metadata": {},
   "outputs": [],
   "source": []
  }
 ],
 "metadata": {
  "kernelspec": {
   "display_name": "Python 3",
   "language": "python",
   "name": "python3"
  },
  "language_info": {
   "codemirror_mode": {
    "name": "ipython",
    "version": 3
   },
   "file_extension": ".py",
   "mimetype": "text/x-python",
   "name": "python",
   "nbconvert_exporter": "python",
   "pygments_lexer": "ipython3",
   "version": "3.7.1"
  }
 },
 "nbformat": 4,
 "nbformat_minor": 2
}
