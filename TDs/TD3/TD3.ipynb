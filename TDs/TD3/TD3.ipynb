{
 "cells": [
  {
   "cell_type": "markdown",
   "metadata": {},
   "source": [
    "# TD3"
   ]
  },
  {
   "cell_type": "markdown",
   "metadata": {},
   "source": [
    "## Exercice 1\n",
    "\n",
    "Dans cette exercise, vous n'avez pas le droit d'utiliser `+`, `-`, `*` ou `/`, ni de boucle `for`. Vous pouvez uniquement utilisé les fonctions `plus_one` et `minus_one` définies si dessous.\n",
    "\n",
    "1. Ecrivez de facon itérative puis récursive la fonction `add`. Pour la version itérative, afficher à l'écran chaque appel à celle-ci, avec les arguments. On suppose que l'on travail avec des entiers positifs."
   ]
  },
  {
   "cell_type": "code",
   "execution_count": 1,
   "metadata": {},
   "outputs": [],
   "source": [
    "def plus_one(a):\n",
    "    return a + 1\n",
    "\n",
    "def minus_one(a):\n",
    "    return a - 1"
   ]
  },
  {
   "cell_type": "code",
   "execution_count": 2,
   "metadata": {},
   "outputs": [],
   "source": [
    "def add_itératif(a, b):\n",
    "    '''Retourne la somme de a et b.'''\n",
    "    # Votre code\n",
    "    pass\n",
    "    \n",
    "def add_récursif(a, b):\n",
    "    '''Retourne la somme de a et b.'''\n",
    "    # Votre code\n",
    "    pass"
   ]
  },
  {
   "cell_type": "markdown",
   "metadata": {},
   "source": [
    "2. En utilisant `add_itératif`, créez `mul_itératif`, qui multiplie deux nombres."
   ]
  },
  {
   "cell_type": "code",
   "execution_count": 3,
   "metadata": {},
   "outputs": [],
   "source": [
    "def mul_itératif(a, b):\n",
    "    '''Retourne a * b'''\n",
    "    pass"
   ]
  },
  {
   "cell_type": "markdown",
   "metadata": {},
   "source": [
    "3. En utilisant `add_récursif`, créez `mul_récursif`. Là encore, affichez tous les appels à cette fonction, avec les arguments."
   ]
  },
  {
   "cell_type": "code",
   "execution_count": 4,
   "metadata": {},
   "outputs": [],
   "source": [
    "def mul_récursif(a, b):\n",
    "    '''Retourne a*b'''\n",
    "    pass"
   ]
  },
  {
   "cell_type": "markdown",
   "metadata": {},
   "source": [
    "## Exercice 2\n",
    "\n",
    "Ecrire une version itérative et une version récursive d'un programme qui :\n",
    "* Génère des nombres entiers aléatoires compris entre 0 et 100 (inclus),\n",
    "* Affiche parmi ces nombres ceux qui sont multiples de 5 ou de 6,\n",
    "* S’arrête quand 10 nombres aléatoires multiples de 5 ou de 6 sont affichés.\n",
    "\n",
    "Vous aurez besoin de la fonction `randint` du package random. `randint(a, b)` renvoit un nombre aléatoire plus grand ou égal à `a`, mais strictement inférieur à `b`."
   ]
  },
  {
   "cell_type": "code",
   "execution_count": 5,
   "metadata": {},
   "outputs": [],
   "source": [
    "from random import randint\n",
    "\n",
    "def random_multiple_iter():\n",
    "    # votre programme\n",
    "    pass\n",
    "\n",
    "def random_multiple_rec():\n",
    "    # Votre programme\n",
    "    pass"
   ]
  },
  {
   "cell_type": "markdown",
   "metadata": {},
   "source": [
    "## Exercice 3: recherche dichotomique\n",
    "\n",
    "On vous donne une liste d'entiers triée. Recherchez de manière optimale si un entier est dans cette liste ou non. Faites une version itérative et une version récursive.\n",
    "\n",
    "Indice: `in` n'est pas optimal dans ce cas. En effet, on peut ne pas tester tous les éléments de la liste, en commencant par le milieu par exemple !"
   ]
  },
  {
   "cell_type": "code",
   "execution_count": 6,
   "metadata": {},
   "outputs": [],
   "source": [
    "def dichotomie_iter(l, n):\n",
    "    pass\n",
    "\n",
    "def dichotomie_rec(l, n):\n",
    "    pass"
   ]
  },
  {
   "cell_type": "markdown",
   "metadata": {},
   "source": [
    "## Exercice 4: divide and conquer\n",
    "\n",
    "Nous allons apprendre deux tris de liste plus efficace, qui se reposent sur le principe de diviser pour conquérir.\n",
    "\n",
    "1. Écrivez un algorithme qui:\n",
    "    - à une liste vide, renvoie une liste vide\n",
    "    - à une liste non vide, prend le premier élément de cette liste, sépare le reste de la liste en les éléments plus petits que cette valeur et ceux plus grands, trie ces deux sous listes, et rassemble les résultats.\n"
   ]
  },
  {
   "cell_type": "code",
   "execution_count": 7,
   "metadata": {},
   "outputs": [],
   "source": [
    "def quick_sort(l):\n",
    "    pass"
   ]
  },
  {
   "cell_type": "markdown",
   "metadata": {},
   "source": [
    "2. Dans un second temps, écrivez un algorithme qui sépare la liste en deux, trie les deux sous listes, et rassemble les résultats. Attention, le merge est moins évident qu'avant!"
   ]
  },
  {
   "cell_type": "code",
   "execution_count": 8,
   "metadata": {},
   "outputs": [],
   "source": [
    "def merge_sort(l):\n",
    "    pass"
   ]
  },
  {
   "cell_type": "markdown",
   "metadata": {},
   "source": [
    "## Exercice 5: algorithme glouton\n",
    "\n",
    "Étant donné une liste d'entier, sommez les... Cependant, il y a une complication. L'opération `+` a maintenant un coup. Quand vous ajoutez a et b, vous devez payer le cout a+b.\n",
    "\n",
    "Par exemple, si vous avez la liste `[1, 2, 3]`, vous pouvez la sommez de différente facon:\n",
    "\n",
    "Approche 1  \n",
    "1 + 2 = 3 (cout = 3)  \n",
    "3 + 3 = 6 (cout = 6)  \n",
    "Cout total = 9\n",
    "\n",
    "Approche 2  \n",
    "1 + 3 = 4 (cout = 4)  \n",
    "4 + 2 = 6 (cout = 6)  \n",
    "Cout total = 10\n",
    "\n",
    "Approche 3  \n",
    "2 + 3 = 5 (cout = 5)  \n",
    "5 + 1 = 6 (cout = 6)  \n",
    "Cout total = 11\n",
    "\n",
    "Trouvez le cout le plus faible."
   ]
  },
  {
   "cell_type": "code",
   "execution_count": 9,
   "metadata": {},
   "outputs": [],
   "source": [
    "def lowest_cost(l):\n",
    "    pass"
   ]
  },
  {
   "cell_type": "markdown",
   "metadata": {},
   "source": [
    "## Exercice 6: Rappel - cryptographie\n",
    "\n",
    "### Code de César\n",
    "\n",
    "Le code de César est l'un des chiffrements les plus simples qui existe. Il consiste à décaler toutes les lettres d'une chaine de caractères d'un certain nombre de lettres. Par exemple, `abc` avec un décalage de 3 donne `def`.\n",
    "\n",
    "Écrivez une fonction qui code un message selon un chiffrage de César, dont le décalage sera un argument de cette fonction, et une fonction qui décode un message.\n",
    "\n",
    "Les fonction `ord` et `chr` pourront vous aider. On suppose que le message est en minuscule, et"
   ]
  },
  {
   "cell_type": "code",
   "execution_count": 10,
   "metadata": {},
   "outputs": [
    {
     "name": "stdout",
     "output_type": "stream",
     "text": [
      "97 122 a z\n"
     ]
    }
   ],
   "source": [
    "print(ord('a'), ord('z'), chr(97), chr(122))"
   ]
  },
  {
   "cell_type": "code",
   "execution_count": 11,
   "metadata": {},
   "outputs": [],
   "source": [
    "def cryptage_cesar(message, dec):\n",
    "    pass\n",
    "\n",
    "def decrpytage_cesar(message, dec):\n",
    "    pass"
   ]
  },
  {
   "cell_type": "markdown",
   "metadata": {},
   "source": [
    "### Code de Vigenère\n",
    "\n",
    "Le code de Vigenère est un peu plus compliqué. Il ne prend pas en entré un décalage, mais une clef. Cette clef est une chaine de caractère qui définit des décalages en fonction des caractères la composant.\n",
    "\n",
    "Par exemple, si la clef est 'abc', la premiere lettre du message est décalé de 1, la deuxieme de 2, la troisieme de 3 et on recommence: la quatrieme de 1, la cinquieme de 2, ...\n",
    "\n",
    "Écrivez la fonction `cryptage_vigenere`."
   ]
  },
  {
   "cell_type": "code",
   "execution_count": 12,
   "metadata": {},
   "outputs": [],
   "source": [
    "def cryptage_vigenere(message, clef):\n",
    "    pass"
   ]
  },
  {
   "cell_type": "markdown",
   "metadata": {},
   "source": [
    "## Exercice 7: Dictionnaire\n",
    "\n",
    "On donne une liste de noms."
   ]
  },
  {
   "cell_type": "code",
   "execution_count": 13,
   "metadata": {},
   "outputs": [],
   "source": [
    "names = ['eddard', 'catelyn', 'robb', 'sansa', 'arya', 'brandon',\n",
    "        'rickon', 'theon', 'rorbert', 'cersei', 'tywin', 'jaime',\n",
    "        'tyrion', 'shae', 'bronn', 'lancel', 'joffrey', 'sandor',\n",
    "        'varys', 'renly', 'a' ]"
   ]
  },
  {
   "cell_type": "markdown",
   "metadata": {},
   "source": [
    "Dans un premier temps, écrivez une fonction prenant en entré une lettre et une position, et qui renvoit tous les noms qui ont la bonne lettre à la bonne position.\n",
    "\n",
    "Exemple:  \n",
    "`mots_letter_position(y, 2)` renvoit `['tywiv', 'tyrion']`"
   ]
  },
  {
   "cell_type": "code",
   "execution_count": 14,
   "metadata": {},
   "outputs": [],
   "source": [
    "def letter_position(names, letter, pos):\n",
    "    pass"
   ]
  },
  {
   "cell_type": "markdown",
   "metadata": {},
   "source": [
    "Cette fonction parcourt la liste chaque fois qu'elle est appelé. On voudrait construire un dictionnaire tel qu'un appel à cette fonction ne coute qu'une opération élémentaire.\n",
    "\n",
    "Construisez un dictionnaire tel que la fonction suivante fonctionnne:"
   ]
  },
  {
   "cell_type": "code",
   "execution_count": 15,
   "metadata": {},
   "outputs": [],
   "source": [
    "def letter_position(dic, letter, position):\n",
    "    return dic.get((letter, position), [])"
   ]
  },
  {
   "cell_type": "code",
   "execution_count": null,
   "metadata": {},
   "outputs": [],
   "source": []
  }
 ],
 "metadata": {
  "kernelspec": {
   "display_name": "Python 3",
   "language": "python",
   "name": "python3"
  },
  "language_info": {
   "codemirror_mode": {
    "name": "ipython",
    "version": 3
   },
   "file_extension": ".py",
   "mimetype": "text/x-python",
   "name": "python",
   "nbconvert_exporter": "python",
   "pygments_lexer": "ipython3",
   "version": "3.6.7rc1"
  }
 },
 "nbformat": 4,
 "nbformat_minor": 2
}
