{
 "cells": [
  {
   "cell_type": "markdown",
   "metadata": {},
   "source": [
    "# TD 2: listes/sets/dictionnaires et boucle for/while"
   ]
  },
  {
   "cell_type": "markdown",
   "metadata": {},
   "source": [
    "**Note**: nous n'avons pas encore vu les fonctions, mais les réponses doivent être écrites sous forment de fonction.\n",
    "Classiquement, une fonction se définit comme:"
   ]
  },
  {
   "cell_type": "code",
   "execution_count": 1,
   "metadata": {},
   "outputs": [],
   "source": [
    "def ma_fonction(parametre1, parametre2):\n",
    "    # Les instructions\n",
    "    resultat = parametre1 + parametre2\n",
    "    # Si il y a un résultat, on le retourne avec le mot clef return\n",
    "    return resultat"
   ]
  },
  {
   "cell_type": "markdown",
   "metadata": {},
   "source": [
    "## Exo 1:"
   ]
  },
  {
   "cell_type": "markdown",
   "metadata": {},
   "source": [
    "- Écrivez un programme qui affiche une suite de 12 nombres dans laquelle chaque terme est égal au triple du terme précédent.\n",
    "\n",
    "- Complétez ce programme pour faire saisir par l'utilisateur la valeur du 1er terme de la suite. Cette fonction ne prendra pas d'arguments, et appelera la fonction précédente."
   ]
  },
  {
   "cell_type": "code",
   "execution_count": 2,
   "metadata": {},
   "outputs": [],
   "source": [
    "def print_suite_triplet(n):\n",
    "    current_n = n\n",
    "    for _ in range(12):\n",
    "        print(current_n)\n",
    "        current_n *= 3"
   ]
  },
  {
   "cell_type": "code",
   "execution_count": 3,
   "metadata": {},
   "outputs": [
    {
     "name": "stdout",
     "output_type": "stream",
     "text": [
      "2\n",
      "6\n",
      "18\n",
      "54\n",
      "162\n",
      "486\n",
      "1458\n",
      "4374\n",
      "13122\n",
      "39366\n",
      "118098\n",
      "354294\n"
     ]
    }
   ],
   "source": [
    "print_suite_triplet(2)"
   ]
  },
  {
   "cell_type": "code",
   "execution_count": 4,
   "metadata": {},
   "outputs": [],
   "source": [
    "def print_suite_triplet_utilisateur():\n",
    "    n = int(input('Premier terme de la suite: '))\n",
    "    print_suite_triplet(n)"
   ]
  },
  {
   "cell_type": "code",
   "execution_count": 5,
   "metadata": {},
   "outputs": [
    {
     "name": "stdout",
     "output_type": "stream",
     "text": [
      "Premier terme de la suite: 2\n",
      "2\n",
      "6\n",
      "18\n",
      "54\n",
      "162\n",
      "486\n",
      "1458\n",
      "4374\n",
      "13122\n",
      "39366\n",
      "118098\n",
      "354294\n"
     ]
    }
   ],
   "source": [
    "print_suite_triplet_utilisateur()"
   ]
  },
  {
   "cell_type": "markdown",
   "metadata": {},
   "source": [
    "# Exo 2:\n",
    "\n",
    "On veut calculer une somme d'entiers successifs, à l'aide d'une boucle for. (c'est à dire que l'on veut calculer une somme 1+2+3+4+5 + ... + n )\n",
    "1) Tout d'abord, écrire une fonction pour calculer la somme des entiers successifs entre 1 et n inclus (c'est à dire la somme : 1+2+3+4+...+n). \n",
    "\n",
    "Exemple d'exécution :\n",
    "      \n",
    "      la somme des entiers de 1 à 10 est 55\n",
    "      \n",
    "2) Modifiez votre programme pour qu'il affiche tous les nombres de la somme séparés par un + , suivis de = et de la somme résultat.\n",
    "\n",
    "Exemple d'exécution :\n",
    "\n",
    "    la somme des entiers de 1 à 11 est 1+2+3+4+5+6+7+8+9+10+11 = 66"
   ]
  },
  {
   "cell_type": "code",
   "execution_count": 6,
   "metadata": {},
   "outputs": [],
   "source": [
    "def print_result_somme(n):\n",
    "    result = 0\n",
    "    for i in range(n + 1):\n",
    "        result += i\n",
    "    print('La somme des entiers de 1 à ',n , ' est ', result)\n",
    "    \n",
    "# Plus élégant\n",
    "def print_result_somme(n):\n",
    "    result = sum([i for i in range(1, n + 1)])\n",
    "    print(f'La somme des entiers de 1 à {n} est {result}')"
   ]
  },
  {
   "cell_type": "code",
   "execution_count": 7,
   "metadata": {},
   "outputs": [
    {
     "name": "stdout",
     "output_type": "stream",
     "text": [
      "La somme des entiers de 1 à 15 est 120\n"
     ]
    }
   ],
   "source": [
    "print_result_somme(15)"
   ]
  },
  {
   "cell_type": "code",
   "execution_count": 8,
   "metadata": {},
   "outputs": [],
   "source": [
    "def print_somme(n):\n",
    "    s = 'La somme des entiers de 1 à ' + str(n) + ' est '\n",
    "    result = 0\n",
    "    for i in range(1, n):\n",
    "        s += str(i) + ' + '\n",
    "        result += i\n",
    "    print(s + str(n) + ' = ' + str(result + n))\n",
    "    \n",
    "# Plus élégant\n",
    "def print_somme(n):\n",
    "    print(f'La somme des entiers de 1 à {n} est ', end = '')\n",
    "    result = 0\n",
    "    for i in range(1, n):\n",
    "        print(f'{i} + ', end='')\n",
    "        result += i\n",
    "    print(f'{n} = {result + n}')"
   ]
  },
  {
   "cell_type": "code",
   "execution_count": 9,
   "metadata": {},
   "outputs": [
    {
     "name": "stdout",
     "output_type": "stream",
     "text": [
      "La somme des entiers de 1 à 15 est 1 + 2 + 3 + 4 + 5 + 6 + 7 + 8 + 9 + 10 + 11 + 12 + 13 + 14 + 15 = 120\n"
     ]
    }
   ],
   "source": [
    "print_somme(15)"
   ]
  },
  {
   "cell_type": "markdown",
   "metadata": {},
   "source": [
    "## Exo 3:"
   ]
  },
  {
   "cell_type": "markdown",
   "metadata": {},
   "source": [
    "Ecrire un programme qui détermine si une chaîne de caractères est la concaténation de deux phrases identiques."
   ]
  },
  {
   "cell_type": "code",
   "execution_count": 10,
   "metadata": {},
   "outputs": [],
   "source": [
    "def is_concatenation(s):\n",
    "    length = len(s)\n",
    "    if length % 2 == 1:\n",
    "        return False\n",
    "    x = length // 2\n",
    "    for i in range(x):\n",
    "        if not(s[i] == s[x + i]):\n",
    "            return False\n",
    "    return True"
   ]
  },
  {
   "cell_type": "code",
   "execution_count": 11,
   "metadata": {},
   "outputs": [
    {
     "data": {
      "text/plain": [
       "True"
      ]
     },
     "execution_count": 11,
     "metadata": {},
     "output_type": "execute_result"
    }
   ],
   "source": [
    "is_concatenation('sabsab')"
   ]
  },
  {
   "cell_type": "markdown",
   "metadata": {},
   "source": [
    "## Exo 4"
   ]
  },
  {
   "cell_type": "markdown",
   "metadata": {},
   "source": [
    "Écrire un mastermind. Le programme va générer un nombre aléatoire à 5 chiffres, puis va demander à l'utilisateur un nombre à 5 chiffres. Il va ensuite donner le nombre de chiffres bien placés, et le nombre de chiffres mal placés. Le programme répète ces instructions tant que l'utilisateur ne trouve pas le bon nombre. Il affichera à la fin le nombre d'essais qu'il a fallu à l'utilisateur pour trouver.\n",
    "\n",
    "Consignes, aides et conseils:\n",
    "- Votre programme devra checker les inputs de l'utilsateur, tester si ils ont la bonne forme\n",
    "- un nombre aléatoire peut être générer via la fonction randint du module random. Il faut importer le model (import random) puis appeler la fonction randint de ce module (random.randint(nbmin, nbmax), nbmin inclut, nbmax non inclut).\n",
    "- faites attention au type utilisé"
   ]
  },
  {
   "cell_type": "code",
   "execution_count": 12,
   "metadata": {},
   "outputs": [],
   "source": [
    "import random\n",
    "\n",
    "def check_input(l):\n",
    "    if len(l) != 5:\n",
    "        return False\n",
    "    for elem in l:\n",
    "        if not(int(elem) >= 0 or int(elem) < 10):\n",
    "            return False\n",
    "    return True\n",
    "\n",
    "def n_placed_and_n_wrongly_placed(guess, answer):\n",
    "    n_placed, n_good = 0, 0\n",
    "    used = [False] * 5\n",
    "    for i, elem in enumerate(guess):\n",
    "        if answer[i] == elem:\n",
    "            n_placed += 1\n",
    "            if used[i]:\n",
    "                n_good -= 1\n",
    "            else:\n",
    "                used[i] = True\n",
    "        else:\n",
    "            for j in range(len(answer)):\n",
    "                if  answer[j] == elem and not used[j]:\n",
    "                    used[j] = True\n",
    "                    n_good += 1\n",
    "                    break\n",
    "    return n_placed, n_good\n",
    "\n",
    "def mastermind():\n",
    "    answer = [random.randint(0, 9) for _ in range(5)]\n",
    "    guess = []\n",
    "    nb_try = 0\n",
    "    while guess != answer:\n",
    "        nb_try += 1\n",
    "        guess = []\n",
    "        while not check_input(guess):\n",
    "            guess = [int(i) for i in input('A quel nombre je pense ? ')]\n",
    "        good_placed, good_digits = n_placed_and_n_wrongly_placed(guess, answer)\n",
    "        print(f'Vous avez {good_placed} chiffres bien placés et {good_digits} bon chiffres mal placés.')\n",
    "    print(f'Gagné en {nb_try} essais.')\n",
    "        "
   ]
  },
  {
   "cell_type": "code",
   "execution_count": 13,
   "metadata": {},
   "outputs": [
    {
     "name": "stdout",
     "output_type": "stream",
     "text": [
      "A quel nombre je pense ? 00000\n",
      "Vous avez 0 chiffres bien placés et 0 bon chiffres mal placés.\n",
      "A quel nombre je pense ? 11111\n",
      "Vous avez 1 chiffres bien placés et 0 bon chiffres mal placés.\n",
      "A quel nombre je pense ? 12222\n",
      "Vous avez 1 chiffres bien placés et 0 bon chiffres mal placés.\n",
      "A quel nombre je pense ? 133\n",
      "A quel nombre je pense ? 13333\n",
      "Vous avez 2 chiffres bien placés et 0 bon chiffres mal placés.\n",
      "A quel nombre je pense ? 13444\n",
      "Vous avez 1 chiffres bien placés et 1 bon chiffres mal placés.\n",
      "A quel nombre je pense ? 15355\n",
      "Vous avez 2 chiffres bien placés et 0 bon chiffres mal placés.\n",
      "A quel nombre je pense ? 16366\n",
      "Vous avez 3 chiffres bien placés et 0 bon chiffres mal placés.\n",
      "A quel nombre je pense ? 16377\n",
      "Vous avez 3 chiffres bien placés et 0 bon chiffres mal placés.\n",
      "A quel nombre je pense ? 16388\n",
      "Vous avez 4 chiffres bien placés et 0 bon chiffres mal placés.\n",
      "A quel nombre je pense ? 16389\n",
      "Vous avez 5 chiffres bien placés et 0 bon chiffres mal placés.\n",
      "Gagné en 10 essais.\n"
     ]
    }
   ],
   "source": [
    "mastermind()"
   ]
  },
  {
   "cell_type": "markdown",
   "metadata": {},
   "source": [
    "## Exo 5:\n",
    "\n",
    "Écrire un programme qui, en une seule boucle, calcule le minimum, le maximum et la moyenne d'une liste de nombres flottants."
   ]
  },
  {
   "cell_type": "code",
   "execution_count": 14,
   "metadata": {},
   "outputs": [],
   "source": [
    "def min_max_mean(l):\n",
    "    if not l:\n",
    "        print('l is empty')\n",
    "        return\n",
    "    m = l[0]\n",
    "    M = l[0]\n",
    "    s = l[0]\n",
    "    for elem in l[1:]:\n",
    "        m = min(elem, m)\n",
    "        M = max(elem, M)\n",
    "        s += elem\n",
    "    print(f'The min of l is {m}, the max is {M} and the mean is {s/len(l)}')"
   ]
  },
  {
   "cell_type": "code",
   "execution_count": 15,
   "metadata": {},
   "outputs": [
    {
     "name": "stdout",
     "output_type": "stream",
     "text": [
      "[6, 10, 6, 6, 10, 2, 4, -7, 9, -5]\n",
      "The min of l is -7, the max is 10 and the mean is 4.1\n"
     ]
    }
   ],
   "source": [
    "l = [random.randint(-10, 10) for _ in range(10)]\n",
    "print(l)\n",
    "min_max_mean(l)"
   ]
  },
  {
   "cell_type": "markdown",
   "metadata": {},
   "source": [
    "## Exo 6:\n",
    "\n",
    "Écrire une boucle qui demande à l'utilisateur d'entrer des notes d'élèves. La boucle se terminera seulement si l'utilisateur entre une valeur strictement négative.\n",
    "\n",
    "Avec les notes ainsi entrées, construire progressivement une liste. Après chaque entrée d'une nouvelle note (et donc à chaque itération de la boucle), afficher la moyenne de toutes les notes."
   ]
  },
  {
   "cell_type": "code",
   "execution_count": 16,
   "metadata": {},
   "outputs": [],
   "source": [
    "def print_mean():\n",
    "    grades = []\n",
    "    grade = 0\n",
    "    while grade >= 0:\n",
    "        grade = float(input('Entrez une note: '))\n",
    "        if grade >= 0:\n",
    "            grades.append(grade)\n",
    "            print(f'Actuellement, la moyenne est de {sum(grades) / len(grades)}')"
   ]
  },
  {
   "cell_type": "code",
   "execution_count": 17,
   "metadata": {},
   "outputs": [
    {
     "name": "stdout",
     "output_type": "stream",
     "text": [
      "Entrez une note: 0\n",
      "Actuellement, la moyenne est de 0.0\n",
      "Entrez une note: 5\n",
      "Actuellement, la moyenne est de 2.5\n",
      "Entrez une note: 10\n",
      "Actuellement, la moyenne est de 5.0\n",
      "Entrez une note: 15\n",
      "Actuellement, la moyenne est de 7.5\n",
      "Entrez une note: 20\n",
      "Actuellement, la moyenne est de 10.0\n",
      "Entrez une note: -1\n"
     ]
    }
   ],
   "source": [
    "print_mean()"
   ]
  },
  {
   "cell_type": "markdown",
   "metadata": {},
   "source": [
    "## Exo 7:\n",
    "\n",
    "Écrire une fonction qui convertit un nombre en binaire."
   ]
  },
  {
   "cell_type": "code",
   "execution_count": 18,
   "metadata": {},
   "outputs": [],
   "source": [
    "def to_binary(n):\n",
    "    if n == 0:\n",
    "        print('0')\n",
    "        return\n",
    "    digits = []\n",
    "    while n > 0:\n",
    "        digits.append(n % 2)\n",
    "        n = n // 2\n",
    "    print(''.join([str(digit) for digit in digits[::-1]]))"
   ]
  },
  {
   "cell_type": "code",
   "execution_count": 19,
   "metadata": {},
   "outputs": [
    {
     "name": "stdout",
     "output_type": "stream",
     "text": [
      "1010\n"
     ]
    }
   ],
   "source": [
    "to_binary(10)"
   ]
  },
  {
   "cell_type": "markdown",
   "metadata": {},
   "source": [
    "## Exo 8:\n",
    "\n",
    "On cherche à trier une liste de plusieurs facons:\n",
    "\n",
    "1) Tout d'abord, écrivez un programme qui crée une deuxième liste, qui met le plus petit nombre en premiere place, plus le deuxieme plus petit en deuxieme, et ainsi de suite.\n",
    "\n",
    "2) Ensuite, écrivez un programme qui va parcourir la liste, et si deux éléments cote à cote sont dans le désordre, les permutent. Tant que la liste n'est pas triée, il reparcourt la liste."
   ]
  },
  {
   "cell_type": "code",
   "execution_count": 20,
   "metadata": {},
   "outputs": [],
   "source": [
    "def sort1(l):\n",
    "    g = []\n",
    "    treated_min = min(l) - 1\n",
    "    while len(g) < len(l):\n",
    "        count = 0\n",
    "        current_min = max(l)\n",
    "        for elem in l:\n",
    "            if elem <= treated_min:\n",
    "                continue\n",
    "            if elem == current_min:\n",
    "                count += 1\n",
    "            elif elem < current_min:\n",
    "                count = 1\n",
    "                current_min = elem\n",
    "        treated_min = current_min\n",
    "        g += [current_min] * count\n",
    "    return g\n",
    "    \n",
    "def is_sorted(l):\n",
    "    for i in range(len(l) - 1):\n",
    "        if l[i] > l[i+1]:\n",
    "            return False\n",
    "    return True\n",
    "\n",
    "def sort2(l):\n",
    "    while not is_sorted(l):\n",
    "        for i in range(len(l)-1):\n",
    "            if l[i] > l[i+1]:\n",
    "                tmp = l[i]\n",
    "                l[i] = l[i+1]\n",
    "                l[i+1] = tmp\n",
    "    "
   ]
  },
  {
   "cell_type": "code",
   "execution_count": 22,
   "metadata": {},
   "outputs": [
    {
     "name": "stdout",
     "output_type": "stream",
     "text": [
      "Sort 1\n",
      "[0, -5, 2, 6, -10, 1, -8, 7, 8, -2]\n",
      "[-10, -8, -5, -2, 0, 1, 2, 6, 7, 8]\n",
      "\n",
      "Sort 2\n",
      "[0, -5, 2, 6, -10, 1, -8, 7, 8, -2]\n",
      "[-10, -8, -5, -2, 0, 1, 2, 6, 7, 8]\n"
     ]
    }
   ],
   "source": [
    "l = [random.randint(-10, 10) for _ in range(10)]\n",
    "print('Sort 1')\n",
    "print(l)\n",
    "print(sort1(l))\n",
    "print('\\nSort 2')\n",
    "print(l)\n",
    "sort2(l)\n",
    "print(l)"
   ]
  }
 ],
 "metadata": {
  "kernelspec": {
   "display_name": "Python 3",
   "language": "python",
   "name": "python3"
  },
  "language_info": {
   "codemirror_mode": {
    "name": "ipython",
    "version": 3
   },
   "file_extension": ".py",
   "mimetype": "text/x-python",
   "name": "python",
   "nbconvert_exporter": "python",
   "pygments_lexer": "ipython3",
   "version": "3.6.7rc1"
  }
 },
 "nbformat": 4,
 "nbformat_minor": 2
}
