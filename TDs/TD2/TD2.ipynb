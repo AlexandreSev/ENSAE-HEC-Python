{
 "cells": [
  {
   "cell_type": "markdown",
   "metadata": {},
   "source": [
    "# TD 2: listes/sets/dictionnaires et boucle for/while"
   ]
  },
  {
   "cell_type": "markdown",
   "metadata": {},
   "source": [
    "**Note**: nous n'avons pas encore vu les fonctions, mais les réponses de ce TD vont être écrites sous forme de fonction.\n",
    "Classiquement, une fonction se définit comme:"
   ]
  },
  {
   "cell_type": "code",
   "execution_count": 1,
   "metadata": {},
   "outputs": [],
   "source": [
    "def ma_fonction(parametre1, parametre2):\n",
    "    # Les instructions\n",
    "    resultat = parametre1 + parametre2\n",
    "    # Si il y a un résultat, on le retourne avec le mot clef return\n",
    "    return resultat"
   ]
  },
  {
   "cell_type": "markdown",
   "metadata": {},
   "source": [
    "## Exo 1:"
   ]
  },
  {
   "cell_type": "markdown",
   "metadata": {},
   "source": [
    "- Écrivez un programme qui affiche une suite de 12 nombres dans laquelle chaque terme est égal au triple du terme précédent. Le premier terme de cette suite sera donné en paramètre de la fonction."
   ]
  },
  {
   "cell_type": "code",
   "execution_count": 2,
   "metadata": {},
   "outputs": [],
   "source": [
    "def print_triple_sequence(first_term):\n",
    "    # votre programme\n",
    "    pass"
   ]
  },
  {
   "cell_type": "code",
   "execution_count": 3,
   "metadata": {},
   "outputs": [],
   "source": [
    "print_triple_sequence(3)"
   ]
  },
  {
   "cell_type": "code",
   "execution_count": 4,
   "metadata": {},
   "outputs": [],
   "source": [
    "# %load -r :6 solutions/triple_sequence.py"
   ]
  },
  {
   "cell_type": "markdown",
   "metadata": {},
   "source": [
    "- Complétez ce programme pour faire saisir par l'utilisateur la valeur du 1er terme de la suite. Cette fonction ne prendra pas d'arguments, et appelera la fonction précédente."
   ]
  },
  {
   "cell_type": "code",
   "execution_count": 5,
   "metadata": {},
   "outputs": [],
   "source": [
    "def print_triple_sequence_user():\n",
    "    # Votre programme\n",
    "    pass"
   ]
  },
  {
   "cell_type": "code",
   "execution_count": 6,
   "metadata": {},
   "outputs": [],
   "source": [
    "print_triple_sequence_user()"
   ]
  },
  {
   "cell_type": "code",
   "execution_count": 7,
   "metadata": {},
   "outputs": [],
   "source": [
    "# %load -r 8: solutions/triple_sequence.py"
   ]
  },
  {
   "cell_type": "markdown",
   "metadata": {},
   "source": [
    "# Exo 2:\n",
    "\n",
    "On veut calculer une somme d'entiers successifs, à l'aide d'une boucle for. (c'est à dire que l'on veut calculer une somme 1+2+3+4+5 + ... + n )\n",
    "\n",
    "1) Tout d'abord, écrire une fonction pour calculer la somme des entiers successifs entre 1 et n inclus (c'est à dire la somme : 1+2+3+4+...+n) et présenter les résultats sous le format ci dessus.\n",
    "\n",
    "Exemple d'exécution :\n",
    "      \n",
    "      la somme des entiers de 1 à 10 est 55"
   ]
  },
  {
   "cell_type": "code",
   "execution_count": 8,
   "metadata": {},
   "outputs": [],
   "source": [
    "def print_result_sum(n):\n",
    "    # votre programme\n",
    "    pass"
   ]
  },
  {
   "cell_type": "code",
   "execution_count": 9,
   "metadata": {},
   "outputs": [],
   "source": [
    "print_result_sum(10)"
   ]
  },
  {
   "cell_type": "code",
   "execution_count": 10,
   "metadata": {},
   "outputs": [],
   "source": [
    "# %load -r :7 solutions/print_sum.py"
   ]
  },
  {
   "cell_type": "markdown",
   "metadata": {},
   "source": [
    "2) Modifiez votre programme pour qu'il affiche tous les nombres de la somme séparés par un + , suivis de = et de la somme résultat.\n",
    "\n",
    "Exemple d'exécution :\n",
    "\n",
    "    la somme des entiers de 1 à 11 est 1+2+3+4+5+6+7+8+9+10+11 = 66"
   ]
  },
  {
   "cell_type": "code",
   "execution_count": 11,
   "metadata": {},
   "outputs": [],
   "source": [
    "def print_sum(n):\n",
    "    # votre programme\n",
    "    pass"
   ]
  },
  {
   "cell_type": "code",
   "execution_count": 12,
   "metadata": {},
   "outputs": [],
   "source": [
    "print_sum(10)"
   ]
  },
  {
   "cell_type": "code",
   "execution_count": 13,
   "metadata": {},
   "outputs": [],
   "source": [
    "# %load -r 8: solutions/print_sum.py"
   ]
  },
  {
   "cell_type": "markdown",
   "metadata": {},
   "source": [
    "## Exo 3:"
   ]
  },
  {
   "cell_type": "markdown",
   "metadata": {},
   "source": [
    "Ecrire un programme qui détermine si une chaîne de caractères est la concaténation de deux phrases identiques."
   ]
  },
  {
   "cell_type": "code",
   "execution_count": 14,
   "metadata": {},
   "outputs": [],
   "source": [
    "def is_concatenation(s):\n",
    "    # votre programme\n",
    "    pass"
   ]
  },
  {
   "cell_type": "code",
   "execution_count": 15,
   "metadata": {},
   "outputs": [],
   "source": [
    "is_concatenation('aababb')"
   ]
  },
  {
   "cell_type": "code",
   "execution_count": 16,
   "metadata": {},
   "outputs": [],
   "source": [
    "# %load solutions/concatenation.py"
   ]
  },
  {
   "cell_type": "markdown",
   "metadata": {},
   "source": [
    "## Exo 4:\n",
    "\n",
    "Écrire un programme qui, en une seule boucle, calcule le minimum, le maximum et la moyenne d'une liste de nombres flottants."
   ]
  },
  {
   "cell_type": "code",
   "execution_count": 17,
   "metadata": {},
   "outputs": [],
   "source": [
    "def min_max_mean(l):\n",
    "    # votre programme\n",
    "    pass"
   ]
  },
  {
   "cell_type": "code",
   "execution_count": 18,
   "metadata": {},
   "outputs": [],
   "source": [
    "min_max_mean([5.5, 10, 17, 20, 0., 4.5])"
   ]
  },
  {
   "cell_type": "code",
   "execution_count": 19,
   "metadata": {},
   "outputs": [],
   "source": [
    "# %load solutions/min_max_mean.py"
   ]
  },
  {
   "cell_type": "markdown",
   "metadata": {},
   "source": [
    "## Exo 5:\n",
    "\n",
    "Écrire une boucle qui demande à l'utilisateur d'entrer des notes d'élèves. La boucle se terminera seulement si l'utilisateur entre une valeur strictement négative.\n",
    "\n",
    "Avec les notes ainsi entrées, construire progressivement une liste. Après chaque entrée d'une nouvelle note (et donc à chaque itération de la boucle), afficher la moyenne de toutes les notes."
   ]
  },
  {
   "cell_type": "code",
   "execution_count": 20,
   "metadata": {},
   "outputs": [],
   "source": [
    "def print_mean():\n",
    "    # votre programme\n",
    "    pass"
   ]
  },
  {
   "cell_type": "code",
   "execution_count": 21,
   "metadata": {},
   "outputs": [],
   "source": [
    "print_mean()"
   ]
  },
  {
   "cell_type": "code",
   "execution_count": 22,
   "metadata": {},
   "outputs": [],
   "source": [
    "# %load solutions/print_mean.py"
   ]
  },
  {
   "cell_type": "markdown",
   "metadata": {},
   "source": [
    "## Exo 6:\n",
    "\n",
    "Écrire une fonction qui convertit un nombre en binaire."
   ]
  },
  {
   "cell_type": "code",
   "execution_count": 23,
   "metadata": {},
   "outputs": [],
   "source": [
    "def to_binary(n):\n",
    "    # votre programme\n",
    "    pass"
   ]
  },
  {
   "cell_type": "code",
   "execution_count": 24,
   "metadata": {},
   "outputs": [],
   "source": [
    "to_binary(65)"
   ]
  },
  {
   "cell_type": "code",
   "execution_count": 25,
   "metadata": {},
   "outputs": [],
   "source": [
    "# %load solutions/binary.py"
   ]
  },
  {
   "cell_type": "markdown",
   "metadata": {},
   "source": [
    "## Exo 7:\n",
    "\n",
    "On cherche à trier une liste de plusieurs facons:\n",
    "\n",
    "1) Tout d'abord, écrivez un programme qui crée une deuxième liste, qui met le plus petit nombre en premiere place, plus le deuxieme plus petit en deuxieme, et ainsi de suite."
   ]
  },
  {
   "cell_type": "code",
   "execution_count": 26,
   "metadata": {},
   "outputs": [],
   "source": [
    "def sort1(l):\n",
    "    # votre programme\n",
    "    pass"
   ]
  },
  {
   "cell_type": "code",
   "execution_count": 27,
   "metadata": {},
   "outputs": [
    {
     "name": "stdout",
     "output_type": "stream",
     "text": [
      "[37, 48, 23, 38, 6, 86, 58, 7, 46, 4, 92, 68, 47, 14, 53, 31, 51, 14, 79, 13]\n",
      "None\n"
     ]
    }
   ],
   "source": [
    "import random\n",
    "l = [random.randint(0, 99) for _ in range(20)]\n",
    "print(l)\n",
    "print(sort1(l))\n"
   ]
  },
  {
   "cell_type": "code",
   "execution_count": 28,
   "metadata": {},
   "outputs": [],
   "source": [
    "# %load -r :13 solutions/sorts.py"
   ]
  },
  {
   "cell_type": "markdown",
   "metadata": {},
   "source": [
    "2) Ensuite, écrivez un programme qui va parcourir la liste, et si deux éléments cote à cote sont dans le désordre, les permutent. Tant que la liste n'est pas triée, il reparcourt la liste."
   ]
  },
  {
   "cell_type": "code",
   "execution_count": 29,
   "metadata": {},
   "outputs": [],
   "source": [
    "def sort2(l):\n",
    "    # votre programme\n",
    "    pass"
   ]
  },
  {
   "cell_type": "code",
   "execution_count": 30,
   "metadata": {},
   "outputs": [
    {
     "name": "stdout",
     "output_type": "stream",
     "text": [
      "[63, 40, 66, 28, 4, 69, 78, 9, 60, 0, 44, 55, 59, 81, 80, 77, 28, 73, 10, 7]\n",
      "None\n"
     ]
    }
   ],
   "source": [
    "l = [random.randint(0, 99) for _ in range(20)]\n",
    "print(l)\n",
    "print(sort2(l))"
   ]
  },
  {
   "cell_type": "code",
   "execution_count": 31,
   "metadata": {},
   "outputs": [],
   "source": [
    "# %load -r 15: solutions/sorts.py"
   ]
  },
  {
   "cell_type": "markdown",
   "metadata": {},
   "source": [
    "## Exo 8\n",
    "\n",
    "Écrire un mastermind. Le programme va générer un nombre aléatoire à 5 chiffres, puis va demander à l'utilisateur un nombre à 5 chiffres. Il va ensuite donner le nombre de chiffres bien placés, et le nombre de chiffres mal placés. Le programme répète ces instructions tant que l'utilisateur ne trouve pas le bon nombre. Il affichera à la fin le nombre d'essais qu'il a fallu à l'utilisateur pour trouver.\n",
    "\n",
    "Consignes, aides et conseils:\n",
    "- Votre programme devra checker les inputs de l'utilsateur, tester si ils ont la bonne forme\n",
    "- un nombre aléatoire peut être générer via la fonction randint du module random. Il faut importer le model (import random) puis appeler la fonction randint de ce module (random.randint(nbmin, nbmax), nbmin et nbmax inclus).\n",
    "- faites attention au type utilisé\n",
    "\n",
    "Votre programme devra contenir 3 fonctions:\n",
    "- check_input qui testera le format de l'input de l'utilisateur\n",
    "- n_placed_and_n_wrongly_placed, qui déterminera le nombre de chiffres bien placés et le nombre de bons chiffres mal placés\n",
    "- mastermind, qui choisira un nombre à faire deviner, demandera à l'utilisateur son choix et fera appel aux autres fonctions"
   ]
  },
  {
   "cell_type": "code",
   "execution_count": 32,
   "metadata": {},
   "outputs": [],
   "source": [
    "def mastermind():\n",
    "    # votre programme\n",
    "    pass"
   ]
  },
  {
   "cell_type": "code",
   "execution_count": 33,
   "metadata": {},
   "outputs": [],
   "source": [
    "mastermind()"
   ]
  },
  {
   "cell_type": "code",
   "execution_count": 34,
   "metadata": {},
   "outputs": [],
   "source": [
    "# %load solutions/mastermind.py"
   ]
  },
  {
   "cell_type": "markdown",
   "metadata": {},
   "source": [
    "## Exo 9\n",
    "\n",
    "Même exercice que précédemment, mais vous pensez à un nombre à 5 chiffres et l'ordinateur essaye de le trouver. Il vous demandera à chaque fois le nombre de bien placés, et le nombre de bons chiffres mal placés.\n",
    "\n",
    "Aide: commencer par avoir un programme juste mais non efficace, et chercher à l'optimiser par la suite."
   ]
  },
  {
   "cell_type": "code",
   "execution_count": 35,
   "metadata": {},
   "outputs": [],
   "source": [
    "def mastermind_ai():\n",
    "    # Votre programme\n",
    "    pass"
   ]
  },
  {
   "cell_type": "code",
   "execution_count": 36,
   "metadata": {},
   "outputs": [],
   "source": [
    "mastermind_ai()"
   ]
  },
  {
   "cell_type": "code",
   "execution_count": 37,
   "metadata": {},
   "outputs": [],
   "source": [
    "# %load solutions/mastermind_ai.py"
   ]
  },
  {
   "cell_type": "code",
   "execution_count": null,
   "metadata": {},
   "outputs": [],
   "source": []
  }
 ],
 "metadata": {
  "kernelspec": {
   "display_name": "Python 3",
   "language": "python",
   "name": "python3"
  },
  "language_info": {
   "codemirror_mode": {
    "name": "ipython",
    "version": 3
   },
   "file_extension": ".py",
   "mimetype": "text/x-python",
   "name": "python",
   "nbconvert_exporter": "python",
   "pygments_lexer": "ipython3",
   "version": "3.7.1"
  }
 },
 "nbformat": 4,
 "nbformat_minor": 2
}
