{
 "cells": [
  {
   "cell_type": "markdown",
   "metadata": {},
   "source": [
    "# TD5 - Les classes"
   ]
  },
  {
   "cell_type": "markdown",
   "metadata": {},
   "source": [
    "## Exercice 1\n",
    "\n",
    "Créer une classe `GoT`.\n",
    "\n",
    "Celle-ci va prendre une liste de noms de personnage en entrée, stockée dans un attribut `alive` (qui sera un set). Le constructeur initialisera aussi un attribut `dead` avec un set vide.\n",
    "\n",
    "Elle aura:\n",
    "- une méthode `kill`, qui prendra un nom en entrée et le passera dans la liste `dead` si ce nom est dans `alive`, affichera `{NOM} est déjà tué` si il est déjà dans `dead`, et ne fera rien sinon.\n",
    "- une méthode `appear` qui prendra un nom de personnage en entrée et le rajoutera dans `alive` si il n'est ni dans `alive`, ni dans `dead`\n",
    "- une méthode `kill_random`, qui tuera une personne au hasard"
   ]
  },
  {
   "cell_type": "code",
   "execution_count": 12,
   "metadata": {},
   "outputs": [],
   "source": []
  },
  {
   "cell_type": "code",
   "execution_count": 14,
   "metadata": {},
   "outputs": [
    {
     "name": "stdout",
     "output_type": "stream",
     "text": [
      "{'theon', 'joffrey', 'jaime', 'brandon', 'renly', 'tywin', 'tyrion', 'arya', 'catelyn', 'sandor', 'bronn', 'shae', 'sansa', 'lancel', 'robert', 'robb', 'rickon', 'varys', 'eddard', 'cersei'} set()\n",
      "{'theon', 'jaime', 'brandon', 'renly', 'tywin', 'tyrion', 'arya', 'catelyn', 'sandor', 'bronn', 'shae', 'sansa', 'lancel', 'robert', 'robb', 'rickon', 'varys', 'eddard', 'cersei'} {'joffrey'}\n",
      "joffrey is already dead\n",
      "{'theon', 'jaime', 'brandon', 'renly', 'tywin', 'tyrion', 'arya', 'catelyn', 'sandor', 'bronn', 'shae', 'sansa', 'lancel', 'robert', 'robb', 'rickon', 'varys', 'eddard', 'cersei'} {'joffrey'}\n",
      "{'theon', 'jaime', 'brandon', 'renly', 'tywin', 'tyrion', 'arya', 'catelyn', 'daenerys', 'sandor', 'bronn', 'shae', 'sansa', 'lancel', 'robert', 'robb', 'rickon', 'varys', 'eddard', 'cersei'} {'joffrey'}\n",
      "set() {'theon', 'joffrey', 'jaime', 'brandon', 'renly', 'tyrion', 'tywin', 'arya', 'catelyn', 'daenerys', 'sandor', 'bronn', 'shae', 'sansa', 'lancel', 'robert', 'robb', 'rickon', 'varys', 'eddard', 'cersei'}\n"
     ]
    }
   ],
   "source": [
    "# Test\n",
    "env = GoT(['eddard', 'catelyn', 'robb', 'sansa', 'arya', 'brandon',\n",
    "        'rickon', 'theon', 'robert', 'cersei', 'tywin', 'jaime',\n",
    "        'tyrion', 'shae', 'bronn', 'lancel', 'joffrey', 'sandor',\n",
    "        'varys', 'renly'])\n",
    "print(env.alive, env.dead)\n",
    "env.kill('joffrey')\n",
    "print(env.alive, env.dead)\n",
    "env.kill('joffrey')\n",
    "print(env.alive, env.dead)\n",
    "env.appear('daenerys')\n",
    "print(env.alive, env.dead)\n",
    "for _ in range(50):\n",
    "    env.kill_random()\n",
    "print(env.alive, env.dead)"
   ]
  },
  {
   "cell_type": "markdown",
   "metadata": {},
   "source": [
    "## Exercie 2\n",
    "\n",
    "Implémenter une Stack. Une stack est une structure de données LIFO (last in firs out). C'est à dire qu'il stocke les données dans l'order d'arrivé, et ressort le dernier arrivé quand on lui demande.\n",
    "\n",
    "Votre Stack doit avoir deux méthodes en plus du constructeur:\n",
    "- init qui crée une stack vide\n",
    "- add qui rajoute un élément à la stack\n",
    "- pop qui renvoit le dernier élément rentré et le supprime\n",
    "\n",
    "Indice: les listes ont une méthode pop"
   ]
  },
  {
   "cell_type": "code",
   "execution_count": 24,
   "metadata": {},
   "outputs": [],
   "source": []
  },
  {
   "cell_type": "code",
   "execution_count": 26,
   "metadata": {},
   "outputs": [
    {
     "name": "stdout",
     "output_type": "stream",
     "text": [
      "9\n",
      "8\n",
      "7\n",
      "6\n",
      "5\n",
      "4\n",
      "3\n",
      "2\n",
      "1\n",
      "0\n"
     ]
    }
   ],
   "source": [
    "stack = Stack()\n",
    "\n",
    "for i in range(10):\n",
    "    stack.add(i)\n",
    "\n",
    "for _ in range(10):\n",
    "    print(stack.pop())"
   ]
  },
  {
   "cell_type": "markdown",
   "metadata": {},
   "source": [
    "## Exercice 3\n",
    "\n",
    "Créer une Queue. Une queue est une structure de données FIFO (first in first out). C'est à dire qu'il stocke les données dans l'ordre d'arrivé, et qu'il ressort dans l'ordre d'arrivé.\n",
    "\n",
    "Votre queue doit avoir trois méthodes en plus du constructeur:\n",
    "- init qui crée une queue vide avec une taille maximale\n",
    "- add qui prend un argument et le stocke\n",
    "- pop qui retourne le premier élément\n",
    "- full qui renvoit True si la queue est pleine\n",
    "\n",
    "Attention, vous ne devez pas supprimer un élément d'une liste, sauf avec pop, qui supprime le dernier élément de la liste.\n",
    "\n",
    "Indice: Vous pouvez utiliser deux listes pour gérer la Queue. La première stocke les valeurs dans l'ordre d'entrée, et une autre dans le sens inverse. Lorsque l'on ajoute un élément, on l'append à la liste d'entrée. Lorsque l'on pop un élément, si la deuxième liste n'est pas vide, on retourne le dernier élément de cette liste. Si celle-ci est vide, on transfert la première liste dans la seconde, en inversant le sens."
   ]
  },
  {
   "cell_type": "code",
   "execution_count": 18,
   "metadata": {},
   "outputs": [],
   "source": []
  },
  {
   "cell_type": "code",
   "execution_count": 21,
   "metadata": {},
   "outputs": [
    {
     "name": "stdout",
     "output_type": "stream",
     "text": [
      "0\n",
      "1\n",
      "True\n",
      "2\n",
      "3\n",
      "4\n",
      "5\n",
      "6\n",
      "7\n",
      "8\n",
      "9\n",
      "False\n"
     ]
    }
   ],
   "source": [
    "q = Queue(10)\n",
    "for i in range(5):\n",
    "    q.add(i)\n",
    "for i in range(2):\n",
    "    print(q.pop())\n",
    "for i in range(5, 12):\n",
    "    q.add(i)\n",
    "print(q.full())\n",
    "for _ in range(8):\n",
    "    print(q.pop())\n",
    "print(q.full())"
   ]
  },
  {
   "cell_type": "markdown",
   "metadata": {},
   "source": [
    "## Exercice 4\n",
    "\n",
    "Créer une linked list. Une linked list est une liste qui peut supprimer un élément en son centre en un temps presque constant. Pour cela, chaque élément contient un lien vers le suivant.\n",
    "\n",
    "Votre linked list devra contenir ces méthodes:\n",
    "- un constructeur qui initialisera une liste vide\n",
    "- add_first, qui ajoutera un élément en début de liste\n",
    "- add_last, qui ajoutera un élément en fin de liste\n",
    "- \\_\\_len\\_\\_ pour faire fonctionner la fonction len\n",
    "- \\_\\_str\\_\\_ pour faire fonctionner la fonction print\n",
    "- remove, qui prendra un élément et supprimera la première occurence\n",
    "\n",
    "Indice1: vous aller devoir utiliser une classe pour un noeud d'une linked list.\n",
    "\n",
    "Indice2: la linked list devra garder la tête de celle ci"
   ]
  },
  {
   "cell_type": "code",
   "execution_count": 46,
   "metadata": {},
   "outputs": [],
   "source": []
  },
  {
   "cell_type": "code",
   "execution_count": 47,
   "metadata": {},
   "outputs": [
    {
     "name": "stdout",
     "output_type": "stream",
     "text": [
      "[0]\n",
      "[0, 1]\n",
      "[0, 1, 2]\n",
      "[0, 1, 2, 3]\n",
      "[0, 1, 2, 3, 4]\n",
      "[5, 0, 1, 2, 3, 4]\n",
      "[6, 5, 0, 1, 2, 3, 4]\n",
      "[7, 6, 5, 0, 1, 2, 3, 4]\n",
      "[8, 7, 6, 5, 0, 1, 2, 3, 4]\n",
      "[9, 8, 7, 6, 5, 0, 1, 2, 3, 4]\n",
      "10\n",
      "[9, 8, 7, 6, 5, 1, 2, 3, 4]\n",
      "[9, 8, 7, 6, 5, 2, 3, 4]\n",
      "[9, 8, 7, 6, 5, 3, 4]\n",
      "7\n",
      "[9, 8, 7, 6, 5, 3]\n",
      "[8, 7, 6, 5, 3]\n",
      "5\n"
     ]
    }
   ],
   "source": [
    "l = LinkedList()\n",
    "\n",
    "for i in range(5):\n",
    "    l.add_last(i)\n",
    "    print(l)\n",
    "    \n",
    "for i in range(5, 10):\n",
    "    l.add_first(i)\n",
    "    print(l)\n",
    "\n",
    "print(len(l))\n",
    "for i in range(3):\n",
    "    l.remove(i)\n",
    "    print(l)\n",
    "print(len(l))\n",
    "l.remove(4)\n",
    "print(l)\n",
    "l.remove(9)\n",
    "print(l)\n",
    "print(len(l))"
   ]
  },
  {
   "cell_type": "markdown",
   "metadata": {},
   "source": [
    "## Exercice 5\n",
    "\n",
    "Implémenter une classe modélisant un sudoku."
   ]
  },
  {
   "cell_type": "code",
   "execution_count": null,
   "metadata": {},
   "outputs": [],
   "source": []
  }
 ],
 "metadata": {
  "kernelspec": {
   "display_name": "Python 3",
   "language": "python",
   "name": "python3"
  },
  "language_info": {
   "codemirror_mode": {
    "name": "ipython",
    "version": 3
   },
   "file_extension": ".py",
   "mimetype": "text/x-python",
   "name": "python",
   "nbconvert_exporter": "python",
   "pygments_lexer": "ipython3",
   "version": "3.7.1"
  }
 },
 "nbformat": 4,
 "nbformat_minor": 2
}
