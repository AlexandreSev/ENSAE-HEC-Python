{
 "cells": [
  {
   "cell_type": "markdown",
   "metadata": {},
   "source": [
    "# TD 1 Solution\n",
    "\n",
    "## Exercise 1\n",
    "\n",
    "Écrivez un programme qui échange la valeur de deux variables entières var1 et var2."
   ]
  },
  {
   "cell_type": "code",
   "execution_count": 4,
   "metadata": {},
   "outputs": [
    {
     "name": "stdout",
     "output_type": "stream",
     "text": [
      "var1 vaut 10, var2 vaut 13\n"
     ]
    }
   ],
   "source": [
    "var1 = 10\n",
    "var2 = 13\n",
    "print(f'var1 vaut {var1}, var2 vaut {var2}')"
   ]
  },
  {
   "cell_type": "code",
   "execution_count": 2,
   "metadata": {},
   "outputs": [],
   "source": [
    "# Solution 1 avec une variable tampon\n",
    "tmp = var1\n",
    "var1 = var2\n",
    "var2 = tmp"
   ]
  },
  {
   "cell_type": "code",
   "execution_count": 5,
   "metadata": {},
   "outputs": [],
   "source": [
    "# Solution 2 sans variable tampon\n",
    "var1 += var2\n",
    "var2 = var1 - var2\n",
    "var1 = var1 - var2"
   ]
  },
  {
   "cell_type": "code",
   "execution_count": 6,
   "metadata": {},
   "outputs": [
    {
     "name": "stdout",
     "output_type": "stream",
     "text": [
      "var1 vaut 13, var2 vaut 10\n"
     ]
    }
   ],
   "source": [
    "print(f'var1 vaut {var1}, var2 vaut {var2}')\n",
    "# Doit afficher l'inverse du premier print, à savoir 'var1 vaut 13 et var2 vaut 10'"
   ]
  },
  {
   "cell_type": "markdown",
   "metadata": {},
   "source": [
    "## Exercise 2\n",
    "\n",
    "1) On souhaite écrire un algorithme pour :\n",
    "- demander à l'utilisateur de saisir un nombre entre 0 (inclus) et 8 (exclu) - stocker cette saisie dans une variable nommée var\n",
    "- afficher \"gagné\" si le nombre appartient à l'intervalle [0;8[\n",
    "- afficher \"perdu\" si le nombre n'appartient pas à cet intervalle.\n",
    "\n",
    "Pour demander à l'utilisateur de saisir un nombre, il faut utiliser la commande input. Par exemple, l'instruction input('Description') va faire apparaitre la description et un champs pour rentrer une valeur, et renvoyer cette valeur. Attention, celle-ci sera typée str.\n",
    "\n",
    "Dans un premier temps, demander une valeur à l'utilisateur et stocker là dans la variable **var**.\n",
    "\n",
    "Dans un second temps, créer une expression booléenne **appartient** qui vaudra True si le nombre appartient à l'intervalle [0;8[ (8 exclu) et False sinon.\n",
    "\n",
    "Enfin, tester si **appartient** est vraie ou fausse."
   ]
  },
  {
   "cell_type": "code",
   "execution_count": 11,
   "metadata": {},
   "outputs": [
    {
     "name": "stdout",
     "output_type": "stream",
     "text": [
      "Veuillez entrer un nombre entre 0 inclu et 8 exclu: 1\n",
      "Gagné\n"
     ]
    }
   ],
   "source": [
    "# Saisie des données\n",
    "var = int(input('Veuillez entrer un nombre entre 0 inclu et 8 exclu: '))\n",
    "\n",
    "# Traitement\n",
    "appartient = var >= 0 and var < 8\n",
    "\n",
    "# Affichage\n",
    "if appartient:\n",
    "    print('Gagné')\n",
    "else:\n",
    "    print('Perdu')"
   ]
  },
  {
   "cell_type": "markdown",
   "metadata": {},
   "source": [
    "2) En reprenant les étapes précédentes, faites de même pour l'intervalle **[0; 8[ U ]10; 13.5]**."
   ]
  },
  {
   "cell_type": "code",
   "execution_count": 14,
   "metadata": {},
   "outputs": [
    {
     "name": "stdout",
     "output_type": "stream",
     "text": [
      "Veuillez entrer un nombre entre 0 inclu et 8 exclu ou entre 10 exclu et 13.5 inclu: 11\n",
      "Gagné\n"
     ]
    }
   ],
   "source": [
    "# Saisie des données\n",
    "var = int(input('Veuillez entrer un nombre entre 0 inclu et 8 exclu ou entre 10 exclu et 13.5 inclu: '))\n",
    "\n",
    "# Traitement\n",
    "appartient = (var >= 0 and var < 8) or (var > 10 and var <= 13.5)\n",
    "\n",
    "# Affichage\n",
    "if appartient:\n",
    "    print('Gagné')\n",
    "else:\n",
    "    print('Perdu')\n"
   ]
  },
  {
   "cell_type": "markdown",
   "metadata": {},
   "source": [
    "3) Refaite le petit 2 sans créer la variable **appartient**"
   ]
  },
  {
   "cell_type": "code",
   "execution_count": 15,
   "metadata": {},
   "outputs": [
    {
     "name": "stdout",
     "output_type": "stream",
     "text": [
      "Veuillez entrer un nombre entre 0 inclu et 8 exclu ou entre 10 exclu et 13.5 inclu: 11\n",
      "Gagné\n"
     ]
    }
   ],
   "source": [
    "# Saisie des données\n",
    "var = int(input('Veuillez entrer un nombre entre 0 inclu et 8 exclu ou entre 10 exclu et 13.5 inclu: '))\n",
    "\n",
    "# Affichage\n",
    "if (var >= 0 and var < 8) or (var > 10 and var <= 13.5):\n",
    "    print('Gagné')\n",
    "else:\n",
    "    print('Perdu')\n",
    "\n"
   ]
  },
  {
   "cell_type": "markdown",
   "metadata": {},
   "source": [
    "## Exercise 3\n",
    "\n",
    "Écriver un programme qui demande à l'utilisateur de rentrer trois nombres et qui affiche le plus grand d'entre eux."
   ]
  },
  {
   "cell_type": "code",
   "execution_count": 17,
   "metadata": {},
   "outputs": [
    {
     "name": "stdout",
     "output_type": "stream",
     "text": [
      "Veuillez entrer un premier nombre: 1\n",
      "Veuillez entrer un second nombre: 5\n",
      "Veuillez entrer un troisième nombre: 39\n"
     ]
    }
   ],
   "source": [
    "# Saisie des données\n",
    "x1 = int(input('Veuillez entrer un premier nombre: '))\n",
    "x2 = int(input('Veuillez entrer un second nombre: '))\n",
    "x3 = int(input('Veuillez entrer un troisième nombre: '))"
   ]
  },
  {
   "cell_type": "code",
   "execution_count": 18,
   "metadata": {},
   "outputs": [
    {
     "name": "stdout",
     "output_type": "stream",
     "text": [
      "39\n"
     ]
    }
   ],
   "source": [
    "# Solution 1: en trichant\n",
    "print(max(x1, x2, x3))"
   ]
  },
  {
   "cell_type": "code",
   "execution_count": 19,
   "metadata": {},
   "outputs": [
    {
     "name": "stdout",
     "output_type": "stream",
     "text": [
      "39\n"
     ]
    }
   ],
   "source": [
    "# Solution 2: sans tricher\n",
    "if x1 > x2 and x1 > x3:\n",
    "    print(x1)\n",
    "elif x2 > x3:\n",
    "    print(x2)\n",
    "else:\n",
    "    print(x3)"
   ]
  },
  {
   "cell_type": "markdown",
   "metadata": {},
   "source": [
    "## Exercise 4\n",
    "\n",
    "Écriver un programme qui teste si un nombre est pair, impair, multiple de 4 et non multiple de 4."
   ]
  },
  {
   "cell_type": "code",
   "execution_count": 24,
   "metadata": {},
   "outputs": [
    {
     "name": "stdout",
     "output_type": "stream",
     "text": [
      "C'est un nombre impair\n"
     ]
    }
   ],
   "source": [
    "x = 15\n",
    "\n",
    "if int(x / 4) == x / 4:\n",
    "    print(\"C'est un nombre pair multiple de 4\")\n",
    "elif int(x / 2) == x / 2:\n",
    "    print(\"C'est un nombre pair non multiple de 4\")\n",
    "else:\n",
    "    print(\"C'est un nombre impair\")"
   ]
  },
  {
   "cell_type": "markdown",
   "metadata": {},
   "source": [
    "## Exercise 5\n",
    "\n",
    "Écrire un algorithme qui lit deux valeurs réelles a et b puis qui affiche la ou les éventuelle(s) solution(s) de l'équation ax+b=0. Attention aux cas particuliers."
   ]
  },
  {
   "cell_type": "code",
   "execution_count": 26,
   "metadata": {},
   "outputs": [
    {
     "name": "stdout",
     "output_type": "stream",
     "text": [
      "Solveur d'équation ax + b = 0\n",
      "a = 2\n",
      "b = 5\n",
      "La solution de cette équation est -2.5\n"
     ]
    }
   ],
   "source": [
    "print(\"Solveur d'équation ax + b = 0\")\n",
    "a = int(input('a = '))\n",
    "b = int(input('b = '))\n",
    "\n",
    "if a == 0:\n",
    "    if b == 0:\n",
    "        print('Tout x est solution.')\n",
    "    else:\n",
    "        print(\"Cette équation n'a pas de solution\")\n",
    "else:\n",
    "    sol = -b / a\n",
    "    print(f'La solution de cette équation est {sol}')"
   ]
  },
  {
   "cell_type": "markdown",
   "metadata": {},
   "source": [
    "## Exercise 6\n",
    "1) Écrire un programme qui demande l’heure (saisir l’heure, les minutes et les secondes), et qui affiche l’heure qu’il sera une seconde plus tard. Par exemple, si l'utilisateur saisit 21, puis 32, puis 8, l'algorithme doit répondre : \"Dans une seconde, il sera 21 heure(s), 32 minute(s) et 9 seconde(s)\".\n",
    "\n",
    "On suppose que l'utilisateur entre une heure valide. Pas besoin donc de la vérifier.\n",
    "\n",
    "Pensez à bien séparer votre algorithme en 3 parties distinctes : la saisie des données, puis le traitement, et enfin l’affichage des résultats."
   ]
  },
  {
   "cell_type": "code",
   "execution_count": 30,
   "metadata": {},
   "outputs": [
    {
     "name": "stdout",
     "output_type": "stream",
     "text": [
      "Quelle heure est-il ?\n",
      "heures: 23\n",
      "minutes: 59\n",
      "secondes: 59\n",
      "Dans une seconde, il sera 0 heures 0 minutes et 0 secondes.\n"
     ]
    }
   ],
   "source": [
    "print('Quelle heure est-il ?')\n",
    "heures = int(input(\"heures: \"))\n",
    "minutes = int(input(\"minutes: \"))\n",
    "secondes = int(input(\"secondes: \"))\n",
    "\n",
    "if secondes != 59:\n",
    "    secondes += 1\n",
    "else:\n",
    "    secondes = 0\n",
    "    if minutes != 59:\n",
    "        minutes += 1\n",
    "    else:\n",
    "        minutes = 0\n",
    "        if heures != 23:\n",
    "            heures += 1\n",
    "        else:\n",
    "            heures = 0\n",
    "\n",
    "print(f'Dans une seconde, il sera {heures} heures {minutes} minutes et {secondes} secondes.')"
   ]
  },
  {
   "cell_type": "markdown",
   "metadata": {},
   "source": [
    "2) Faites de même pour un nombre de secondes supplémentaires saisit par l'utilisateur. On suppose que celui-ci est inférieur à 60."
   ]
  },
  {
   "cell_type": "code",
   "execution_count": 33,
   "metadata": {},
   "outputs": [
    {
     "name": "stdout",
     "output_type": "stream",
     "text": [
      "Quelle heure est-il ?\n",
      "heures: 23\n",
      "minutes: 59\n",
      "secondes: 30\n",
      "Combien de secondes voulez vous ajouter ? 59\n",
      "Dans une seconde, il sera 0 heures 0 minutes et 29 secondes.\n"
     ]
    }
   ],
   "source": [
    "print('Quelle heure est-il ?')\n",
    "heures = int(input(\"heures: \"))\n",
    "minutes = int(input(\"minutes: \"))\n",
    "secondes = int(input(\"secondes: \"))\n",
    "\n",
    "ajout = int(input('Combien de secondes voulez vous ajouter ? '))\n",
    "\n",
    "secondes += ajout\n",
    "\n",
    "if secondes > 59:\n",
    "    secondes -= 60\n",
    "    minutes += 1\n",
    "    if minutes == 60:\n",
    "        minutes = 0\n",
    "        heures += 1\n",
    "        if heures == 24:\n",
    "            heures = 0\n",
    "\n",
    "print(f'Dans une seconde, il sera {heures} heures {minutes} minutes et {secondes} secondes.')"
   ]
  },
  {
   "cell_type": "markdown",
   "metadata": {},
   "source": [
    "## Exercise 7\n",
    "\n",
    "Écrire un progamme qui demande un nombre et affiche l'ordinal anglais correspondant. Par exemple, si il lit 1, il devra afficher 1st, si il lit 15, il devra afficher 15th.\n",
    "\n",
    "Rappel: pour déterminer le suffixe, on regarde le dernier chiffre du nombre : si c’est 1, on ajoute le suffixe -st ; si c’est 2, le suffixe est -nd ; si c’est 3, le suffixe est -rd ; sinon le suffixe est -th.\n",
    "\n",
    "Il y a une exception : si l’avant-dernier chiffre du nombre est 1, le suffixe est toujours -th.\n",
    "\n",
    "Aide: le dernier chiffre d'un nombre val vaut exactement val%10"
   ]
  },
  {
   "cell_type": "code",
   "execution_count": 37,
   "metadata": {},
   "outputs": [
    {
     "name": "stdout",
     "output_type": "stream",
     "text": [
      "Veuillez entrer un nombre: 6531\n",
      "6531st\n"
     ]
    }
   ],
   "source": [
    "n = int(input('Veuillez entrer un nombre: '))\n",
    "\n",
    "dernier_chiffre = n % 10\n",
    "avant_dernier_chiffre = ((n - dernier_chiffre) / 10) % 10\n",
    "\n",
    "if avant_dernier_chiffre == 1:\n",
    "    print(str(n) + 'th')\n",
    "elif dernier_chiffre == 1:\n",
    "    print(str(n) + 'st')\n",
    "elif dernier_chiffre == 2:\n",
    "    print(str(n) + 'nd')\n",
    "elif dernier_chiffre == 3:\n",
    "    print(str(n) + 'rd')\n",
    "else:\n",
    "    print(str(n) + 'th')"
   ]
  },
  {
   "cell_type": "code",
   "execution_count": null,
   "metadata": {},
   "outputs": [],
   "source": []
  }
 ],
 "metadata": {
  "kernelspec": {
   "display_name": "Python 3",
   "language": "python",
   "name": "python3"
  },
  "language_info": {
   "codemirror_mode": {
    "name": "ipython",
    "version": 3
   },
   "file_extension": ".py",
   "mimetype": "text/x-python",
   "name": "python",
   "nbconvert_exporter": "python",
   "pygments_lexer": "ipython3",
   "version": "3.6.7rc1"
  }
 },
 "nbformat": 4,
 "nbformat_minor": 2
}
