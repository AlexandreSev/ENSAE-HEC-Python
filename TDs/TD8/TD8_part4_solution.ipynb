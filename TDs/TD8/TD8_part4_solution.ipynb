{
 "cells": [
  {
   "cell_type": "markdown",
   "metadata": {},
   "source": [
    "# Debugging\n",
    "\n",
    "**Source:** https://humanitiesprogramming.github.io/exercises/python-debugging/\n",
    "\n",
    "Debugger ces différents codes:"
   ]
  },
  {
   "cell_type": "code",
   "execution_count": 1,
   "metadata": {},
   "outputs": [
    {
     "name": "stdout",
     "output_type": "stream",
     "text": [
      "Hello, possible pirate! What's the password?Arrr!\n",
      "Go away, pirate.\n"
     ]
    }
   ],
   "source": [
    "greeting = input(\"Hello, possible pirate! What's the password?\")\n",
    "if greeting == \"Arrr!\":\n",
    "    print(\"Go away, pirate.\")\n",
    "else:\n",
    "    print(\"Greetings, hater of pirates!\")"
   ]
  },
  {
   "cell_type": "code",
   "execution_count": 4,
   "metadata": {},
   "outputs": [
    {
     "name": "stdout",
     "output_type": "stream",
     "text": [
      "Charles Dickens died in 1870.\n",
      "William Thackeray died in 1863.\n",
      "Anthony Trollope died in 1882.\n",
      "Gerard Manley Hopkins died in 1889.\n"
     ]
    }
   ],
   "source": [
    "# Create a collection of these authors and\n",
    "# the year they kicked the bucket;\n",
    "# print the collection in the following format:\n",
    "\n",
    "# Charles Dickens died in 1870.\n",
    "\n",
    "# Charles Dickens, 1870\n",
    "# William Thackeray, 1863\n",
    "# Anthony Trollope, 1882\n",
    "# Gerard Manley Hopkins, 1889\n",
    "\n",
    "authors = {\n",
    "    \"Charles Dickens\": \"1870\",\n",
    "    \"William Thackeray\": \"1863\",\n",
    "    \"Anthony Trollope\": \"1882\",\n",
    "    \"Gerard Manley Hopkins\": \"1889\"\n",
    "}\n",
    "\n",
    "for author,date in authors.items():\n",
    "    print(\"%s\" % author + \" died in %s.\" % date)\n"
   ]
  },
  {
   "cell_type": "code",
   "execution_count": 5,
   "metadata": {},
   "outputs": [
    {
     "name": "stdout",
     "output_type": "stream",
     "text": [
      "Greetings! What is your year of origin? 1555\n",
      "Woah, that's the past!\n"
     ]
    }
   ],
   "source": [
    "# A time traveler has suddenly appeared in your classroom!\n",
    "\n",
    "# Create a variable representing the traveler's\n",
    "# year of origin (e.g., year = 2000)\n",
    "# and greet our strange visitor with a different message\n",
    "# if he is from the distant past (before 1900),\n",
    "# the present era (1900-2020) or from the far future (beyond 2020).\n",
    "\n",
    "year = int(input(\"Greetings! What is your year of origin? \"))\n",
    "\n",
    "if year <= 1900:\n",
    "    print ('Woah, that\\'s the past!')\n",
    "elif year > 1900 and year < 2020:\n",
    "    print (\"That's totally the present!\")\n",
    "else:\n",
    "    print (\"Far out, that's the future!!\")"
   ]
  },
  {
   "cell_type": "code",
   "execution_count": 7,
   "metadata": {},
   "outputs": [
    {
     "name": "stdout",
     "output_type": "stream",
     "text": [
      "My name is Brandon Walsh\n",
      "My name is Ethan Reed\n"
     ]
    }
   ],
   "source": [
    "# Write a simple class that defines a person\n",
    "# with attributes of first_name, last_name\n",
    "# and has a method signature of \"speak\" which\n",
    "# prints the object as \"Jefferson, Thomas\".\n",
    "\n",
    "class Person:\n",
    "    \n",
    "    def __init__(self, first_name, last_name):\n",
    "        self.first = first_name\n",
    "        self.last = last_name\n",
    "        \n",
    "    def speak(self):\n",
    "        print(\"My name is \" + self.first + \" \" + self.last)\n",
    "\n",
    "me = Person(\"Brandon\", \"Walsh\")\n",
    "you = Person(\"Ethan\", \"Reed\")\n",
    "\n",
    "me.speak()\n",
    "you.speak()"
   ]
  },
  {
   "cell_type": "code",
   "execution_count": null,
   "metadata": {},
   "outputs": [],
   "source": []
  }
 ],
 "metadata": {
  "kernelspec": {
   "display_name": "Python 3",
   "language": "python",
   "name": "python3"
  },
  "language_info": {
   "codemirror_mode": {
    "name": "ipython",
    "version": 3
   },
   "file_extension": ".py",
   "mimetype": "text/x-python",
   "name": "python",
   "nbconvert_exporter": "python",
   "pygments_lexer": "ipython3",
   "version": "3.7.1"
  }
 },
 "nbformat": 4,
 "nbformat_minor": 2
}
