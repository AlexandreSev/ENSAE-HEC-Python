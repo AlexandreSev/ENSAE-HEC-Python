{
 "cells": [
  {
   "cell_type": "markdown",
   "metadata": {},
   "source": [
    "# TD 2: listes/sets/dictionnaires et boucle for/while"
   ]
  },
  {
   "cell_type": "markdown",
   "metadata": {},
   "source": [
    "**Note**: nous n'avons pas encore vu les fonctions, mais les réponses doivent être écrites sous forment de fonction.\n",
    "Classiquement, une fonction se définit comme:"
   ]
  },
  {
   "cell_type": "code",
   "execution_count": 1,
   "metadata": {},
   "outputs": [],
   "source": [
    "def ma_fonction(parametre1, parametre2):\n",
    "    # Les instructions\n",
    "    resultat = parametre1 + parametre2\n",
    "    # Si il y a un résultat, on le retourne avec le mot clef return\n",
    "    return resultat"
   ]
  },
  {
   "cell_type": "markdown",
   "metadata": {},
   "source": [
    "## Exo 1:"
   ]
  },
  {
   "cell_type": "markdown",
   "metadata": {},
   "source": [
    "- Écrivez un programme qui affiche une suite de 12 nombres dans laquelle chaque terme est égal au triple du terme précédent.\n",
    "\n",
    "- Complétez ce programme pour faire saisir par l'utilisateur la valeur du 1er terme de la suite. Cette fonction ne prendra pas d'arguments, et appelera la fonction précédente."
   ]
  },
  {
   "cell_type": "code",
   "execution_count": null,
   "metadata": {},
   "outputs": [],
   "source": [
    "def print_suite_triplet(n):\n",
    "    # votre programme"
   ]
  },
  {
   "cell_type": "code",
   "execution_count": 2,
   "metadata": {},
   "outputs": [
    {
     "ename": "SyntaxError",
     "evalue": "unexpected EOF while parsing (<ipython-input-2-25a069a9ef24>, line 2)",
     "output_type": "error",
     "traceback": [
      "\u001b[0;36m  File \u001b[0;32m\"<ipython-input-2-25a069a9ef24>\"\u001b[0;36m, line \u001b[0;32m2\u001b[0m\n\u001b[0;31m    # Votre programme\u001b[0m\n\u001b[0m                     ^\u001b[0m\n\u001b[0;31mSyntaxError\u001b[0m\u001b[0;31m:\u001b[0m unexpected EOF while parsing\n"
     ]
    }
   ],
   "source": [
    "def print_suite_triplet_utilisateur():\n",
    "    # Votre programme"
   ]
  },
  {
   "cell_type": "markdown",
   "metadata": {},
   "source": [
    "# Exo 2:\n",
    "\n",
    "On veut calculer une somme d'entiers successifs, à l'aide d'une boucle for. (c'est à dire que l'on veut calculer une somme 1+2+3+4+5 + ... + n )\n",
    "1) Tout d'abord, écrire une fonction pour calculer la somme des entiers successifs entre 1 et n inclus (c'est à dire la somme : 1+2+3+4+...+n). \n",
    "\n",
    "Exemple d'exécution :\n",
    "      \n",
    "      la somme des entiers de 1 à 10 est 55\n",
    "      \n",
    "2) Modifiez votre programme pour qu'il affiche tous les nombres de la somme séparés par un + , suivis de = et de la somme résultat.\n",
    "\n",
    "Exemple d'exécution :\n",
    "\n",
    "    la somme des entiers de 1 à 11 est 1+2+3+4+5+6+7+8+9+10+11 = 66"
   ]
  },
  {
   "cell_type": "code",
   "execution_count": null,
   "metadata": {},
   "outputs": [],
   "source": [
    "def print_result_somme(n):\n",
    "    # votre programme"
   ]
  },
  {
   "cell_type": "code",
   "execution_count": null,
   "metadata": {},
   "outputs": [],
   "source": [
    "def print_somme(n):\n",
    "    # votre programme"
   ]
  },
  {
   "cell_type": "markdown",
   "metadata": {},
   "source": [
    "## Exo 3:"
   ]
  },
  {
   "cell_type": "markdown",
   "metadata": {},
   "source": [
    "Ecrire un programme qui détermine si une chaîne de caractères est la concaténation de deux phrases identiques."
   ]
  },
  {
   "cell_type": "code",
   "execution_count": null,
   "metadata": {},
   "outputs": [],
   "source": [
    "def is_concatenation(s):\n",
    "    # votre programme"
   ]
  },
  {
   "cell_type": "markdown",
   "metadata": {},
   "source": [
    "## Exo 4:"
   ]
  },
  {
   "cell_type": "markdown",
   "metadata": {},
   "source": [
    "Écrire un mastermind. Le programme va générer un nombre aléatoire à 5 chiffres, puis va demander à l'utilisateur un nombre à 5 chiffres. Il va ensuite donner le nombre de chiffres bien placés, et le nombre de chiffres mal placés. Le programme répète ces instructions tant que l'utilisateur ne trouve pas le bon nombre. Il affichera à la fin le nombre d'essais qu'il a fallu à l'utilisateur pour trouver.\n",
    "\n",
    "Consignes, aides et conseils:\n",
    "- Votre programme devra checker les inputs de l'utilsateur, tester si ils ont la bonne forme\n",
    "- un nombre aléatoire peut être générer via la fonction randint du module random. Il faut importer le model (import random) puis appeler la fonction randint de ce module (random.randint(nbmin, nbmax), nbmin inclut, nbmax non inclut).\n",
    "- faites attention au type utilisé"
   ]
  },
  {
   "cell_type": "code",
   "execution_count": null,
   "metadata": {},
   "outputs": [],
   "source": [
    "def mastermind():\n",
    "    # votre programme"
   ]
  },
  {
   "cell_type": "markdown",
   "metadata": {},
   "source": [
    "## Exo 5:\n",
    "\n",
    "Écrire un programme qui, en une seule boucle, calcule le minimum, le maximum et la moyenne d'une liste de nombres flottants."
   ]
  },
  {
   "cell_type": "code",
   "execution_count": null,
   "metadata": {},
   "outputs": [],
   "source": [
    "def min_max_mean():\n",
    "    # votre programme"
   ]
  },
  {
   "cell_type": "markdown",
   "metadata": {},
   "source": [
    "## Exo 6:\n",
    "\n",
    "Écrire une boucle qui demande à l'utilisateur d'entrer des notes d'élèves. La boucle se terminera seulement si l'utilisateur entre une valeur strictement négative.\n",
    "\n",
    "Avec les notes ainsi entrées, construire progressivement une liste. Après chaque entrée d'une nouvelle note (et donc à chaque itération de la boucle), afficher la moyenne de toutes les notes."
   ]
  },
  {
   "cell_type": "code",
   "execution_count": null,
   "metadata": {},
   "outputs": [],
   "source": [
    "def print_mean():\n",
    "    # votre programme"
   ]
  },
  {
   "cell_type": "markdown",
   "metadata": {},
   "source": [
    "## Exo 7:\n",
    "\n",
    "Écrire une fonction qui convertit un nombre en binaire."
   ]
  },
  {
   "cell_type": "code",
   "execution_count": null,
   "metadata": {},
   "outputs": [],
   "source": [
    "def to_binary():\n",
    "    # votre programme"
   ]
  },
  {
   "cell_type": "markdown",
   "metadata": {},
   "source": [
    "## Exo 8:\n",
    "\n",
    "On cherche à trier une liste de plusieurs facons:\n",
    "\n",
    "1) Tout d'abord, écrivez un programme qui crée une deuxième liste, qui met le plus petit nombre en premiere place, plus le deuxieme plus petit en deuxieme, et ainsi de suite.\n",
    "\n",
    "2) Ensuite, écrivez un programme qui va parcourir la liste, et si deux éléments cote à cote sont dans le désordre, les permutent. Tant que la liste n'est pas triée, il reparcourt la liste."
   ]
  },
  {
   "cell_type": "code",
   "execution_count": null,
   "metadata": {},
   "outputs": [],
   "source": [
    "def sort1(l):\n",
    "    # votre programme\n",
    "    \n",
    "def sort2(l):\n",
    "    # votre programme"
   ]
  }
 ],
 "metadata": {
  "kernelspec": {
   "display_name": "Python 3",
   "language": "python",
   "name": "python3"
  },
  "language_info": {
   "codemirror_mode": {
    "name": "ipython",
    "version": 3
   },
   "file_extension": ".py",
   "mimetype": "text/x-python",
   "name": "python",
   "nbconvert_exporter": "python",
   "pygments_lexer": "ipython3",
   "version": "3.6.7rc1"
  }
 },
 "nbformat": 4,
 "nbformat_minor": 2
}
