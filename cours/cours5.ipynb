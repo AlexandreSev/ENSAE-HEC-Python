{
 "cells": [
  {
   "cell_type": "markdown",
   "metadata": {},
   "source": [
    "# Cours 5: Les Classes"
   ]
  },
  {
   "cell_type": "markdown",
   "metadata": {},
   "source": [
    "**Objectif :** Le but de ce cours est d'approfondir la notion de classe.\n",
    "\n",
    "## 1. Rappel\n",
    "\n",
    "Les classes sont un moyen de créer ses propres objets. Une classe est un modèle, dans lequel on défini toutes les variables contenu dans l'objet, nommées attributs, et toutes les fonctions, nommées méthodes.\n",
    "\n",
    "Pour définir une classe, il faut utiliser le mot clef `class` suivi du nom de la classe. Ensuite, on crée une fonction `__init__` qui va être exécuter chaque fois que l'on crée une nouvelle instance de cette classe. Cette méthode doit forcément commencer par l'argument `self`, qui représente l'instance de la classe en train d'être créée. Cette fonction est appelée constructeur.\n",
    "\n",
    "Dans ce constructeur, ou dans n'importe quelle méthode, on peut créer un attribut. On peut ensuite accéder à un attribut avec un point et le nom de cet attribut."
   ]
  },
  {
   "cell_type": "code",
   "execution_count": 2,
   "metadata": {},
   "outputs": [
    {
     "name": "stdout",
     "output_type": "stream",
     "text": [
      "attr1\n"
     ]
    }
   ],
   "source": [
    "class MaClasse:\n",
    "    \n",
    "    def __init__(self):\n",
    "        self.mon_attribut_1 = 'attr1'\n",
    "        self.mon_attribut_2 = 'attr2'\n",
    "        \n",
    "instance = MaClasse()\n",
    "print(instance.mon_attribut_1)"
   ]
  },
  {
   "cell_type": "markdown",
   "metadata": {},
   "source": [
    "## 2. Attribut de classe\n",
    "\n",
    "On peut créer des attributs qui seront communs à toutes les instances d'une classe. On peut alors y accéder en mettant le nom de la classe, un point, puis le nom de l'attribut, ou alors normalement. Pour cela, il faut le mettre dans le corps de la classe, en dehors des méthodes. On peut avec ceci compter le nombre d'instances créées."
   ]
  },
  {
   "cell_type": "code",
   "execution_count": 7,
   "metadata": {},
   "outputs": [
    {
     "name": "stdout",
     "output_type": "stream",
     "text": [
      "0\n",
      "1\n",
      "2\n"
     ]
    }
   ],
   "source": [
    "class Compteur:\n",
    "    \n",
    "    compteur = 0\n",
    "    \n",
    "    def __init__(self):\n",
    "        Compteur.compteur += 1\n",
    "        \n",
    "print(Compteur.compteur)\n",
    "a = Compteur()\n",
    "print(Compteur.compteur)\n",
    "b = Compteur()\n",
    "print(b.compteur)"
   ]
  },
  {
   "cell_type": "markdown",
   "metadata": {},
   "source": [
    "## 3. Les méthodes d'objet\n",
    "\n",
    "Lorsque les attributs sont des variables propres aux objets, les méthodes sont des actions. La structure est la même qu'une fonction normale, mais avec l'argument `self` en premier position.\n",
    "\n",
    "Prenons l'exemple d'un tableau noir, qui as la méthode `write`. "
   ]
  },
  {
   "cell_type": "code",
   "execution_count": 8,
   "metadata": {},
   "outputs": [],
   "source": [
    "class BlackBoard:\n",
    "    \n",
    "    def __init__(self):\n",
    "        self.surface = \"\"\n",
    "        \n",
    "    def write(self, text):\n",
    "        if self.surface:\n",
    "            self.surface += '\\n'\n",
    "        self.surface += text"
   ]
  },
  {
   "cell_type": "code",
   "execution_count": 10,
   "metadata": {},
   "outputs": [
    {
     "name": "stdout",
     "output_type": "stream",
     "text": [
      "Bonsoir!\n"
     ]
    },
    {
     "data": {
      "text/plain": [
       "'Bonsoir!\\nComment allez-vous ?'"
      ]
     },
     "execution_count": 10,
     "metadata": {},
     "output_type": "execute_result"
    }
   ],
   "source": [
    "board = BlackBoard()\n",
    "\n",
    "board.write('Bonsoir!')\n",
    "print(board.surface)\n",
    "board.write('Comment allez-vous ?')\n",
    "board.surface"
   ]
  },
  {
   "cell_type": "code",
   "execution_count": 11,
   "metadata": {},
   "outputs": [
    {
     "name": "stdout",
     "output_type": "stream",
     "text": [
      "Bonsoir!\n",
      "Comment allez-vous ?\n"
     ]
    }
   ],
   "source": [
    "print(board.surface)"
   ]
  },
  {
   "cell_type": "markdown",
   "metadata": {},
   "source": [
    "Petite apparté sur l'argument `self`. Tout d'abord, il n'a pas forcément besoin d'avoir ce nom, le code va compiler si vous le nommez autrement, mais c'est une convention unanimement adoptée, donc ne changez JAMAIS ce nom.\n",
    "\n",
    "Ensuite, je vous ai dit que `self` représente l'objet en train d'être créé dans le constructeur. Ici, il représente aussi l'instance. En effet, lorsque l'on écrit `board.write('...')`, cela revient à écrire `BlackBoard.write(board, '...')`. Le code d'une méthode est stocké dans la définition de la class et non dans l'objet en lui même, contrairement au attribut."
   ]
  },
  {
   "cell_type": "code",
   "execution_count": 12,
   "metadata": {},
   "outputs": [
    {
     "name": "stdout",
     "output_type": "stream",
     "text": [
      "Bonsoir!\n",
      "Comment allez-vous ?\n",
      "...\n"
     ]
    }
   ],
   "source": [
    "BlackBoard.write(board, '...')\n",
    "print(board.surface)"
   ]
  },
  {
   "cell_type": "markdown",
   "metadata": {},
   "source": [
    "Ainsi, si on demande à python de nous afficher la fonction `board.write`,"
   ]
  },
  {
   "cell_type": "code",
   "execution_count": 13,
   "metadata": {},
   "outputs": [
    {
     "name": "stdout",
     "output_type": "stream",
     "text": [
      "<bound method BlackBoard.write of <__main__.BlackBoard object at 0x10db565c0>>\n"
     ]
    }
   ],
   "source": [
    "print(board.write)"
   ]
  },
  {
   "cell_type": "markdown",
   "metadata": {},
   "source": [
    "on voit que c'est une méthode liée à la méthode `write` de la classe BlackBoard.\n",
    "\n",
    "Pour finir cet exemple, écrivons la méthode qui affiche le texte du tableau, et celui qui l'efface."
   ]
  },
  {
   "cell_type": "code",
   "execution_count": 14,
   "metadata": {},
   "outputs": [],
   "source": [
    "class BlackBoard:\n",
    "    \n",
    "    def __init__(self):\n",
    "        self.surface = \"\"\n",
    "        \n",
    "    def write(self, text):\n",
    "        if self.surface:\n",
    "            self.surface += '\\n'\n",
    "        self.surface += text\n",
    "        \n",
    "    def show(self):\n",
    "        print(self.surface)\n",
    "        \n",
    "    def erase(self):\n",
    "        self.surface = \"\""
   ]
  },
  {
   "cell_type": "code",
   "execution_count": 15,
   "metadata": {},
   "outputs": [
    {
     "name": "stdout",
     "output_type": "stream",
     "text": [
      "Bonsoir!\n",
      "Comment allez-vous ?\n",
      "Au revoir\n"
     ]
    }
   ],
   "source": [
    "board = BlackBoard()\n",
    "\n",
    "board.write('Bonsoir!')\n",
    "board.write('Comment allez-vous ?')\n",
    "board.show()\n",
    "board.erase()\n",
    "board.write('Au revoir')\n",
    "board.show()"
   ]
  },
  {
   "cell_type": "markdown",
   "metadata": {},
   "source": [
    "## 4. Méthodes spéciales\n",
    "\n",
    "Lorsque l'on parle de classe, il existe des méthodes spéciales, dont les noms sont sous un format bien précis que nous avons déjà vu. En effet, le constructeur est une des méthodes spéciales. Ces méthodes sont appelées par d'autres fonctions, dans certains cas bien précis. Par exemple, on pourra définir les opérateurs `+`, `<` ou encore utilisé `print`.\n",
    "\n",
    "Toutes ces méthodes seront entourées de deux underscore, comme `__init__` par exemple.\n",
    "\n",
    "### 4.1 \\_\\_str\\_\\_\n",
    "Reprenons l'exemple de la dernière fois, notre classe `Person`, et essayons de l'afficher."
   ]
  },
  {
   "cell_type": "code",
   "execution_count": 16,
   "metadata": {},
   "outputs": [
    {
     "name": "stdout",
     "output_type": "stream",
     "text": [
      "<__main__.Person object at 0x10deeffd0>\n"
     ]
    }
   ],
   "source": [
    "class Person:\n",
    "    \n",
    "    def __init__(self, name, age, residence):\n",
    "        self.name = name\n",
    "        self.age = age\n",
    "        self.residence = residence\n",
    "        \n",
    "bernard = Person('Bernard', 33, 'Lyon')\n",
    "print(bernard)"
   ]
  },
  {
   "cell_type": "markdown",
   "metadata": {},
   "source": [
    "C'est plutôt moche. Pour controler le comportement de `print`, il faut coder la méthode `__str__` de cette classe. Celle ci doit renvoyer une string, qui sera afficher par `print`.\n",
    "\n",
    "À notre que `__str__` sera aussi appelé si vous convertissez votre objet en string. "
   ]
  },
  {
   "cell_type": "code",
   "execution_count": 22,
   "metadata": {},
   "outputs": [
    {
     "name": "stdout",
     "output_type": "stream",
     "text": [
      "Je suis Bernard, j'ai 33 ans, et j'habite Lyon.\n"
     ]
    },
    {
     "data": {
      "text/plain": [
       "\"Je suis Bernard, j'ai 33 ans, et j'habite Lyon.\""
      ]
     },
     "execution_count": 22,
     "metadata": {},
     "output_type": "execute_result"
    }
   ],
   "source": [
    "class Person:\n",
    "    \n",
    "    def __init__(self, name, age, residence):\n",
    "        self.name = name\n",
    "        self.age = age\n",
    "        self.residence = residence\n",
    "        \n",
    "    def __str__(self):\n",
    "        return f\"Je suis {self.name}, j'ai {self.age} ans, et j'habite {self.residence}.\"\n",
    "    \n",
    "    \n",
    "bernard = Person('Bernard', 33, 'Lyon')\n",
    "print(bernard)\n",
    "str(bernard)"
   ]
  },
  {
   "cell_type": "markdown",
   "metadata": {},
   "source": [
    "### 4.2 Une liste non exhaustive de méthodes spéciales\n",
    "\n",
    "- `__getitem__`, `__setitem__` et `__delitem__` pour `objet[index]`, `objet[index] = valeur`, et `del objet[index]`;\n",
    "- `__contains__` pour coder la fonction `in`;\n",
    "- `__len__` pour la fonction `len`;\n",
    "- `__add__` pour `+`. Il faut savoir que `a + b` est équivalent de `a.__add__(b)`. La méthode `__add__` prend donc un argument en plus de `self`. Dans le même style, on a `__sub__` pour `-`, `__mul__` pour `*`, `__truediv__` pour `/`, `__floordiv__` pour `//`, `__mod__` pour `%`, `__pow__` pour `**`.\n",
    "- `__iadd__` pour `+=`, ...\n",
    "- `__eg__` pour `==`, `__ne__` pour `!=`, `__gt__` et `__ge__` pour `>` et `>=`, `__lt__` et `__le__` pour `<` et `"
   ]
  },
  {
   "cell_type": "code",
   "execution_count": null,
   "metadata": {},
   "outputs": [],
   "source": []
  }
 ],
 "metadata": {
  "kernelspec": {
   "display_name": "Python 3",
   "language": "python",
   "name": "python3"
  },
  "language_info": {
   "codemirror_mode": {
    "name": "ipython",
    "version": 3
   },
   "file_extension": ".py",
   "mimetype": "text/x-python",
   "name": "python",
   "nbconvert_exporter": "python",
   "pygments_lexer": "ipython3",
   "version": "3.7.1"
  }
 },
 "nbformat": 4,
 "nbformat_minor": 2
}
