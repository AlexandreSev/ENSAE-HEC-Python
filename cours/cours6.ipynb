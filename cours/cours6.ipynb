{
 "cells": [
  {
   "cell_type": "markdown",
   "metadata": {},
   "source": [
    "# Cours 6: Complexité, fichier et doc"
   ]
  },
  {
   "cell_type": "markdown",
   "metadata": {},
   "source": [
    "**Objectif :** Le but de ce cours est de vous donner les dernières clefs pour réussir vos projets\n",
    "\n",
    "## 1. Complexité\n",
    "\n",
    "La complexité d'un algorithme est une mesure asymptotique de son efficacité. On va donc mesurer un ordre de grandeur du nombre d'opérations effectuées en fonction de l'input. On peut parler de complexité moyenne, de complexité dans le meilleure des cas, et de complexité dans le pire des cas. C'est sur ce dernier que l'on va insister.\n",
    "\n",
    "Prenons l'exemple du tri d'une liste. La taille de l'entrée correspond à la longueur de la liste. Notons celle-ci `N`. Prenons le bubble sort, et évaluons sa complexité dans le pire des cas.\n",
    "\n",
    "Pour rappel, le bubble sort consiste à parcourir la liste tant qu'elle n'est pas triée. À chaque passage, on permute deux éléments adjacents si ils ne sont pas dans le bon ordre.\n",
    "\n",
    "Pour chaque passage, on fait entre N opérations (que des conditions `IF`) et 4 * N opérations (`IF` et permutations). On dit que c'est un `O(N)`, c'est à dire qu'il existe `k` tel que la complexité soit inférieure à `k * N`.\n",
    "\n",
    "Il reste à savoir combien de passage on fait dans le pire des cas. Il existe une preuve pour affirmer qu'après i passes, les i-derniers éléments sont triées. Du coup, le pire des cas fait au plus `N` passes. Je peux fournir un cas ou il faut faire `N` passage: une liste triée par ordre décroissant. Donc `N` passes est le pire des cas.\n",
    "\n",
    "On fait donc `N` passes coutant `O(N)`. Le cout total est donc `O(N**2)`.\n",
    "\n",
    "Quelques opérations classiques et leur cout:  \n",
    "**Pour les listes:**\n",
    "- append: 1\n",
    "- len: 1\n",
    "- [ ]: 1\n",
    "- remove: N\n",
    "- extend ou +: N1 + N2, où `Ni=len(li)` et l1.extend(l2)\n",
    "- in: N\n",
    "- ==: N\n",
    "\n",
    "**Pour les sets et les dictionnaires:**\n",
    "- add: 1\n",
    "- len: 1\n",
    "- remove: 1\n",
    "- in: 1\n",
    "- [ ]: 1\n",
    "\n",
    "**Pour les chaines de caractères: **\n",
    "- ==: N\n",
    "- in: N\n",
    "- in: N\n",
    "- +: N1 + N2"
   ]
  },
  {
   "cell_type": "markdown",
   "metadata": {},
   "source": [
    "Prenons comme autre exemple le merge sort. Le merge sort coupe la liste en 2, est appelé sur chaque sous liste puis merge le résultat.\n",
    "\n",
    "Notons `C` la fonction de complexité de cette fonction. Un appel à merge sort coupe la liste en deux (cout de 1), appelle merge sort sur chaque sous liste (cout de `2 * C(n/2)`) puis merge les résultats (cout de `N`). On a donc:\n",
    "```\n",
    "C(N) = 2 * C(N/2) + N\n",
    "```\n",
    "\n",
    "Ceci se résoud mathématiquement et donne `C(N) = N * log(N)` à une constante près."
   ]
  },
  {
   "cell_type": "markdown",
   "metadata": {},
   "source": [
    "## 2. Les fichiers\n",
    "\n",
    "### 2.1 Les fichiers de code\n",
    "\n",
    "Nous avons travaillé sur des notebooks pour l'instant, mais nous allons passé sur des fichiers. Un projet peut être écrit sur plusieurs fichiers pour une question de compréhensibilité. Imaginons un programme de Sudoku. Un premier fichier peut contenir la classe Sudoku, qui modélise le jeu. Un second peut contenir l'interface graphique pour intérargir avec le sudoku. Un troisième peut contenir un programme pour résoudre le sudoku.\n",
    "\n",
    "Vous pouvez donc organiser votre code pour le rendre plus compréhensible. D'un fichier à l'autre, on peut importer des fonctions et des classes. On peut aussi importer des variables, mais cela est déconseillé, mise à part pour un fichier de configuration.\n",
    "\n",
    "On importe une fonction d'un fichier comme un module (c'est en fait exactement la même chose). Si le fichier file1 contient la fonction foo, on import foo comme suit:\n",
    "```\n",
    "from file1 import foo\n",
    "```\n",
    "\n",
    "On peut bien entendu mettre les fichiers de code dans des dossiers différents. Dans ce cas, il faut créer un fichier `__init__.py`, qui peut être vide. Il indique juste à python que ce dossier contient du code."
   ]
  },
  {
   "cell_type": "markdown",
   "metadata": {},
   "source": [
    "### 2.2 Les fichiers de données\n",
    "\n",
    "Durant vos projets, vous pourrez avoir besoin de stocker des données en dur. Pour cela, vous avez plusieurs moyens:\n",
    "\n",
    "- Si vous avez juste besoin de texte, vous pouvez travailler avec le module natif de python:\n",
    "```\n",
    "with open('file_to_path', 'w') as fp:\n",
    "    fp.write(\"J'ecris dans un fichier\")\n",
    "```\n",
    "Lorsque vous écrivez dans un fichier, il faut être en mode 'w' pour write. Pour lire, il faut être en mode 'r' pour read. Il existe alors une méthode readline. Je vous invite à lire la doc (cf partie suivante) pour voir comment cela fonctionne\n",
    "\n",
    "- Si vous avez besoin de stocker des classes, vous pouvez utiliser le module pickle:\n",
    "```\n",
    "with open('file_to_path', 'w') as fp:\n",
    "    pickle.dump(class_to_save, fp)\n",
    "```\n",
    "Pour le charger, il faut passer en mode 'r', et la fonction pickle.load:\n",
    "```\n",
    "with open('file_to_path', 'w') as fp:\n",
    "    x = pickle.load(fp)\n",
    "```"
   ]
  },
  {
   "cell_type": "markdown",
   "metadata": {},
   "source": [
    "## 3. La doc\n",
    "\n",
    "Google est le meilleur ami du programmeur. Il est possible de trouver la documentation de tous les modules disponibles sur internet. Typiquement, la doc de sklearn est très bien faite.\n",
    "\n",
    "De plus, la plupart des erreurs ont déjà été fait par d'autres. Vous pouvez trouver des réponses précieuses en copiant collant le message d'erreur sur Google."
   ]
  },
  {
   "cell_type": "code",
   "execution_count": null,
   "metadata": {},
   "outputs": [],
   "source": []
  }
 ],
 "metadata": {
  "kernelspec": {
   "display_name": "Python 3",
   "language": "python",
   "name": "python3"
  },
  "language_info": {
   "codemirror_mode": {
    "name": "ipython",
    "version": 3
   },
   "file_extension": ".py",
   "mimetype": "text/x-python",
   "name": "python",
   "nbconvert_exporter": "python",
   "pygments_lexer": "ipython3",
   "version": "3.7.1"
  }
 },
 "nbformat": 4,
 "nbformat_minor": 2
}
