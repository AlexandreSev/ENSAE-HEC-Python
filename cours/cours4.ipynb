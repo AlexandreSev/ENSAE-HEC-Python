{
 "cells": [
  {
   "cell_type": "markdown",
   "metadata": {},
   "source": [
    "# Cours 3: Récursion et (début des) Classes"
   ]
  },
  {
   "cell_type": "markdown",
   "metadata": {},
   "source": [
    "**Objectif :** Le but de ce cours est d'approfondir la notion de fonction récursive, et d'introduire la notion de classe.\n",
    "\n",
    "## 1. Rappel\n",
    "\n",
    "Les fonctions sont définies avec le mot clef def, suivi du nom de la fonction, des arguments et de deux points. Ensuite, toute les instructions de la fonction sont indentées, i.e. sont précédées de quatres espaces.  \n",
    "Si la fonction renvoit un résultat, il faut utiliser le mot clef `return`."
   ]
  },
  {
   "cell_type": "code",
   "execution_count": 1,
   "metadata": {},
   "outputs": [],
   "source": [
    "def ask_int(description):\n",
    "    result = input(description)\n",
    "    return int(result)"
   ]
  },
  {
   "cell_type": "markdown",
   "metadata": {},
   "source": [
    "Une fonction récursive est une fonction qui s'appelle elle même.  \n",
    "Par exemple, dans le cas d'un quicksort d'une liste, le première appel va créer deux listes plus petites, puis trier ces deux listes plus petites en faisant un quicksort sur ces listes."
   ]
  },
  {
   "cell_type": "code",
   "execution_count": 2,
   "metadata": {},
   "outputs": [],
   "source": [
    "def quicksort(l):\n",
    "    if len(l) < 2:\n",
    "        return l\n",
    "    pivot = l[0]\n",
    "    smaller = []\n",
    "    bigger = []\n",
    "    for elem in l[1:]:\n",
    "        if elem <= pivot:\n",
    "            smaller.append(elem)\n",
    "        else:\n",
    "            bigger.append(elem)\n",
    "    return quicksort(smaller) + [pivot] + quicksort(bigger)"
   ]
  },
  {
   "cell_type": "code",
   "execution_count": 4,
   "metadata": {},
   "outputs": [
    {
     "name": "stdout",
     "output_type": "stream",
     "text": [
      "[98, 79, 21, 32, 2, 43, 91, 21, 26, 62, 89, 89, 32, 47, 23, 75, 63, 95, 61, 32]\n",
      "[2, 21, 21, 23, 26, 32, 32, 32, 43, 47, 61, 62, 63, 75, 79, 89, 89, 91, 95, 98]\n"
     ]
    }
   ],
   "source": [
    "import random\n",
    "\n",
    "l = [random.randint(1, 101) for _ in range(20)]\n",
    "print(l)\n",
    "print(quicksort(l))"
   ]
  },
  {
   "cell_type": "markdown",
   "metadata": {},
   "source": [
    "## 2. Comment trouver une récursion ?\n",
    "\n",
    "### a. Un exemple: le quicksort\n",
    "\n",
    "Les fonctions récursives ont un mode de fonctionnement très répétitif. En effet, lors de l'execution d'un programme, une fonction récursive est appelée plusieurs fois, ce qui veut dire que l'on execute plusieurs fois les mêmes instructions. Cependant, les arguments sont différents d'un appel à l'autre. Si ce n'est pas le cas, on est dans une boucle infinie.\n",
    "\n",
    "Grâce à ce fonctionnement répétitif, on peut voir un algorithme récursif comme un enchainement d'états. Certains états sont terminaux, c'est à dire qu'il retourne immédiatement un résultat, d'autres mèneront vers d'autres états.\n",
    "\n",
    "Reprenons l'exemple du quicksort, et déroulons sont exécution sur un exemple simple.\n",
    "\n",
    "Soit `l = [4, 7, 2, 5, 9]`.  \n",
    "`quicksort(l)` va créer deux listes: `smaller = [2]` et `bigger = [7, 5, 9]`. Il appelle ensuite `quicksort(smaller)`.  \n",
    "`quicksort([2])` est un état terminal. En effet, `len([2]) < 2`, donc on retourne immédiatement `[2]`.  \n",
    "Nous avons donc, avant l'appel de `quicksort(bigger)` un début de liste triée: `[2, 4]`. Nous appelons ensuite `quicksort(bigger)`, soit `quicksort([7, 5, 9])`.  \n",
    "On répète toute les étapes avec `[7, 5, 9]`. Le pivot est `7`, on crée `smaller = [5]` et `bigger = [9]`. Ces deux listes ont une longueur inférieure à 2, donc l'appel de quicksort sur celles ci renvoit immédiatement elles-mêmes. On a donc `quicksort([7, 5, 9]) = [5, 7, 9]`.\n",
    "\n",
    "Si on reprend `quicksort(l)`, on a donc:  \n",
    "    `quicksort(l) = quicksort([2]) + [4] + quicksort([7, 5, 9]) = [2] + [4] + [5, 7, 9] = [2, 4, 5, 7, 9]`\n",
    "\n",
    "Si on résume ceci sur un schéma:\n",
    "\n",
    "![quicksort([4, 7, 2, 5, 9])](cours4_ressources/quicksort.png)\n",
    "\n",
    "On peut remarquer qu'à chaque étape, on appelle `quicksort` sur une liste plus petite. Puisque que les états terminaux sont les états avec des listes de longueur inférieure à 2, cela semble cohérent.\n",
    "\n",
    "Plus que cohérent, cela est nécessaire à ce que l'algorithme converge. Pour prouver cela, faisons un peu de théorie.\n",
    "\n",
    "### b. Un peu de théorie\n",
    "\n",
    "Comment prouve-t-on qu'un algorithme récursif fait ce que l'on veut qu'il fasse ?  \n",
    "Il y a deux étapes:\n",
    "- on prouve que l'algorithme termine\n",
    "- on prouve qu'il renvoit le bon résultat\n",
    "\n",
    "#### Prouver qu'un algorithme termine\n",
    "\n",
    "On va procéder par induction, i.e. on va le prouver pour des cas simples, puis on va prouver que si c'est vrai pour certains cas, c'est aussi vrai pour des cas légèrement plus complexes.\n",
    "\n",
    "Il faut donc définir la complexité d'un cas. Pour le quicksort, on va prendre la longueur de la liste. C'est sur ce critère que va porter l'induction. Prouvons les cas simples:  \n",
    "- si l == [], alors quicksort(l) termine\n",
    "- si l == [a], pour tout a, quicksort(l) termine\n",
    "\n",
    "Supposons que l'on sache prouver que l'algorithme termine pour toutes listes de longueur inférieure à n et montrons qu'il termine encore pour une liste de longueur n+1.  \n",
    "Soit l une liste de longueur n+1. `quicksort(l)` va créer deux listes. Dans le pire des cas, ces listes seront de taille n, puisque l'on retire le premier élément de l pour les créer.  \n",
    "Par hypothèse d'induction, l'appel de `quicksort` sur ces listes plus petites va terminer. Par conséquent, `quicksort(l)` va terminer aussi.\n",
    "\n",
    "#### Prouver qu'un algorithme donne le bon résultat\n",
    "\n",
    "On procède exactement de la même façon:\n",
    "\n",
    "Notre algorithme fonctionne pour les listes vides et les listes de taille 1.\n",
    "\n",
    "Si notre algorithme fonctionne pour les listes de taille inférieure ou égale à n. Soit l une liste de taille n+1. Soit p le pivot du quicksort. Les deux listes smaller et bigger auront n ou moins éléments. Elles sont donc triées avec l'appel à quicksort. Nous avons donc les éléments plus petits que p triés, les éléments plus grands que p triés, que nous concatenons dans le bon ordre avec le pivot. L'algorithme renvoit donc la liste triée.\n",
    "\n",
    "**Note:** Il est possible de faire les deux étapes en une seule induction."
   ]
  },
  {
   "cell_type": "markdown",
   "metadata": {},
   "source": [
    "## 3. Introduction aux objets et aux classes\n",
    "\n",
    "Un objet est une variable qui peut contenir elle même des variables et des fonctions. Typiquement, les listes sont des objets qui contiennent des fonctions, `append` par exemple. Les dictionnaires et les sets sont d'autres types d'objet.\n",
    "\n",
    "Les classes sont un moyen de créer ses propres objets. Une classe est un modèle, dans lequel on défini toutes les variables contenu dans l'objet, nommées attributs, et toutes les fonctions, nommées méthodes. Oublions les méthodes pour l'instant.\n",
    "\n",
    "Les classes sont donc un modèle pour créer des objets. Pour différencier le modèle des objets, on parle de classe et d'instance de la classe.\n",
    "\n",
    "Nous allons donc définir nos classes avec un certain nombre d'attributs. Prenons l'exemple d'un objet modélisant une personne. Nous allons lui attribuer un prénom, un nom et un âge. Cela se fait comme ceci:"
   ]
  },
  {
   "cell_type": "code",
   "execution_count": 5,
   "metadata": {},
   "outputs": [],
   "source": [
    "class Personne:\n",
    "    \n",
    "    def __init__(self, prenom, nom, age):\n",
    "        self.prenom = prenom\n",
    "        self.nom = nom\n",
    "        self.age = age"
   ]
  },
  {
   "cell_type": "markdown",
   "metadata": {},
   "source": [
    "Grâce à ce code, nous pouvons instancier des personnes avec un prenom, un nom et un age."
   ]
  },
  {
   "cell_type": "code",
   "execution_count": 9,
   "metadata": {},
   "outputs": [
    {
     "name": "stdout",
     "output_type": "stream",
     "text": [
      "Alexandre Sevin a 24 ans.\n"
     ]
    }
   ],
   "source": [
    "alex = Personne('Alexandre', 'Sevin', 24)\n",
    "\n",
    "print(alex.prenom, alex.nom, 'a', alex.age, 'ans.')"
   ]
  },
  {
   "cell_type": "markdown",
   "metadata": {},
   "source": [
    "Pour accéder ensuite aux attributs d'une personne, on utilise un point comme ci dessus.\n",
    "\n",
    "Reprenons le code pour définir une personne. Pour définir une classe, il faut utiliser le mot clef `class` suivi du nom de la classe. Ensuite, on crée une fonction `__init__` qui va être exécuter chaque fois que l'on crée une nouvelle instance de cette classe. Cette méthode doit forcément commencer par l'argument self, qui représente l'instance de la classe.\n",
    "\n",
    "Ici, pour instancier une personne, il faut 3 arguments obligatoires. Ensuite, on attribut à l'instance de l'objet 3 attributs, portant le même nom que ces arguments. On aurait aussi pu écrire:\n",
    "\n",
    "```python\n",
    "class Personne:\n",
    "    \n",
    "    def __init__(self, arg1, arg2, arg3):\n",
    "        self.prenom = arg1\n",
    "        self.nom = arg2\n",
    "        self.age = arg3\n",
    "```\n",
    "\n",
    "Cela revient au même, mais c'est moins compréhensible.\n",
    "\n",
    "On a vu qu'une petite partie des classes, mais on ne verra la suite que la semaine prochaine. Voici juste un exemple un peu plus intéressant de classes pour finir."
   ]
  },
  {
   "cell_type": "markdown",
   "metadata": {},
   "source": [
    "## 4. Les graphs et les arbres binaires\n",
    "\n",
    "Les graphs sont une structure de données dans laquelle il y a des noeuds reliés par des liens. Chaque noeud et chaque lien peuvent avoir une étiquette. Les liens peuvent être ou non orientés. \n",
    "\n",
    "Par exemple, un réseau social est un graph. Chaque personne est un noeud, et on crée un lien non orienté entre deux personnes. \n",
    "\n",
    "Un arbre binaire est un graph orienté, non cyclique, tel que tous les noeuds du graph ont au plus deux fils. En image, c'est le schéma suivant:\n",
    "\n",
    "![arbre](cours4_ressources/arbre.png)\n",
    "\n",
    "On définit un arbre comme suit:"
   ]
  },
  {
   "cell_type": "code",
   "execution_count": 10,
   "metadata": {},
   "outputs": [],
   "source": [
    "class Node:\n",
    "    \n",
    "    def __init__(self, value, left=None, right=None):\n",
    "        self.value = value\n",
    "        self.left = left\n",
    "        self.right = right"
   ]
  },
  {
   "cell_type": "markdown",
   "metadata": {},
   "source": [
    "Ici, `left` et `right` sont aussi des nodes, qui eux aussi peuvent avoir leurs propres attributs `left` et `right`, et ainsi de suite. Cette structure est souvent utilisé avec des fonctions récursives."
   ]
  }
 ],
 "metadata": {
  "kernelspec": {
   "display_name": "Python 3",
   "language": "python",
   "name": "python3"
  },
  "language_info": {
   "codemirror_mode": {
    "name": "ipython",
    "version": 3
   },
   "file_extension": ".py",
   "mimetype": "text/x-python",
   "name": "python",
   "nbconvert_exporter": "python",
   "pygments_lexer": "ipython3",
   "version": "3.7.2"
  }
 },
 "nbformat": 4,
 "nbformat_minor": 2
}
