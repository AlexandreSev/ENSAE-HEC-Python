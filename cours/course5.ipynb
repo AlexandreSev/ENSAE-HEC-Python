{
 "cells": [
  {
   "cell_type": "markdown",
   "metadata": {},
   "source": [
    "# Cours 5: les Classes\n",
    "\n",
    "**objectif**: l'objectif de ce cours est d'introduire la notion de classe"
   ]
  },
  {
   "cell_type": "markdown",
   "metadata": {},
   "source": [
    "## 1. Introduction\n",
    "\n",
    "Nous avons déjà vu une multitude de types de variables, comme les entiers ou les booléens par exemple. Parmis ceux-ci, il y a des types plus complexes que d'autres. Prenons l'exemple des listes. Une fois qu'une variable est définit comme une liste, nous avons accès à un certain nombre de fonction pour modifier la valuer de celle-ci. On peut citer `append` qui ajoute un élément à la fin de la liste, ou encore `[ ]` qui permet d'accéder et de modifier n'importe quelle valeur de la liste.\n",
    "\n",
    "Dans ce cours, nous allons voir comment inventer de nouveaux types de variables et définir leur comportement."
   ]
  },
  {
   "cell_type": "markdown",
   "metadata": {},
   "source": [
    "## 2. Définir une classe\n",
    "\n",
    "Les classes sont un moyen de créer ses propres objets. Une classe est un modèle, un plan, dans lequel on définit l'architecture des objets qui seront de ce type. Ces objets peuvent eux même contenir d'autres variables, que l'on nommera attribut, ainsi que des fonctions que l'on nommera méthodes.\n",
    "\n",
    "Les classes sont donc des modèles pour créer des objets. Une fois une nouvelle classe définit, on peut créer des objets qui suivent ce modèle. Pour différencier le modèle des objets, on parle de classe et d'instance de la classe.\n",
    "\n",
    "Prenons un exemple: créons un objet modélisant une personne. Le nouveau type sera nommé Person. Créons aussi une instance."
   ]
  },
  {
   "cell_type": "code",
   "execution_count": 1,
   "metadata": {},
   "outputs": [],
   "source": [
    "class Person:\n",
    "    pass"
   ]
  },
  {
   "cell_type": "code",
   "execution_count": 3,
   "metadata": {},
   "outputs": [
    {
     "name": "stdout",
     "output_type": "stream",
     "text": [
      "<__main__.Person object at 0x111563160>\n"
     ]
    }
   ],
   "source": [
    "alex = Person()\n",
    "print(alex)"
   ]
  },
  {
   "cell_type": "markdown",
   "metadata": {},
   "source": [
    "Une classe se définit gràce au mot clef `class`, suivi du nom et de deux points. Le `pass` doit être présent uniquement lorsque le corps de la classe est vide.\n",
    "\n",
    "En effet, pour l'instant, la classe `Person` est vide. On peut créer des instances de cette classe en appelant ce que l'on appelle le constructeur de la classe qui porte le même nom que celle-ci, suivi de parenthèses (`Person()`). Nous avons ainsi un objet de type `Person`.\n",
    "\n",
    "Pour rendre cette classe un peu plus intéressante, nous allons attribuer un prénom à chaque instance créée. Pour cela, nous allons modifier le constructeur, qui se nomme `__init__` dans la définition de la classe."
   ]
  },
  {
   "cell_type": "code",
   "execution_count": 12,
   "metadata": {},
   "outputs": [],
   "source": [
    "class Person:\n",
    "    \n",
    "    def __init__(self, firstname_argument):\n",
    "        self.firstname_attribut = firstname_argument"
   ]
  },
  {
   "cell_type": "markdown",
   "metadata": {},
   "source": [
    "Ici, nous avons créé une méthode `__init__` dans le corps de notre classe. C'est cette fonction qui va être appelé quand nous allons crée une instance de la classe.\n",
    "\n",
    "Cette méthode prend 2 arguments:\n",
    "    - `self`, qui sera présent dans toutes les méthodes associées à la classe. Cette argument représente l'objet qui est en train d'être créé. Nous reviendrons plus en détail dessus un peu plus loin.\n",
    "    - `firstname_argument` qui sera le prénom de la personne.\n",
    "    \n",
    "Dans le corps de la fonction `__init__`, on définit un attribut. Cela signifie que l'on sauvegarde une variable dont la valeur changera dans chaque instance de la classe. Nous l'avons nommé `firstname_attribut`. On pourra par la suite accéder à cette valeur comme suit:"
   ]
  },
  {
   "cell_type": "code",
   "execution_count": 13,
   "metadata": {},
   "outputs": [
    {
     "name": "stdout",
     "output_type": "stream",
     "text": [
      "<__main__.Person object at 0x1115f3080>\n",
      "Alex\n"
     ]
    }
   ],
   "source": [
    "alex = Person(firstname_argument='Alex')\n",
    "print(alex)\n",
    "print(alex.firstname_attribut)"
   ]
  },
  {
   "cell_type": "markdown",
   "metadata": {},
   "source": [
    "Attention, nous ne définissons pas la valeur de l'argument `self` lorsque l'on crée un objet de type `Person`.\n",
    "\n",
    "Nous pouvons de même attribuer un nom et un age à chaque instance de l'objet."
   ]
  },
  {
   "cell_type": "code",
   "execution_count": 14,
   "metadata": {},
   "outputs": [],
   "source": [
    "class Person:\n",
    "    \n",
    "    def __init__(self, firstname_argument, lastname, age):\n",
    "        self.firstname_attribut = firstname_argument\n",
    "        self.lastname = lastname\n",
    "        self.age = age"
   ]
  },
  {
   "cell_type": "markdown",
   "metadata": {},
   "source": [
    "Nous pouvons créér plusieurs instances de cette classe, chacune ayant un prénom, un nom et un age différent."
   ]
  },
  {
   "cell_type": "code",
   "execution_count": 16,
   "metadata": {},
   "outputs": [
    {
     "name": "stdout",
     "output_type": "stream",
     "text": [
      "Alexandre Sevin a 25 ans.\n",
      "Aurélien Dupont a 53 ans.\n"
     ]
    }
   ],
   "source": [
    "alex = Person('Alexandre', 'Sevin', 25)\n",
    "bob = Person('Aurélien', 'Dupont', 53)\n",
    "\n",
    "print(f'{alex.firstname_attribut} {alex.lastname} a {alex.age} ans.')\n",
    "print(f'{bob.firstname_attribut} {bob.lastname} a {bob.age} ans.')"
   ]
  },
  {
   "cell_type": "markdown",
   "metadata": {},
   "source": [
    "## 3. Les premières méthodes\n",
    "\n",
    "Nous avons vu comment créer des attributs lors de la construction d'une instance. Maintenant, nous allons voir comment créer des fonctions à l'intérieur de la définition de la classe. \n",
    "\n",
    "Par exemple, écrivons une fonction qui affiche le prénom, le nom et l'age de la personne:"
   ]
  },
  {
   "cell_type": "code",
   "execution_count": 17,
   "metadata": {},
   "outputs": [],
   "source": [
    "class Person:\n",
    "    \n",
    "    def __init__(self, firstname_argument, lastname, age):\n",
    "        self.firstname_attribut = firstname_argument\n",
    "        self.lastname = lastname\n",
    "        self.age = age\n",
    "        \n",
    "    def print_name_and_age(self):\n",
    "        print(f\"Bonjour, je suis {self.firstname_attribut} {self.lastname}, j'ai {self.age} ans\")"
   ]
  },
  {
   "cell_type": "markdown",
   "metadata": {},
   "source": [
    "Maintenant, nous pouvons appeler cette méthode sur chaque instance de notre classe:"
   ]
  },
  {
   "cell_type": "code",
   "execution_count": 18,
   "metadata": {},
   "outputs": [
    {
     "name": "stdout",
     "output_type": "stream",
     "text": [
      "Bonjour, je suis Alexandre Sevin, j'ai 25 ans\n"
     ]
    }
   ],
   "source": [
    "alex = Person('Alexandre', 'Sevin', 25)\n",
    "alex.print_name_and_age()"
   ]
  },
  {
   "cell_type": "markdown",
   "metadata": {},
   "source": [
    "Comme pour le `__init__`, nous ne donnons pas de valeur à `self` lors de l'appel. Il correspond à l'objet sur lequel on appelle cette méthode. La dernière ligne de code est équivalente à:"
   ]
  },
  {
   "cell_type": "code",
   "execution_count": 19,
   "metadata": {},
   "outputs": [
    {
     "name": "stdout",
     "output_type": "stream",
     "text": [
      "Bonjour, je suis Alexandre Sevin, j'ai 25 ans\n"
     ]
    }
   ],
   "source": [
    "Person.print_name_and_age(alex)"
   ]
  },
  {
   "cell_type": "markdown",
   "metadata": {},
   "source": [
    "Puisque la méthode est appelé depuis la classe et non une instance de la classe, il faut préciser l'argument `self`."
   ]
  },
  {
   "cell_type": "markdown",
   "metadata": {},
   "source": [
    "Une bonne pratique de code consiste à ne jamais modifier les valeurs des attributs d'un object en dehors des méthodes de celle-ci. Cependant, cela est possible de la façon suivante:"
   ]
  },
  {
   "cell_type": "code",
   "execution_count": 20,
   "metadata": {},
   "outputs": [
    {
     "name": "stdout",
     "output_type": "stream",
     "text": [
      "Bonjour, je suis Alexandre Sevin, j'ai 26 ans\n"
     ]
    }
   ],
   "source": [
    "alex.age += 1\n",
    "alex.print_name_and_age()"
   ]
  },
  {
   "cell_type": "markdown",
   "metadata": {},
   "source": [
    "Une meilleure façon de faire le même effet serait de créer une méthode faisant vieillir une personne d'un an:"
   ]
  },
  {
   "cell_type": "code",
   "execution_count": 21,
   "metadata": {},
   "outputs": [],
   "source": [
    "class Person:\n",
    "    \n",
    "    def __init__(self, firstname_argument, lastname, age):\n",
    "        self.firstname_attribut = firstname_argument\n",
    "        self.lastname = lastname\n",
    "        self.age = age\n",
    "        \n",
    "    def print_name_and_age(self):\n",
    "        print(f\"Bonjour, je suis {self.firstname_attribut} {self.lastname}, j'ai {self.age} ans\")\n",
    "        \n",
    "    def birthday(self):\n",
    "        self.age += 1"
   ]
  },
  {
   "cell_type": "code",
   "execution_count": 23,
   "metadata": {},
   "outputs": [
    {
     "name": "stdout",
     "output_type": "stream",
     "text": [
      "Bonjour, je suis Alexandre Sevin, j'ai 25 ans\n",
      "Bonjour, je suis Alexandre Sevin, j'ai 26 ans\n"
     ]
    }
   ],
   "source": [
    "alex = Person('Alexandre', 'Sevin', 25)\n",
    "alex.print_name_and_age()\n",
    "alex.birthday()\n",
    "alex.print_name_and_age()"
   ]
  },
  {
   "cell_type": "markdown",
   "metadata": {},
   "source": [
    "## 4. Un exemple plus pertinent: les tour de Hanoi\n",
    "\n",
    "Dans le dernier TD, nous avons vu comment résoudre le jeu des tours de Hanoi sans utilisé de classe. Maintenant, nous pouvons refactoriser le code pour qu'il devienne plus lisible:"
   ]
  },
  {
   "cell_type": "code",
   "execution_count": 25,
   "metadata": {},
   "outputs": [],
   "source": [
    "class HanoiTower:\n",
    "    \n",
    "    def __init__(self, n_disc=5):\n",
    "        self.towers = [list(range(n_discs)), [], []]\n",
    "\n",
    "    def move_one_disc(self, start, end):\n",
    "        '''Move one disc from start peg to end peg'''\n",
    "        print(f'Will move 1 discs from {start} to {end}')\n",
    "        self.towers[end].append(self.towers[start][-1])\n",
    "        self.towers[start] = self.towers[start][:-1]\n",
    "\n",
    "    def move_discs(self, start, end, tmp, n_to_move):\n",
    "        '''Move n_to_move discs from the start peg to the end peg. tmp is the indice of the third peg.'''\n",
    "        if n_to_move == 1:\n",
    "            self.move_one_disc(start, end)\n",
    "        else:\n",
    "            self.move_discs(start, tmp, end, n_to_move - 1)\n",
    "            self.move_one_disc(start, end)\n",
    "            self.move_discs(tmp, end, start, n_to_move - 1)\n",
    "\n",
    "    def solve(self):\n",
    "        self.move_discs(0, 2, 1, n_discs)\n",
    "        print('Solved')\n",
    "        print(self.towers)"
   ]
  },
  {
   "cell_type": "code",
   "execution_count": 26,
   "metadata": {},
   "outputs": [
    {
     "name": "stdout",
     "output_type": "stream",
     "text": [
      "Will move 1 discs from 0 to 2\n",
      "Will move 1 discs from 0 to 1\n",
      "Will move 1 discs from 2 to 1\n",
      "Will move 1 discs from 0 to 2\n",
      "Will move 1 discs from 1 to 0\n",
      "Will move 1 discs from 1 to 2\n",
      "Will move 1 discs from 0 to 2\n",
      "Will move 1 discs from 0 to 1\n",
      "Will move 1 discs from 2 to 1\n",
      "Will move 1 discs from 2 to 0\n",
      "Will move 1 discs from 1 to 0\n",
      "Will move 1 discs from 2 to 1\n",
      "Will move 1 discs from 0 to 2\n",
      "Will move 1 discs from 0 to 1\n",
      "Will move 1 discs from 2 to 1\n",
      "Will move 1 discs from 0 to 2\n",
      "Will move 1 discs from 1 to 0\n",
      "Will move 1 discs from 1 to 2\n",
      "Will move 1 discs from 0 to 2\n",
      "Will move 1 discs from 1 to 0\n",
      "Will move 1 discs from 2 to 1\n",
      "Will move 1 discs from 2 to 0\n",
      "Will move 1 discs from 1 to 0\n",
      "Will move 1 discs from 1 to 2\n",
      "Will move 1 discs from 0 to 2\n",
      "Will move 1 discs from 0 to 1\n",
      "Will move 1 discs from 2 to 1\n",
      "Will move 1 discs from 0 to 2\n",
      "Will move 1 discs from 1 to 0\n",
      "Will move 1 discs from 1 to 2\n",
      "Will move 1 discs from 0 to 2\n",
      "Solved\n",
      "[[], [], [0, 1, 2, 3, 4]]\n"
     ]
    }
   ],
   "source": [
    "game = HanoiTower(5)\n",
    "game.solve()"
   ]
  },
  {
   "cell_type": "code",
   "execution_count": null,
   "metadata": {},
   "outputs": [],
   "source": []
  }
 ],
 "metadata": {
  "kernelspec": {
   "display_name": "Python 3",
   "language": "python",
   "name": "python3"
  },
  "language_info": {
   "codemirror_mode": {
    "name": "ipython",
    "version": 3
   },
   "file_extension": ".py",
   "mimetype": "text/x-python",
   "name": "python",
   "nbconvert_exporter": "python",
   "pygments_lexer": "ipython3",
   "version": "3.7.1"
  }
 },
 "nbformat": 4,
 "nbformat_minor": 2
}
